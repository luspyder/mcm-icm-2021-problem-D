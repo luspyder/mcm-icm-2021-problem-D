{
 "metadata": {
  "language_info": {
   "codemirror_mode": {
    "name": "ipython",
    "version": 3
   },
   "file_extension": ".py",
   "mimetype": "text/x-python",
   "name": "python",
   "nbconvert_exporter": "python",
   "pygments_lexer": "ipython3",
   "version": "3.7.0-final"
  },
  "orig_nbformat": 2,
  "kernelspec": {
   "name": "python3",
   "display_name": "Python 3",
   "language": "python"
  }
 },
 "nbformat": 4,
 "nbformat_minor": 2,
 "cells": [
  {
   "cell_type": "code",
   "execution_count": 17,
   "metadata": {},
   "outputs": [],
   "source": [
    "import pandas as pd\n",
    "data1=pd.read_csv('./about factor.csv')\n",
    "data2=pd.read_csv('problem1 factors.csv')\n",
    "data3=pd.read_csv('./2021_ICM_Problem_D_Data/influence_data.csv',encoding='gbk')"
   ]
  },
  {
   "cell_type": "code",
   "execution_count": 18,
   "metadata": {},
   "outputs": [
    {
     "output_type": "execute_result",
     "data": {
      "text/plain": [
       "   influencer_id          ...          follower_active_start\n",
       "0         759491          ...                           1980\n",
       "1          25462          ...                           1990\n",
       "2          66915          ...                           1990\n",
       "3          71209          ...                           1990\n",
       "4          91438          ...                           1990\n",
       "\n",
       "[5 rows x 8 columns]"
      ],
      "text/html": "<div>\n<style scoped>\n    .dataframe tbody tr th:only-of-type {\n        vertical-align: middle;\n    }\n\n    .dataframe tbody tr th {\n        vertical-align: top;\n    }\n\n    .dataframe thead th {\n        text-align: right;\n    }\n</style>\n<table border=\"1\" class=\"dataframe\">\n  <thead>\n    <tr style=\"text-align: right;\">\n      <th></th>\n      <th>influencer_id</th>\n      <th>influencer_name</th>\n      <th>influencer_main_genre</th>\n      <th>influencer_active_start</th>\n      <th>follower_id</th>\n      <th>follower_name</th>\n      <th>follower_main_genre</th>\n      <th>follower_active_start</th>\n    </tr>\n  </thead>\n  <tbody>\n    <tr>\n      <th>0</th>\n      <td>759491</td>\n      <td>The Exploited</td>\n      <td>Pop/Rock</td>\n      <td>1980</td>\n      <td>74</td>\n      <td>Special Duties</td>\n      <td>Pop/Rock</td>\n      <td>1980</td>\n    </tr>\n    <tr>\n      <th>1</th>\n      <td>25462</td>\n      <td>Tricky</td>\n      <td>Electronic</td>\n      <td>1990</td>\n      <td>335</td>\n      <td>PJ Harvey</td>\n      <td>Pop/Rock</td>\n      <td>1990</td>\n    </tr>\n    <tr>\n      <th>2</th>\n      <td>66915</td>\n      <td>Bob Dylan</td>\n      <td>Pop/Rock</td>\n      <td>1960</td>\n      <td>335</td>\n      <td>PJ Harvey</td>\n      <td>Pop/Rock</td>\n      <td>1990</td>\n    </tr>\n    <tr>\n      <th>3</th>\n      <td>71209</td>\n      <td>Leonard Cohen</td>\n      <td>Pop/Rock</td>\n      <td>1950</td>\n      <td>335</td>\n      <td>PJ Harvey</td>\n      <td>Pop/Rock</td>\n      <td>1990</td>\n    </tr>\n    <tr>\n      <th>4</th>\n      <td>91438</td>\n      <td>The Gun Club</td>\n      <td>Pop/Rock</td>\n      <td>1980</td>\n      <td>335</td>\n      <td>PJ Harvey</td>\n      <td>Pop/Rock</td>\n      <td>1990</td>\n    </tr>\n  </tbody>\n</table>\n</div>"
     },
     "metadata": {},
     "execution_count": 18
    }
   ],
   "source": [
    "data3.head()"
   ]
  },
  {
   "cell_type": "code",
   "execution_count": 10,
   "metadata": {},
   "outputs": [
    {
     "output_type": "execute_result",
     "data": {
      "text/plain": [
       "   Unnamed: 0       ...        in age compete\n",
       "0          74       ...                  1241\n",
       "1         589       ...                  1241\n",
       "2        1589       ...                   991\n",
       "3        2578       ...                  1241\n",
       "4        2750       ...                  1413\n",
       "\n",
       "[5 rows x 9 columns]"
      ],
      "text/html": "<div>\n<style scoped>\n    .dataframe tbody tr th:only-of-type {\n        vertical-align: middle;\n    }\n\n    .dataframe tbody tr th {\n        vertical-align: top;\n    }\n\n    .dataframe thead th {\n        text-align: right;\n    }\n</style>\n<table border=\"1\" class=\"dataframe\">\n  <thead>\n    <tr style=\"text-align: right;\">\n      <th></th>\n      <th>Unnamed: 0</th>\n      <th>1:distance importance</th>\n      <th>field num</th>\n      <th>in age field num</th>\n      <th>in age avg rank</th>\n      <th>in age follower num</th>\n      <th>out age follower num</th>\n      <th>trans field follower num</th>\n      <th>in age compete</th>\n    </tr>\n  </thead>\n  <tbody>\n    <tr>\n      <th>0</th>\n      <td>74</td>\n      <td>1.455198</td>\n      <td>2808</td>\n      <td>98</td>\n      <td>751.333333</td>\n      <td>0</td>\n      <td>0</td>\n      <td>0</td>\n      <td>1241</td>\n    </tr>\n    <tr>\n      <th>1</th>\n      <td>589</td>\n      <td>1.471529</td>\n      <td>2808</td>\n      <td>98</td>\n      <td>554.333333</td>\n      <td>0</td>\n      <td>0</td>\n      <td>0</td>\n      <td>1241</td>\n    </tr>\n    <tr>\n      <th>2</th>\n      <td>1589</td>\n      <td>1.414214</td>\n      <td>28</td>\n      <td>29</td>\n      <td>4.000000</td>\n      <td>0</td>\n      <td>0</td>\n      <td>0</td>\n      <td>991</td>\n    </tr>\n    <tr>\n      <th>3</th>\n      <td>2578</td>\n      <td>1.441716</td>\n      <td>2808</td>\n      <td>98</td>\n      <td>921.333333</td>\n      <td>0</td>\n      <td>0</td>\n      <td>0</td>\n      <td>1241</td>\n    </tr>\n    <tr>\n      <th>4</th>\n      <td>2750</td>\n      <td>1.520066</td>\n      <td>677</td>\n      <td>112</td>\n      <td>22.000000</td>\n      <td>0</td>\n      <td>0</td>\n      <td>0</td>\n      <td>1413</td>\n    </tr>\n  </tbody>\n</table>\n</div>"
     },
     "metadata": {},
     "execution_count": 10
    }
   ],
   "source": [
    "data2.head()"
   ]
  },
  {
   "cell_type": "code",
   "execution_count": 35,
   "metadata": {},
   "outputs": [
    {
     "output_type": "execute_result",
     "data": {
      "text/plain": [
       "array([116, 110,  99,  89,  78,  75,  68,  68,  68,  64,  62,  60,  60,\n",
       "        60,  54], dtype=int64)"
      ]
     },
     "metadata": {},
     "execution_count": 35
    }
   ],
   "source": [
    "data2.sort_values(by='out age follower num',ascending=False)['out age follower num'].values[0:15]"
   ]
  },
  {
   "cell_type": "code",
   "execution_count": 36,
   "metadata": {},
   "outputs": [
    {
     "output_type": "execute_result",
     "data": {
      "text/plain": [
       "array([549797, 754032, 316834,  66915, 379125, 276085, 423829, 467203,\n",
       "       531986, 139026,  79016, 622805, 894465, 771438,  41874],\n",
       "      dtype=int64)"
      ]
     },
     "metadata": {},
     "execution_count": 36
    }
   ],
   "source": [
    "data2.sort_values(by='out age follower num',ascending=False)['Unnamed: 0'].values[0:15]"
   ]
  },
  {
   "cell_type": "code",
   "execution_count": 37,
   "metadata": {},
   "outputs": [],
   "source": [
    "list1=[]\n",
    "for ida in data2.sort_values(by='out age follower num',ascending=False)['Unnamed: 0'].values[0:15]:\n",
    "    list1.append(data3[data3['influencer_id']==ida]['influencer_name'].values[0])"
   ]
  },
  {
   "cell_type": "code",
   "execution_count": 38,
   "metadata": {},
   "outputs": [
    {
     "output_type": "execute_result",
     "data": {
      "text/plain": [
       "['Hank Williams',\n",
       " 'The Beatles',\n",
       " 'Marvin Gaye',\n",
       " 'Bob Dylan',\n",
       " 'Neil Young',\n",
       " \"Howlin' Wolf\",\n",
       " 'Miles Davis',\n",
       " 'Michael Jackson',\n",
       " 'David Bowie',\n",
       " 'Led Zeppelin',\n",
       " 'Billie Holiday',\n",
       " 'Stevie Wonder',\n",
       " 'The Rolling Stones',\n",
       " 'Black Sabbath',\n",
       " 'The Beach Boys']"
      ]
     },
     "metadata": {},
     "execution_count": 38
    }
   ],
   "source": [
    "list1"
   ]
  },
  {
   "cell_type": "code",
   "execution_count": 39,
   "metadata": {},
   "outputs": [],
   "source": [
    "list2=[]\n",
    "for i in data2.sort_values(by='out age follower num',ascending=False)['out age follower num'].values[0:15]:\n",
    "    list2.append([0,i])"
   ]
  },
  {
   "cell_type": "code",
   "execution_count": 40,
   "metadata": {},
   "outputs": [
    {
     "output_type": "execute_result",
     "data": {
      "text/plain": [
       "[[0, 116],\n",
       " [0, 110],\n",
       " [0, 99],\n",
       " [0, 89],\n",
       " [0, 78],\n",
       " [0, 75],\n",
       " [0, 68],\n",
       " [0, 68],\n",
       " [0, 68],\n",
       " [0, 64],\n",
       " [0, 62],\n",
       " [0, 60],\n",
       " [0, 60],\n",
       " [0, 60],\n",
       " [0, 54]]"
      ]
     },
     "metadata": {},
     "execution_count": 40
    }
   ],
   "source": [
    "list2"
   ]
  },
  {
   "cell_type": "code",
   "execution_count": 89,
   "metadata": {},
   "outputs": [],
   "source": [
    "gephi_data=data3[data3['influencer_active_start']==1990]\n",
    "gephi_data=gephi_data[gephi_data['influencer_main_genre']=='Pop/Rock']"
   ]
  },
  {
   "cell_type": "code",
   "execution_count": 90,
   "metadata": {},
   "outputs": [
    {
     "output_type": "stream",
     "name": "stdout",
     "text": [
      "<class 'pandas.core.frame.DataFrame'>\nInt64Index: 2418 entries, 23 to 42765\nData columns (total 8 columns):\ninfluencer_id              2418 non-null int64\ninfluencer_name            2418 non-null object\ninfluencer_main_genre      2418 non-null object\ninfluencer_active_start    2418 non-null int64\nfollower_id                2418 non-null int64\nfollower_name              2418 non-null object\nfollower_main_genre        2418 non-null object\nfollower_active_start      2418 non-null int64\ndtypes: int64(4), object(4)\nmemory usage: 170.0+ KB\n"
     ]
    }
   ],
   "source": [
    "gephi_data.info()"
   ]
  },
  {
   "cell_type": "code",
   "execution_count": 91,
   "metadata": {},
   "outputs": [],
   "source": [
    "new_gephi=pd.DataFrame()"
   ]
  },
  {
   "cell_type": "code",
   "execution_count": 92,
   "metadata": {},
   "outputs": [],
   "source": [
    "new_gephi['source']=gephi_data['influencer_id']\n",
    "new_gephi['target']=gephi_data['follower_id']"
   ]
  },
  {
   "cell_type": "code",
   "execution_count": 93,
   "metadata": {},
   "outputs": [],
   "source": [
    "new_gephi.reset_index().drop('index',axis=1).to_csv('1990pop gephi_data.csv')"
   ]
  },
  {
   "cell_type": "code",
   "execution_count": 53,
   "metadata": {},
   "outputs": [],
   "source": [
    "a=new_gephi.reset_index().drop('index',axis=1)"
   ]
  },
  {
   "cell_type": "code",
   "execution_count": 54,
   "metadata": {},
   "outputs": [
    {
     "output_type": "execute_result",
     "data": {
      "text/plain": [
       "      序号1  序号2\n",
       "0   66915  335\n",
       "1  208582  335\n",
       "2  651107  335\n",
       "3  988638  335\n",
       "4  295756  441"
      ],
      "text/html": "<div>\n<style scoped>\n    .dataframe tbody tr th:only-of-type {\n        vertical-align: middle;\n    }\n\n    .dataframe tbody tr th {\n        vertical-align: top;\n    }\n\n    .dataframe thead th {\n        text-align: right;\n    }\n</style>\n<table border=\"1\" class=\"dataframe\">\n  <thead>\n    <tr style=\"text-align: right;\">\n      <th></th>\n      <th>序号1</th>\n      <th>序号2</th>\n    </tr>\n  </thead>\n  <tbody>\n    <tr>\n      <th>0</th>\n      <td>66915</td>\n      <td>335</td>\n    </tr>\n    <tr>\n      <th>1</th>\n      <td>208582</td>\n      <td>335</td>\n    </tr>\n    <tr>\n      <th>2</th>\n      <td>651107</td>\n      <td>335</td>\n    </tr>\n    <tr>\n      <th>3</th>\n      <td>988638</td>\n      <td>335</td>\n    </tr>\n    <tr>\n      <th>4</th>\n      <td>295756</td>\n      <td>441</td>\n    </tr>\n  </tbody>\n</table>\n</div>"
     },
     "metadata": {},
     "execution_count": 54
    }
   ],
   "source": [
    "a.head()"
   ]
  },
  {
   "cell_type": "code",
   "execution_count": 81,
   "metadata": {},
   "outputs": [],
   "source": [
    "list11=['undirected']*251"
   ]
  },
  {
   "cell_type": "code",
   "execution_count": 82,
   "metadata": {},
   "outputs": [],
   "source": [
    "new_gephi['Type']=list11"
   ]
  },
  {
   "cell_type": "code",
   "execution_count": 84,
   "metadata": {},
   "outputs": [],
   "source": [
    "list12=[]\n",
    "for i in range(251):\n",
    "    list12.append(i)"
   ]
  },
  {
   "cell_type": "code",
   "execution_count": 85,
   "metadata": {},
   "outputs": [],
   "source": [
    "new_gephi['id']=list12"
   ]
  },
  {
   "cell_type": "code",
   "execution_count": 88,
   "metadata": {},
   "outputs": [],
   "source": [
    "new_gephi.reset_index().drop('index',axis=1).to_csv('new_gephi data.csv')"
   ]
  },
  {
   "cell_type": "code",
   "execution_count": 87,
   "metadata": {},
   "outputs": [
    {
     "output_type": "execute_result",
     "data": {
      "text/plain": [
       "        source   target        Type   id\n",
       "144     517607     3226  undirected    0\n",
       "805     990384    12972  undirected    1\n",
       "2644    913210    37730  undirected    2\n",
       "2804    761108    39013  undirected    3\n",
       "4293    520545    63340  undirected    4\n",
       "5583    780005    84387  undirected    5\n",
       "6951    358641   105030  undirected    6\n",
       "7747    753706   121236  undirected    7\n",
       "9316   2825814   145128  undirected    8\n",
       "9821    320426   154544  undirected    9\n",
       "10972   761108   170879  undirected   10\n",
       "11318   913210   175579  undirected   11\n",
       "11367   761108   175992  undirected   12\n",
       "12034   329883   185018  undirected   13\n",
       "12035   753706   185018  undirected   14\n",
       "12088   846092   185615  undirected   15\n",
       "12958   520545   199089  undirected   16\n",
       "13622   884686   211578  undirected   17\n",
       "14250   761108   223197  undirected   18\n",
       "15106   913210   240665  undirected   19\n",
       "16053   761108   258567  undirected   20\n",
       "18276   170879   318085  undirected   21\n",
       "18283   670226   318085  undirected   22\n",
       "18489    80649   325357  undirected   23\n",
       "18719    28002   331323  undirected   24\n",
       "19860   502978   359326  undirected   25\n",
       "20028    28002   366681  undirected   26\n",
       "20036   670226   366681  undirected   27\n",
       "20038   681154   366681  undirected   28\n",
       "20041   762885   366681  undirected   29\n",
       "...        ...      ...         ...  ...\n",
       "42493   366681  3316228  undirected  221\n",
       "42494  2124046  3316228  undirected  222\n",
       "42508   836394  3323342  undirected  223\n",
       "42536   588246  3366296  undirected  224\n",
       "42537  1507678  3366296  undirected  225\n",
       "42538  2873356  3366296  undirected  226\n",
       "42542   860561  3370668  undirected  227\n",
       "42562   859589  3391646  undirected  228\n",
       "42569    97384  3391937  undirected  229\n",
       "42578   503460  3406269  undirected  230\n",
       "42583   367188  3407597  undirected  231\n",
       "42587    40743  3408531  undirected  232\n",
       "42632    97384  3445208  undirected  233\n",
       "42634   586843  3445208  undirected  234\n",
       "42635   736318  3445208  undirected  235\n",
       "42638   985076  3445208  undirected  236\n",
       "42639  1391526  3445208  undirected  237\n",
       "42644  2639628  3451786  undirected  238\n",
       "42659   325357  3460695  undirected  239\n",
       "42660   573391  3460695  undirected  240\n",
       "42662   755918  3460695  undirected  241\n",
       "42672   894962  3462822  undirected  242\n",
       "42673  2639628  3462822  undirected  243\n",
       "42678    80649  3469567  undirected  244\n",
       "42682   460390  3474187  undirected  245\n",
       "42683   517607  3474187  undirected  246\n",
       "42690    80358  3475903  undirected  247\n",
       "42746   663645  3632715  undirected  248\n",
       "42752   367188  3639618  undirected  249\n",
       "42753   859589  3639618  undirected  250\n",
       "\n",
       "[251 rows x 4 columns]"
      ],
      "text/html": "<div>\n<style scoped>\n    .dataframe tbody tr th:only-of-type {\n        vertical-align: middle;\n    }\n\n    .dataframe tbody tr th {\n        vertical-align: top;\n    }\n\n    .dataframe thead th {\n        text-align: right;\n    }\n</style>\n<table border=\"1\" class=\"dataframe\">\n  <thead>\n    <tr style=\"text-align: right;\">\n      <th></th>\n      <th>source</th>\n      <th>target</th>\n      <th>Type</th>\n      <th>id</th>\n    </tr>\n  </thead>\n  <tbody>\n    <tr>\n      <th>144</th>\n      <td>517607</td>\n      <td>3226</td>\n      <td>undirected</td>\n      <td>0</td>\n    </tr>\n    <tr>\n      <th>805</th>\n      <td>990384</td>\n      <td>12972</td>\n      <td>undirected</td>\n      <td>1</td>\n    </tr>\n    <tr>\n      <th>2644</th>\n      <td>913210</td>\n      <td>37730</td>\n      <td>undirected</td>\n      <td>2</td>\n    </tr>\n    <tr>\n      <th>2804</th>\n      <td>761108</td>\n      <td>39013</td>\n      <td>undirected</td>\n      <td>3</td>\n    </tr>\n    <tr>\n      <th>4293</th>\n      <td>520545</td>\n      <td>63340</td>\n      <td>undirected</td>\n      <td>4</td>\n    </tr>\n    <tr>\n      <th>5583</th>\n      <td>780005</td>\n      <td>84387</td>\n      <td>undirected</td>\n      <td>5</td>\n    </tr>\n    <tr>\n      <th>6951</th>\n      <td>358641</td>\n      <td>105030</td>\n      <td>undirected</td>\n      <td>6</td>\n    </tr>\n    <tr>\n      <th>7747</th>\n      <td>753706</td>\n      <td>121236</td>\n      <td>undirected</td>\n      <td>7</td>\n    </tr>\n    <tr>\n      <th>9316</th>\n      <td>2825814</td>\n      <td>145128</td>\n      <td>undirected</td>\n      <td>8</td>\n    </tr>\n    <tr>\n      <th>9821</th>\n      <td>320426</td>\n      <td>154544</td>\n      <td>undirected</td>\n      <td>9</td>\n    </tr>\n    <tr>\n      <th>10972</th>\n      <td>761108</td>\n      <td>170879</td>\n      <td>undirected</td>\n      <td>10</td>\n    </tr>\n    <tr>\n      <th>11318</th>\n      <td>913210</td>\n      <td>175579</td>\n      <td>undirected</td>\n      <td>11</td>\n    </tr>\n    <tr>\n      <th>11367</th>\n      <td>761108</td>\n      <td>175992</td>\n      <td>undirected</td>\n      <td>12</td>\n    </tr>\n    <tr>\n      <th>12034</th>\n      <td>329883</td>\n      <td>185018</td>\n      <td>undirected</td>\n      <td>13</td>\n    </tr>\n    <tr>\n      <th>12035</th>\n      <td>753706</td>\n      <td>185018</td>\n      <td>undirected</td>\n      <td>14</td>\n    </tr>\n    <tr>\n      <th>12088</th>\n      <td>846092</td>\n      <td>185615</td>\n      <td>undirected</td>\n      <td>15</td>\n    </tr>\n    <tr>\n      <th>12958</th>\n      <td>520545</td>\n      <td>199089</td>\n      <td>undirected</td>\n      <td>16</td>\n    </tr>\n    <tr>\n      <th>13622</th>\n      <td>884686</td>\n      <td>211578</td>\n      <td>undirected</td>\n      <td>17</td>\n    </tr>\n    <tr>\n      <th>14250</th>\n      <td>761108</td>\n      <td>223197</td>\n      <td>undirected</td>\n      <td>18</td>\n    </tr>\n    <tr>\n      <th>15106</th>\n      <td>913210</td>\n      <td>240665</td>\n      <td>undirected</td>\n      <td>19</td>\n    </tr>\n    <tr>\n      <th>16053</th>\n      <td>761108</td>\n      <td>258567</td>\n      <td>undirected</td>\n      <td>20</td>\n    </tr>\n    <tr>\n      <th>18276</th>\n      <td>170879</td>\n      <td>318085</td>\n      <td>undirected</td>\n      <td>21</td>\n    </tr>\n    <tr>\n      <th>18283</th>\n      <td>670226</td>\n      <td>318085</td>\n      <td>undirected</td>\n      <td>22</td>\n    </tr>\n    <tr>\n      <th>18489</th>\n      <td>80649</td>\n      <td>325357</td>\n      <td>undirected</td>\n      <td>23</td>\n    </tr>\n    <tr>\n      <th>18719</th>\n      <td>28002</td>\n      <td>331323</td>\n      <td>undirected</td>\n      <td>24</td>\n    </tr>\n    <tr>\n      <th>19860</th>\n      <td>502978</td>\n      <td>359326</td>\n      <td>undirected</td>\n      <td>25</td>\n    </tr>\n    <tr>\n      <th>20028</th>\n      <td>28002</td>\n      <td>366681</td>\n      <td>undirected</td>\n      <td>26</td>\n    </tr>\n    <tr>\n      <th>20036</th>\n      <td>670226</td>\n      <td>366681</td>\n      <td>undirected</td>\n      <td>27</td>\n    </tr>\n    <tr>\n      <th>20038</th>\n      <td>681154</td>\n      <td>366681</td>\n      <td>undirected</td>\n      <td>28</td>\n    </tr>\n    <tr>\n      <th>20041</th>\n      <td>762885</td>\n      <td>366681</td>\n      <td>undirected</td>\n      <td>29</td>\n    </tr>\n    <tr>\n      <th>...</th>\n      <td>...</td>\n      <td>...</td>\n      <td>...</td>\n      <td>...</td>\n    </tr>\n    <tr>\n      <th>42493</th>\n      <td>366681</td>\n      <td>3316228</td>\n      <td>undirected</td>\n      <td>221</td>\n    </tr>\n    <tr>\n      <th>42494</th>\n      <td>2124046</td>\n      <td>3316228</td>\n      <td>undirected</td>\n      <td>222</td>\n    </tr>\n    <tr>\n      <th>42508</th>\n      <td>836394</td>\n      <td>3323342</td>\n      <td>undirected</td>\n      <td>223</td>\n    </tr>\n    <tr>\n      <th>42536</th>\n      <td>588246</td>\n      <td>3366296</td>\n      <td>undirected</td>\n      <td>224</td>\n    </tr>\n    <tr>\n      <th>42537</th>\n      <td>1507678</td>\n      <td>3366296</td>\n      <td>undirected</td>\n      <td>225</td>\n    </tr>\n    <tr>\n      <th>42538</th>\n      <td>2873356</td>\n      <td>3366296</td>\n      <td>undirected</td>\n      <td>226</td>\n    </tr>\n    <tr>\n      <th>42542</th>\n      <td>860561</td>\n      <td>3370668</td>\n      <td>undirected</td>\n      <td>227</td>\n    </tr>\n    <tr>\n      <th>42562</th>\n      <td>859589</td>\n      <td>3391646</td>\n      <td>undirected</td>\n      <td>228</td>\n    </tr>\n    <tr>\n      <th>42569</th>\n      <td>97384</td>\n      <td>3391937</td>\n      <td>undirected</td>\n      <td>229</td>\n    </tr>\n    <tr>\n      <th>42578</th>\n      <td>503460</td>\n      <td>3406269</td>\n      <td>undirected</td>\n      <td>230</td>\n    </tr>\n    <tr>\n      <th>42583</th>\n      <td>367188</td>\n      <td>3407597</td>\n      <td>undirected</td>\n      <td>231</td>\n    </tr>\n    <tr>\n      <th>42587</th>\n      <td>40743</td>\n      <td>3408531</td>\n      <td>undirected</td>\n      <td>232</td>\n    </tr>\n    <tr>\n      <th>42632</th>\n      <td>97384</td>\n      <td>3445208</td>\n      <td>undirected</td>\n      <td>233</td>\n    </tr>\n    <tr>\n      <th>42634</th>\n      <td>586843</td>\n      <td>3445208</td>\n      <td>undirected</td>\n      <td>234</td>\n    </tr>\n    <tr>\n      <th>42635</th>\n      <td>736318</td>\n      <td>3445208</td>\n      <td>undirected</td>\n      <td>235</td>\n    </tr>\n    <tr>\n      <th>42638</th>\n      <td>985076</td>\n      <td>3445208</td>\n      <td>undirected</td>\n      <td>236</td>\n    </tr>\n    <tr>\n      <th>42639</th>\n      <td>1391526</td>\n      <td>3445208</td>\n      <td>undirected</td>\n      <td>237</td>\n    </tr>\n    <tr>\n      <th>42644</th>\n      <td>2639628</td>\n      <td>3451786</td>\n      <td>undirected</td>\n      <td>238</td>\n    </tr>\n    <tr>\n      <th>42659</th>\n      <td>325357</td>\n      <td>3460695</td>\n      <td>undirected</td>\n      <td>239</td>\n    </tr>\n    <tr>\n      <th>42660</th>\n      <td>573391</td>\n      <td>3460695</td>\n      <td>undirected</td>\n      <td>240</td>\n    </tr>\n    <tr>\n      <th>42662</th>\n      <td>755918</td>\n      <td>3460695</td>\n      <td>undirected</td>\n      <td>241</td>\n    </tr>\n    <tr>\n      <th>42672</th>\n      <td>894962</td>\n      <td>3462822</td>\n      <td>undirected</td>\n      <td>242</td>\n    </tr>\n    <tr>\n      <th>42673</th>\n      <td>2639628</td>\n      <td>3462822</td>\n      <td>undirected</td>\n      <td>243</td>\n    </tr>\n    <tr>\n      <th>42678</th>\n      <td>80649</td>\n      <td>3469567</td>\n      <td>undirected</td>\n      <td>244</td>\n    </tr>\n    <tr>\n      <th>42682</th>\n      <td>460390</td>\n      <td>3474187</td>\n      <td>undirected</td>\n      <td>245</td>\n    </tr>\n    <tr>\n      <th>42683</th>\n      <td>517607</td>\n      <td>3474187</td>\n      <td>undirected</td>\n      <td>246</td>\n    </tr>\n    <tr>\n      <th>42690</th>\n      <td>80358</td>\n      <td>3475903</td>\n      <td>undirected</td>\n      <td>247</td>\n    </tr>\n    <tr>\n      <th>42746</th>\n      <td>663645</td>\n      <td>3632715</td>\n      <td>undirected</td>\n      <td>248</td>\n    </tr>\n    <tr>\n      <th>42752</th>\n      <td>367188</td>\n      <td>3639618</td>\n      <td>undirected</td>\n      <td>249</td>\n    </tr>\n    <tr>\n      <th>42753</th>\n      <td>859589</td>\n      <td>3639618</td>\n      <td>undirected</td>\n      <td>250</td>\n    </tr>\n  </tbody>\n</table>\n<p>251 rows × 4 columns</p>\n</div>"
     },
     "metadata": {},
     "execution_count": 87
    }
   ],
   "source": [
    "new_gephi"
   ]
  },
  {
   "cell_type": "code",
   "execution_count": null,
   "metadata": {},
   "outputs": [],
   "source": []
  }
 ]
}