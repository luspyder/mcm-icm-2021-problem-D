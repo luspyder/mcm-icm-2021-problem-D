{
 "metadata": {
  "language_info": {
   "codemirror_mode": {
    "name": "ipython",
    "version": 3
   },
   "file_extension": ".py",
   "mimetype": "text/x-python",
   "name": "python",
   "nbconvert_exporter": "python",
   "pygments_lexer": "ipython3",
   "version": "3.7.0-final"
  },
  "orig_nbformat": 2,
  "kernelspec": {
   "name": "python3",
   "display_name": "Python 3",
   "language": "python"
  }
 },
 "nbformat": 4,
 "nbformat_minor": 2,
 "cells": [
  {
   "cell_type": "code",
   "execution_count": 1,
   "metadata": {},
   "outputs": [],
   "source": [
    "import pandas as pd"
   ]
  },
  {
   "cell_type": "code",
   "execution_count": 2,
   "metadata": {},
   "outputs": [],
   "source": [
    "same_data=pd.read_csv('same_type diff vale.csv')\n",
    "diff1_data=pd.read_csv('diff_type1 diff vale.csv')\n",
    "diff2_data=pd.read_csv('diff_type2 diff vale.csv')"
   ]
  },
  {
   "cell_type": "code",
   "execution_count": 3,
   "metadata": {},
   "outputs": [
    {
     "output_type": "execute_result",
     "data": {
      "text/plain": [
       "   Unnamed: 0        18        19        20        21        22        23  \\\n",
       "0           0  0.321115  0.514333  0.373107  0.308102  0.289894  0.487228   \n",
       "1           1  0.243622  0.129159  0.371384  0.248482  0.484530  0.137881   \n",
       "2           2  0.314840  0.314325  0.505185  0.351510  0.081381  0.315309   \n",
       "3           3  0.279571  0.477903  0.479245  0.299819  0.329514  0.541658   \n",
       "4           4  0.343642  0.470288  0.490652  0.356614  0.262123  0.473405   \n",
       "\n",
       "         24        25        26    ...          105       106       107  \\\n",
       "0  0.337989  0.343168  0.537745    ...     0.131296  0.077253  0.177800   \n",
       "1  0.224689  0.219011  0.215716    ...     0.795006  0.746658  0.636025   \n",
       "2  0.312146  0.302956  0.433252    ...     0.119506  0.111759  0.063633   \n",
       "3  0.485662  0.296868  0.787289    ...     0.216088  0.159252  0.345743   \n",
       "4  0.387654  0.354203  0.559918    ...     0.183937  0.134373  0.206936   \n",
       "\n",
       "        108       109       110       111       112       113       114  \n",
       "0  0.481212  0.379598  0.493603  0.377543  0.474478  0.332180  0.305411  \n",
       "1  0.127188  0.160917  0.136769  0.180854  0.201586  0.501558  0.283105  \n",
       "2  0.298413  0.336228  0.308483  0.325478  0.399395  0.115269  0.337198  \n",
       "3  0.445633  0.367540  0.507385  0.439748  0.717505  0.318898  0.278522  \n",
       "4  0.438535  0.401610  0.466578  0.402379  0.511062  0.299534  0.338704  \n",
       "\n",
       "[5 rows x 98 columns]"
      ],
      "text/html": "<div>\n<style scoped>\n    .dataframe tbody tr th:only-of-type {\n        vertical-align: middle;\n    }\n\n    .dataframe tbody tr th {\n        vertical-align: top;\n    }\n\n    .dataframe thead th {\n        text-align: right;\n    }\n</style>\n<table border=\"1\" class=\"dataframe\">\n  <thead>\n    <tr style=\"text-align: right;\">\n      <th></th>\n      <th>Unnamed: 0</th>\n      <th>18</th>\n      <th>19</th>\n      <th>20</th>\n      <th>21</th>\n      <th>22</th>\n      <th>23</th>\n      <th>24</th>\n      <th>25</th>\n      <th>26</th>\n      <th>...</th>\n      <th>105</th>\n      <th>106</th>\n      <th>107</th>\n      <th>108</th>\n      <th>109</th>\n      <th>110</th>\n      <th>111</th>\n      <th>112</th>\n      <th>113</th>\n      <th>114</th>\n    </tr>\n  </thead>\n  <tbody>\n    <tr>\n      <th>0</th>\n      <td>0</td>\n      <td>0.321115</td>\n      <td>0.514333</td>\n      <td>0.373107</td>\n      <td>0.308102</td>\n      <td>0.289894</td>\n      <td>0.487228</td>\n      <td>0.337989</td>\n      <td>0.343168</td>\n      <td>0.537745</td>\n      <td>...</td>\n      <td>0.131296</td>\n      <td>0.077253</td>\n      <td>0.177800</td>\n      <td>0.481212</td>\n      <td>0.379598</td>\n      <td>0.493603</td>\n      <td>0.377543</td>\n      <td>0.474478</td>\n      <td>0.332180</td>\n      <td>0.305411</td>\n    </tr>\n    <tr>\n      <th>1</th>\n      <td>1</td>\n      <td>0.243622</td>\n      <td>0.129159</td>\n      <td>0.371384</td>\n      <td>0.248482</td>\n      <td>0.484530</td>\n      <td>0.137881</td>\n      <td>0.224689</td>\n      <td>0.219011</td>\n      <td>0.215716</td>\n      <td>...</td>\n      <td>0.795006</td>\n      <td>0.746658</td>\n      <td>0.636025</td>\n      <td>0.127188</td>\n      <td>0.160917</td>\n      <td>0.136769</td>\n      <td>0.180854</td>\n      <td>0.201586</td>\n      <td>0.501558</td>\n      <td>0.283105</td>\n    </tr>\n    <tr>\n      <th>2</th>\n      <td>2</td>\n      <td>0.314840</td>\n      <td>0.314325</td>\n      <td>0.505185</td>\n      <td>0.351510</td>\n      <td>0.081381</td>\n      <td>0.315309</td>\n      <td>0.312146</td>\n      <td>0.302956</td>\n      <td>0.433252</td>\n      <td>...</td>\n      <td>0.119506</td>\n      <td>0.111759</td>\n      <td>0.063633</td>\n      <td>0.298413</td>\n      <td>0.336228</td>\n      <td>0.308483</td>\n      <td>0.325478</td>\n      <td>0.399395</td>\n      <td>0.115269</td>\n      <td>0.337198</td>\n    </tr>\n    <tr>\n      <th>3</th>\n      <td>3</td>\n      <td>0.279571</td>\n      <td>0.477903</td>\n      <td>0.479245</td>\n      <td>0.299819</td>\n      <td>0.329514</td>\n      <td>0.541658</td>\n      <td>0.485662</td>\n      <td>0.296868</td>\n      <td>0.787289</td>\n      <td>...</td>\n      <td>0.216088</td>\n      <td>0.159252</td>\n      <td>0.345743</td>\n      <td>0.445633</td>\n      <td>0.367540</td>\n      <td>0.507385</td>\n      <td>0.439748</td>\n      <td>0.717505</td>\n      <td>0.318898</td>\n      <td>0.278522</td>\n    </tr>\n    <tr>\n      <th>4</th>\n      <td>4</td>\n      <td>0.343642</td>\n      <td>0.470288</td>\n      <td>0.490652</td>\n      <td>0.356614</td>\n      <td>0.262123</td>\n      <td>0.473405</td>\n      <td>0.387654</td>\n      <td>0.354203</td>\n      <td>0.559918</td>\n      <td>...</td>\n      <td>0.183937</td>\n      <td>0.134373</td>\n      <td>0.206936</td>\n      <td>0.438535</td>\n      <td>0.401610</td>\n      <td>0.466578</td>\n      <td>0.402379</td>\n      <td>0.511062</td>\n      <td>0.299534</td>\n      <td>0.338704</td>\n    </tr>\n  </tbody>\n</table>\n<p>5 rows × 98 columns</p>\n</div>"
     },
     "metadata": {},
     "execution_count": 3
    }
   ],
   "source": [
    "same_data.head()"
   ]
  },
  {
   "cell_type": "code",
   "execution_count": 4,
   "metadata": {},
   "outputs": [],
   "source": [
    "same_data=same_data.drop('Unnamed: 0',axis=1)"
   ]
  },
  {
   "cell_type": "code",
   "execution_count": 5,
   "metadata": {},
   "outputs": [],
   "source": [
    "count={}\n",
    "for i in range(10):\n",
    "    count[i]=0"
   ]
  },
  {
   "cell_type": "code",
   "execution_count": 6,
   "metadata": {},
   "outputs": [],
   "source": [
    "for line in same_data.iterrows():\n",
    "    for point in line[1]:\n",
    "        range_id=int(point*10)\n",
    "        count[range_id]+=1"
   ]
  },
  {
   "cell_type": "code",
   "execution_count": 7,
   "metadata": {},
   "outputs": [
    {
     "output_type": "execute_result",
     "data": {
      "text/plain": [
       "{0: 47,\n",
       " 1: 322,\n",
       " 2: 1187,\n",
       " 3: 2452,\n",
       " 4: 4547,\n",
       " 5: 6310,\n",
       " 6: 6835,\n",
       " 7: 5778,\n",
       " 8: 4563,\n",
       " 9: 3073}"
      ]
     },
     "metadata": {},
     "execution_count": 7
    }
   ],
   "source": [
    "count"
   ]
  },
  {
   "cell_type": "code",
   "execution_count": 8,
   "metadata": {},
   "outputs": [],
   "source": [
    "diff1_data=diff1_data.drop('Unnamed: 0',axis=1)\n",
    "diff2_data=diff2_data.drop('Unnamed: 0',axis=1)"
   ]
  },
  {
   "cell_type": "code",
   "execution_count": 9,
   "metadata": {},
   "outputs": [],
   "source": [
    "count1={}\n",
    "for i in range(11):\n",
    "    count1[i]=0\n",
    "for line in diff1_data.iterrows():\n",
    "    for point in line[1]:\n",
    "        range_id=int(point*10)\n",
    "        count1[range_id]+=1"
   ]
  },
  {
   "cell_type": "code",
   "execution_count": 10,
   "metadata": {},
   "outputs": [
    {
     "output_type": "execute_result",
     "data": {
      "text/plain": [
       "{0: 97,\n",
       " 1: 466,\n",
       " 2: 931,\n",
       " 3: 1291,\n",
       " 4: 741,\n",
       " 5: 457,\n",
       " 6: 298,\n",
       " 7: 263,\n",
       " 8: 288,\n",
       " 9: 138,\n",
       " 10: 10}"
      ]
     },
     "metadata": {},
     "execution_count": 10
    }
   ],
   "source": [
    "count1"
   ]
  },
  {
   "cell_type": "code",
   "execution_count": 11,
   "metadata": {},
   "outputs": [],
   "source": [
    "count2={}\n",
    "for i in range(11):\n",
    "    count2[i]=0\n",
    "for line in diff2_data.iterrows():\n",
    "    for point in line[1]:\n",
    "        range_id=int(point*10)\n",
    "        count2[range_id]+=1"
   ]
  },
  {
   "cell_type": "code",
   "execution_count": 12,
   "metadata": {},
   "outputs": [
    {
     "output_type": "execute_result",
     "data": {
      "text/plain": [
       "{0: 20,\n",
       " 1: 120,\n",
       " 2: 257,\n",
       " 3: 414,\n",
       " 4: 404,\n",
       " 5: 365,\n",
       " 6: 304,\n",
       " 7: 279,\n",
       " 8: 345,\n",
       " 9: 162,\n",
       " 10: 0}"
      ]
     },
     "metadata": {},
     "execution_count": 12
    }
   ],
   "source": [
    "count2"
   ]
  },
  {
   "cell_type": "code",
   "execution_count": 28,
   "metadata": {},
   "outputs": [],
   "source": [
    "echarts=[]\n",
    "for i in range(10):\n",
    "    echarts.append([0,i,count[i]/150])\n",
    "for i in range(10):\n",
    "    echarts.append([1,i,count1[i]/35])\n",
    "for i in range(10):\n",
    "    echarts.append([2,i,count2[i]/15])"
   ]
  },
  {
   "cell_type": "code",
   "execution_count": 29,
   "metadata": {},
   "outputs": [
    {
     "output_type": "execute_result",
     "data": {
      "text/plain": [
       "[[0, 0, 0.31333333333333335],\n",
       " [0, 1, 2.1466666666666665],\n",
       " [0, 2, 7.913333333333333],\n",
       " [0, 3, 16.346666666666668],\n",
       " [0, 4, 30.313333333333333],\n",
       " [0, 5, 42.06666666666667],\n",
       " [0, 6, 45.56666666666667],\n",
       " [0, 7, 38.52],\n",
       " [0, 8, 30.42],\n",
       " [0, 9, 20.486666666666668],\n",
       " [1, 0, 2.7714285714285714],\n",
       " [1, 1, 13.314285714285715],\n",
       " [1, 2, 26.6],\n",
       " [1, 3, 36.885714285714286],\n",
       " [1, 4, 21.17142857142857],\n",
       " [1, 5, 13.057142857142857],\n",
       " [1, 6, 8.514285714285714],\n",
       " [1, 7, 7.514285714285714],\n",
       " [1, 8, 8.228571428571428],\n",
       " [1, 9, 3.942857142857143],\n",
       " [2, 0, 1.3333333333333333],\n",
       " [2, 1, 8.0],\n",
       " [2, 2, 17.133333333333333],\n",
       " [2, 3, 27.6],\n",
       " [2, 4, 26.933333333333334],\n",
       " [2, 5, 24.333333333333332],\n",
       " [2, 6, 20.266666666666666],\n",
       " [2, 7, 18.6],\n",
       " [2, 8, 23.0],\n",
       " [2, 9, 10.8]]"
      ]
     },
     "metadata": {},
     "execution_count": 29
    }
   ],
   "source": [
    "echarts"
   ]
  },
  {
   "cell_type": "code",
   "execution_count": 42,
   "metadata": {},
   "outputs": [
    {
     "output_type": "execute_result",
     "data": {
      "text/plain": [
       "70228"
      ]
     },
     "metadata": {},
     "execution_count": 42
    }
   ],
   "source": [
    "sum(count.values())"
   ]
  },
  {
   "cell_type": "code",
   "execution_count": 43,
   "metadata": {},
   "outputs": [
    {
     "output_type": "execute_result",
     "data": {
      "text/plain": [
       "4980"
      ]
     },
     "metadata": {},
     "execution_count": 43
    }
   ],
   "source": [
    "sum(count1.values())"
   ]
  },
  {
   "cell_type": "code",
   "execution_count": 44,
   "metadata": {},
   "outputs": [
    {
     "output_type": "execute_result",
     "data": {
      "text/plain": [
       "2670"
      ]
     },
     "metadata": {},
     "execution_count": 44
    }
   ],
   "source": [
    "sum(count2.values())"
   ]
  },
  {
   "cell_type": "code",
   "execution_count": 58,
   "metadata": {},
   "outputs": [],
   "source": [
    "aa=[[0, 0, 26.06777777777778],\n",
    " [0, 1, 23.35777777777777775],\n",
    " [0, 2, 16.318888888888889],\n",
    " [0, 3, 12.7244444444444444],\n",
    " [0, 4, 3.052222222222222],\n",
    " [0, 5, 4.011111111111111],\n",
    " [0, 6, 3.594444444444444],\n",
    " [0, 7, 5.42],\n",
    " [0, 8, 5.07],\n",
    " [0, 9, 3.4144444444444444],\n",
    " [1, 0, 1.94],\n",
    " [1, 1, 9.32],\n",
    " [1, 2, 5.96],\n",
    " [1, 3, 5.26],\n",
    " [1, 4, 9.14],\n",
    " [1, 5, 14.82],\n",
    " [1, 6, 18.62],\n",
    " [1, 7, 25.82],\n",
    " [1, 8, 5.76],\n",
    " [1, 9, 2.76],\n",
    " [2, 0, 0.4],\n",
    " [2, 1, 2.4],\n",
    " [2, 2, 5.14],\n",
    " [2, 3, 8.28],\n",
    " [2, 4, 25.08],\n",
    " [2, 5, 27.3],\n",
    " [2, 6, 18.08],\n",
    " [2, 7, 5.58],\n",
    " [2, 8, 6.9],\n",
    " [2, 9, 3.24]]\n",
    "for i in aa:\n",
    "     i[2]*=2"
   ]
  },
  {
   "cell_type": "code",
   "execution_count": 59,
   "metadata": {},
   "outputs": [
    {
     "output_type": "execute_result",
     "data": {
      "text/plain": [
       "[[0, 0, 52.13555555555556],\n",
       " [0, 1, 46.715555555555554],\n",
       " [0, 2, 32.63777777777778],\n",
       " [0, 3, 25.448888888888888],\n",
       " [0, 4, 6.104444444444444],\n",
       " [0, 5, 8.022222222222222],\n",
       " [0, 6, 7.188888888888888],\n",
       " [0, 7, 10.84],\n",
       " [0, 8, 10.14],\n",
       " [0, 9, 6.828888888888889],\n",
       " [1, 0, 3.88],\n",
       " [1, 1, 18.64],\n",
       " [1, 2, 11.92],\n",
       " [1, 3, 10.52],\n",
       " [1, 4, 18.28],\n",
       " [1, 5, 29.64],\n",
       " [1, 6, 37.24],\n",
       " [1, 7, 51.64],\n",
       " [1, 8, 11.52],\n",
       " [1, 9, 5.52],\n",
       " [2, 0, 0.8],\n",
       " [2, 1, 4.8],\n",
       " [2, 2, 10.28],\n",
       " [2, 3, 16.56],\n",
       " [2, 4, 50.16],\n",
       " [2, 5, 54.6],\n",
       " [2, 6, 36.16],\n",
       " [2, 7, 11.16],\n",
       " [2, 8, 13.8],\n",
       " [2, 9, 6.48]]"
      ]
     },
     "metadata": {},
     "execution_count": 59
    }
   ],
   "source": [
    "aa"
   ]
  },
  {
   "cell_type": "code",
   "execution_count": null,
   "metadata": {},
   "outputs": [],
   "source": []
  }
 ]
}