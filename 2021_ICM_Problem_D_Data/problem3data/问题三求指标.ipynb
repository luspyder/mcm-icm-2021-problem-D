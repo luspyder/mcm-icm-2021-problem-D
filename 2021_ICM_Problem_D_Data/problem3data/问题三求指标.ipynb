{
 "cells": [
  {
   "cell_type": "markdown",
   "metadata": {},
   "source": [
    "# 导入数据"
   ]
  },
  {
   "cell_type": "code",
   "execution_count": 1,
   "metadata": {},
   "outputs": [],
   "source": [
    "import pandas as pd\n",
    "import numpy as np\n",
    "import seaborn as sns\n",
    "import matplotlib.pyplot as plt"
   ]
  },
  {
   "cell_type": "code",
   "execution_count": 36,
   "metadata": {},
   "outputs": [],
   "source": [
    "data_by_artist = pd.read_csv('../2021_ICM_Problem_D_Data/data_by_artist.csv')\n",
    "data_by_year = pd.read_csv('../2021_ICM_Problem_D_Data/data_by_year.csv')\n",
    "full_music_data = pd.read_csv('../2021_ICM_Problem_D_Data/full_music_data.csv')\n",
    "influence_data = pd.read_csv('../2021_ICM_Problem_D_Data/influence_data.csv',encoding='gbk')"
   ]
  },
  {
   "cell_type": "code",
   "execution_count": 55,
   "metadata": {},
   "outputs": [
    {
     "output_type": "execute_result",
     "data": {
      "text/plain": [
       "         artist_name  artist_id  danceability    energy   valence       tempo  \\\n",
       "0      Frank Sinatra     792507      0.384478  0.238017  0.364288  110.181698   \n",
       "1  Vladimir Horowitz     119107      0.343210  0.118844  0.225951   94.900679   \n",
       "2        Johnny Cash     816890      0.619803  0.449381  0.680662  115.037747   \n",
       "3     Billie Holiday      79016      0.572637  0.201368  0.498934  109.912172   \n",
       "4          Bob Dylan      66915      0.512598  0.477932  0.551934  126.160149   \n",
       "\n",
       "    loudness  mode  key  acousticness  instrumentalness  liveness  \\\n",
       "0 -14.271141     1    5      0.735648          0.020855  0.232106   \n",
       "1 -23.193418     1    1      0.990070          0.879508  0.183812   \n",
       "2 -11.593104     1   10      0.685637          0.022647  0.242243   \n",
       "3 -13.225966     1    5      0.908499          0.013064  0.217727   \n",
       "4 -11.184330     1    7      0.562567          0.034211  0.308978   \n",
       "\n",
       "   speechiness  duration_ms  popularity  count  \n",
       "0     0.049614  189179.9255   26.004383   1369  \n",
       "1     0.043360  266541.1251    3.592378   1207  \n",
       "2     0.098216  162279.2672   26.614130   1104  \n",
       "3     0.062432  185131.4530   15.621005   1095  \n",
       "4     0.064535  256713.4203   30.860806   1092  "
      ],
      "text/html": "<div>\n<style scoped>\n    .dataframe tbody tr th:only-of-type {\n        vertical-align: middle;\n    }\n\n    .dataframe tbody tr th {\n        vertical-align: top;\n    }\n\n    .dataframe thead th {\n        text-align: right;\n    }\n</style>\n<table border=\"1\" class=\"dataframe\">\n  <thead>\n    <tr style=\"text-align: right;\">\n      <th></th>\n      <th>artist_name</th>\n      <th>artist_id</th>\n      <th>danceability</th>\n      <th>energy</th>\n      <th>valence</th>\n      <th>tempo</th>\n      <th>loudness</th>\n      <th>mode</th>\n      <th>key</th>\n      <th>acousticness</th>\n      <th>instrumentalness</th>\n      <th>liveness</th>\n      <th>speechiness</th>\n      <th>duration_ms</th>\n      <th>popularity</th>\n      <th>count</th>\n    </tr>\n  </thead>\n  <tbody>\n    <tr>\n      <th>0</th>\n      <td>Frank Sinatra</td>\n      <td>792507</td>\n      <td>0.384478</td>\n      <td>0.238017</td>\n      <td>0.364288</td>\n      <td>110.181698</td>\n      <td>-14.271141</td>\n      <td>1</td>\n      <td>5</td>\n      <td>0.735648</td>\n      <td>0.020855</td>\n      <td>0.232106</td>\n      <td>0.049614</td>\n      <td>189179.9255</td>\n      <td>26.004383</td>\n      <td>1369</td>\n    </tr>\n    <tr>\n      <th>1</th>\n      <td>Vladimir Horowitz</td>\n      <td>119107</td>\n      <td>0.343210</td>\n      <td>0.118844</td>\n      <td>0.225951</td>\n      <td>94.900679</td>\n      <td>-23.193418</td>\n      <td>1</td>\n      <td>1</td>\n      <td>0.990070</td>\n      <td>0.879508</td>\n      <td>0.183812</td>\n      <td>0.043360</td>\n      <td>266541.1251</td>\n      <td>3.592378</td>\n      <td>1207</td>\n    </tr>\n    <tr>\n      <th>2</th>\n      <td>Johnny Cash</td>\n      <td>816890</td>\n      <td>0.619803</td>\n      <td>0.449381</td>\n      <td>0.680662</td>\n      <td>115.037747</td>\n      <td>-11.593104</td>\n      <td>1</td>\n      <td>10</td>\n      <td>0.685637</td>\n      <td>0.022647</td>\n      <td>0.242243</td>\n      <td>0.098216</td>\n      <td>162279.2672</td>\n      <td>26.614130</td>\n      <td>1104</td>\n    </tr>\n    <tr>\n      <th>3</th>\n      <td>Billie Holiday</td>\n      <td>79016</td>\n      <td>0.572637</td>\n      <td>0.201368</td>\n      <td>0.498934</td>\n      <td>109.912172</td>\n      <td>-13.225966</td>\n      <td>1</td>\n      <td>5</td>\n      <td>0.908499</td>\n      <td>0.013064</td>\n      <td>0.217727</td>\n      <td>0.062432</td>\n      <td>185131.4530</td>\n      <td>15.621005</td>\n      <td>1095</td>\n    </tr>\n    <tr>\n      <th>4</th>\n      <td>Bob Dylan</td>\n      <td>66915</td>\n      <td>0.512598</td>\n      <td>0.477932</td>\n      <td>0.551934</td>\n      <td>126.160149</td>\n      <td>-11.184330</td>\n      <td>1</td>\n      <td>7</td>\n      <td>0.562567</td>\n      <td>0.034211</td>\n      <td>0.308978</td>\n      <td>0.064535</td>\n      <td>256713.4203</td>\n      <td>30.860806</td>\n      <td>1092</td>\n    </tr>\n  </tbody>\n</table>\n</div>"
     },
     "metadata": {},
     "execution_count": 55
    }
   ],
   "source": [
    "data_by_artist.head()"
   ]
  },
  {
   "cell_type": "markdown",
   "metadata": {},
   "source": [
    "# 合并表格"
   ]
  },
  {
   "cell_type": "code",
   "execution_count": 37,
   "metadata": {
    "collapsed": true
   },
   "outputs": [
    {
     "output_type": "execute_result",
     "data": {
      "text/plain": [
       "   influencer_id influencer_main_genre\n",
       "0         759491              Pop/Rock\n",
       "1          25462            Electronic\n",
       "2          66915              Pop/Rock\n",
       "3          71209              Pop/Rock\n",
       "4          91438              Pop/Rock"
      ],
      "text/html": "<div>\n<style scoped>\n    .dataframe tbody tr th:only-of-type {\n        vertical-align: middle;\n    }\n\n    .dataframe tbody tr th {\n        vertical-align: top;\n    }\n\n    .dataframe thead th {\n        text-align: right;\n    }\n</style>\n<table border=\"1\" class=\"dataframe\">\n  <thead>\n    <tr style=\"text-align: right;\">\n      <th></th>\n      <th>influencer_id</th>\n      <th>influencer_main_genre</th>\n    </tr>\n  </thead>\n  <tbody>\n    <tr>\n      <th>0</th>\n      <td>759491</td>\n      <td>Pop/Rock</td>\n    </tr>\n    <tr>\n      <th>1</th>\n      <td>25462</td>\n      <td>Electronic</td>\n    </tr>\n    <tr>\n      <th>2</th>\n      <td>66915</td>\n      <td>Pop/Rock</td>\n    </tr>\n    <tr>\n      <th>3</th>\n      <td>71209</td>\n      <td>Pop/Rock</td>\n    </tr>\n    <tr>\n      <th>4</th>\n      <td>91438</td>\n      <td>Pop/Rock</td>\n    </tr>\n  </tbody>\n</table>\n</div>"
     },
     "metadata": {},
     "execution_count": 37
    }
   ],
   "source": [
    "influence1 = influence_data[['influencer_id', 'influencer_main_genre']]\n",
    "influence1.head()"
   ]
  },
  {
   "cell_type": "code",
   "execution_count": 38,
   "metadata": {
    "collapsed": true
   },
   "outputs": [
    {
     "output_type": "execute_result",
     "data": {
      "text/plain": [
       "   influencer_id influencer_main_genre\n",
       "0         759491              Pop/Rock\n",
       "1          25462            Electronic\n",
       "2          66915              Pop/Rock\n",
       "3          71209              Pop/Rock\n",
       "4          91438              Pop/Rock"
      ],
      "text/html": "<div>\n<style scoped>\n    .dataframe tbody tr th:only-of-type {\n        vertical-align: middle;\n    }\n\n    .dataframe tbody tr th {\n        vertical-align: top;\n    }\n\n    .dataframe thead th {\n        text-align: right;\n    }\n</style>\n<table border=\"1\" class=\"dataframe\">\n  <thead>\n    <tr style=\"text-align: right;\">\n      <th></th>\n      <th>influencer_id</th>\n      <th>influencer_main_genre</th>\n    </tr>\n  </thead>\n  <tbody>\n    <tr>\n      <th>0</th>\n      <td>759491</td>\n      <td>Pop/Rock</td>\n    </tr>\n    <tr>\n      <th>1</th>\n      <td>25462</td>\n      <td>Electronic</td>\n    </tr>\n    <tr>\n      <th>2</th>\n      <td>66915</td>\n      <td>Pop/Rock</td>\n    </tr>\n    <tr>\n      <th>3</th>\n      <td>71209</td>\n      <td>Pop/Rock</td>\n    </tr>\n    <tr>\n      <th>4</th>\n      <td>91438</td>\n      <td>Pop/Rock</td>\n    </tr>\n  </tbody>\n</table>\n</div>"
     },
     "metadata": {},
     "execution_count": 38
    }
   ],
   "source": [
    "#去掉重复值，即得到每位艺术家所属领域\n",
    "influence1 = influence1.drop_duplicates()\n",
    "influence1.head()"
   ]
  },
  {
   "cell_type": "code",
   "execution_count": 39,
   "metadata": {
    "collapsed": true
   },
   "outputs": [
    {
     "output_type": "execute_result",
     "data": {
      "text/plain": [
       "               influencer_id influencer_main_genre\n",
       "influencer_id                                     \n",
       "759491                759491              Pop/Rock\n",
       "25462                  25462            Electronic\n",
       "66915                  66915              Pop/Rock\n",
       "71209                  71209              Pop/Rock\n",
       "91438                  91438              Pop/Rock"
      ],
      "text/html": "<div>\n<style scoped>\n    .dataframe tbody tr th:only-of-type {\n        vertical-align: middle;\n    }\n\n    .dataframe tbody tr th {\n        vertical-align: top;\n    }\n\n    .dataframe thead th {\n        text-align: right;\n    }\n</style>\n<table border=\"1\" class=\"dataframe\">\n  <thead>\n    <tr style=\"text-align: right;\">\n      <th></th>\n      <th>influencer_id</th>\n      <th>influencer_main_genre</th>\n    </tr>\n    <tr>\n      <th>influencer_id</th>\n      <th></th>\n      <th></th>\n    </tr>\n  </thead>\n  <tbody>\n    <tr>\n      <th>759491</th>\n      <td>759491</td>\n      <td>Pop/Rock</td>\n    </tr>\n    <tr>\n      <th>25462</th>\n      <td>25462</td>\n      <td>Electronic</td>\n    </tr>\n    <tr>\n      <th>66915</th>\n      <td>66915</td>\n      <td>Pop/Rock</td>\n    </tr>\n    <tr>\n      <th>71209</th>\n      <td>71209</td>\n      <td>Pop/Rock</td>\n    </tr>\n    <tr>\n      <th>91438</th>\n      <td>91438</td>\n      <td>Pop/Rock</td>\n    </tr>\n  </tbody>\n</table>\n</div>"
     },
     "metadata": {},
     "execution_count": 39
    }
   ],
   "source": [
    "influence1.index = influence1['influencer_id']\n",
    "influence1.head()"
   ]
  },
  {
   "cell_type": "code",
   "execution_count": 40,
   "metadata": {},
   "outputs": [],
   "source": [
    "#做一个字典，键为艺术家id，值为艺术家所属领域。\n",
    "genre_id1 = dict(influence1['influencer_main_genre'])"
   ]
  },
  {
   "cell_type": "code",
   "execution_count": 41,
   "metadata": {
    "collapsed": true
   },
   "outputs": [
    {
     "output_type": "execute_result",
     "data": {
      "text/plain": [
       "   follower_id follower_main_genre\n",
       "0           74            Pop/Rock\n",
       "1          335            Pop/Rock\n",
       "2          335            Pop/Rock\n",
       "3          335            Pop/Rock\n",
       "4          335            Pop/Rock"
      ],
      "text/html": "<div>\n<style scoped>\n    .dataframe tbody tr th:only-of-type {\n        vertical-align: middle;\n    }\n\n    .dataframe tbody tr th {\n        vertical-align: top;\n    }\n\n    .dataframe thead th {\n        text-align: right;\n    }\n</style>\n<table border=\"1\" class=\"dataframe\">\n  <thead>\n    <tr style=\"text-align: right;\">\n      <th></th>\n      <th>follower_id</th>\n      <th>follower_main_genre</th>\n    </tr>\n  </thead>\n  <tbody>\n    <tr>\n      <th>0</th>\n      <td>74</td>\n      <td>Pop/Rock</td>\n    </tr>\n    <tr>\n      <th>1</th>\n      <td>335</td>\n      <td>Pop/Rock</td>\n    </tr>\n    <tr>\n      <th>2</th>\n      <td>335</td>\n      <td>Pop/Rock</td>\n    </tr>\n    <tr>\n      <th>3</th>\n      <td>335</td>\n      <td>Pop/Rock</td>\n    </tr>\n    <tr>\n      <th>4</th>\n      <td>335</td>\n      <td>Pop/Rock</td>\n    </tr>\n  </tbody>\n</table>\n</div>"
     },
     "metadata": {},
     "execution_count": 41
    }
   ],
   "source": [
    "influence = influence_data[['follower_id', 'follower_main_genre']]\n",
    "influence.head()"
   ]
  },
  {
   "cell_type": "code",
   "execution_count": 42,
   "metadata": {
    "collapsed": true
   },
   "outputs": [
    {
     "output_type": "execute_result",
     "data": {
      "text/plain": [
       "    follower_id follower_main_genre\n",
       "0            74            Pop/Rock\n",
       "1           335            Pop/Rock\n",
       "21          441            Pop/Rock\n",
       "39          589            Pop/Rock\n",
       "42         1098            Pop/Rock"
      ],
      "text/html": "<div>\n<style scoped>\n    .dataframe tbody tr th:only-of-type {\n        vertical-align: middle;\n    }\n\n    .dataframe tbody tr th {\n        vertical-align: top;\n    }\n\n    .dataframe thead th {\n        text-align: right;\n    }\n</style>\n<table border=\"1\" class=\"dataframe\">\n  <thead>\n    <tr style=\"text-align: right;\">\n      <th></th>\n      <th>follower_id</th>\n      <th>follower_main_genre</th>\n    </tr>\n  </thead>\n  <tbody>\n    <tr>\n      <th>0</th>\n      <td>74</td>\n      <td>Pop/Rock</td>\n    </tr>\n    <tr>\n      <th>1</th>\n      <td>335</td>\n      <td>Pop/Rock</td>\n    </tr>\n    <tr>\n      <th>21</th>\n      <td>441</td>\n      <td>Pop/Rock</td>\n    </tr>\n    <tr>\n      <th>39</th>\n      <td>589</td>\n      <td>Pop/Rock</td>\n    </tr>\n    <tr>\n      <th>42</th>\n      <td>1098</td>\n      <td>Pop/Rock</td>\n    </tr>\n  </tbody>\n</table>\n</div>"
     },
     "metadata": {},
     "execution_count": 42
    }
   ],
   "source": [
    "#去掉重复值，即得到每位艺术家所属领域\n",
    "influence = influence.drop_duplicates()\n",
    "influence.head()"
   ]
  },
  {
   "cell_type": "code",
   "execution_count": 43,
   "metadata": {
    "collapsed": true
   },
   "outputs": [
    {
     "output_type": "execute_result",
     "data": {
      "text/plain": [
       "             follower_id follower_main_genre\n",
       "follower_id                                 \n",
       "74                    74            Pop/Rock\n",
       "335                  335            Pop/Rock\n",
       "441                  441            Pop/Rock\n",
       "589                  589            Pop/Rock\n",
       "1098                1098            Pop/Rock"
      ],
      "text/html": "<div>\n<style scoped>\n    .dataframe tbody tr th:only-of-type {\n        vertical-align: middle;\n    }\n\n    .dataframe tbody tr th {\n        vertical-align: top;\n    }\n\n    .dataframe thead th {\n        text-align: right;\n    }\n</style>\n<table border=\"1\" class=\"dataframe\">\n  <thead>\n    <tr style=\"text-align: right;\">\n      <th></th>\n      <th>follower_id</th>\n      <th>follower_main_genre</th>\n    </tr>\n    <tr>\n      <th>follower_id</th>\n      <th></th>\n      <th></th>\n    </tr>\n  </thead>\n  <tbody>\n    <tr>\n      <th>74</th>\n      <td>74</td>\n      <td>Pop/Rock</td>\n    </tr>\n    <tr>\n      <th>335</th>\n      <td>335</td>\n      <td>Pop/Rock</td>\n    </tr>\n    <tr>\n      <th>441</th>\n      <td>441</td>\n      <td>Pop/Rock</td>\n    </tr>\n    <tr>\n      <th>589</th>\n      <td>589</td>\n      <td>Pop/Rock</td>\n    </tr>\n    <tr>\n      <th>1098</th>\n      <td>1098</td>\n      <td>Pop/Rock</td>\n    </tr>\n  </tbody>\n</table>\n</div>"
     },
     "metadata": {},
     "execution_count": 43
    }
   ],
   "source": [
    "influence.index = influence['follower_id']\n",
    "influence.head()"
   ]
  },
  {
   "cell_type": "code",
   "execution_count": 44,
   "metadata": {},
   "outputs": [],
   "source": [
    "#做一个字典，键为艺术家id，值为艺术家所属领域。\n",
    "genre_id = dict(influence['follower_main_genre'])"
   ]
  },
  {
   "cell_type": "code",
   "execution_count": 45,
   "metadata": {},
   "outputs": [],
   "source": [
    "c={}\n",
    "for k,v in genre_id.items():\n",
    "    c[k]=v\n",
    "\n",
    "for k,v in genre_id1.items():\n",
    "    c[k]=v  "
   ]
  },
  {
   "cell_type": "code",
   "execution_count": 46,
   "metadata": {},
   "outputs": [
    {
     "output_type": "execute_result",
     "data": {
      "text/plain": [
       "array(['Pop/Rock', 'Country', 'Classical', 'Electronic', 'Comedy/Spoken',\n",
       "       'Easy Listening', 'R&B;', 'Stage & Screen', 'Reggae', 'Blues',\n",
       "       'New Age', 'Latin', 'Vocal', 'Jazz', 'International', 'Folk',\n",
       "       'Religious', 'Unknown', 'Avant-Garde', \"Children's\"], dtype=object)"
      ]
     },
     "metadata": {},
     "execution_count": 46
    }
   ],
   "source": [
    "#得到所有的领域\n",
    "genres = influence['follower_main_genre'].unique()\n",
    "genres"
   ]
  },
  {
   "cell_type": "code",
   "execution_count": 47,
   "metadata": {},
   "outputs": [],
   "source": [
    "#将artists_id化为int型\n",
    "full_music_data['artists_id'] = full_music_data['artists_id'].map(lambda x:x.replace('[', '').replace(']', '').split(',')[0])\n",
    "full_music_data['artists_id']=full_music_data['artists_id'].map(int)"
   ]
  },
  {
   "cell_type": "code",
   "execution_count": 48,
   "metadata": {},
   "outputs": [],
   "source": [
    "#在full_music_data中添加一列，为创作该歌曲的艺术家所属领域\n",
    "full_music_data['genre'] = full_music_data['artists_id'].map(c)"
   ]
  },
  {
   "source": [
    "# 艺术家指标"
   ],
   "cell_type": "markdown",
   "metadata": {}
  },
  {
   "cell_type": "code",
   "execution_count": null,
   "metadata": {},
   "outputs": [],
   "source": []
  },
  {
   "cell_type": "code",
   "execution_count": null,
   "metadata": {},
   "outputs": [],
   "source": []
  },
  {
   "cell_type": "code",
   "execution_count": null,
   "metadata": {},
   "outputs": [],
   "source": []
  },
  {
   "cell_type": "code",
   "execution_count": null,
   "metadata": {},
   "outputs": [],
   "source": []
  },
  {
   "cell_type": "code",
   "execution_count": null,
   "metadata": {},
   "outputs": [],
   "source": []
  },
  {
   "cell_type": "code",
   "execution_count": null,
   "metadata": {},
   "outputs": [],
   "source": []
  },
  {
   "cell_type": "markdown",
   "metadata": {},
   "source": [
    "# 处理指标"
   ]
  },
  {
   "cell_type": "code",
   "execution_count": 49,
   "metadata": {},
   "outputs": [],
   "source": [
    "year=full_music_data[['year']]"
   ]
  },
  {
   "cell_type": "code",
   "execution_count": 50,
   "metadata": {},
   "outputs": [
    {
     "output_type": "execute_result",
     "data": {
      "text/plain": [
       "   energy  valence  mode  danceability    tempo  loudness  acousticness  \\\n",
       "0   0.365    0.131     0         0.600  130.046   -13.083        0.0672   \n",
       "1   0.326    0.179     0         0.874  119.620   -13.302        0.0136   \n",
       "2   0.531    0.336     0         0.670  139.385    -8.267        0.0156   \n",
       "3   0.702    0.850     1         0.761  104.773    -8.523        0.1080   \n",
       "4   0.828    0.902     0         0.661  115.078   -12.673        0.2760   \n",
       "\n",
       "   liveness  duration_ms  popularity  instrumentalness       genre  \n",
       "0    0.0921       437200          54          0.585000  Electronic  \n",
       "1    0.0993       581008          53          0.148000  Electronic  \n",
       "2    0.3060       431293          55          0.345000  Electronic  \n",
       "3    0.0935       304427          34          0.000031        R&B;  \n",
       "4    0.2870       264933          37          0.000001        R&B;  "
      ],
      "text/html": "<div>\n<style scoped>\n    .dataframe tbody tr th:only-of-type {\n        vertical-align: middle;\n    }\n\n    .dataframe tbody tr th {\n        vertical-align: top;\n    }\n\n    .dataframe thead th {\n        text-align: right;\n    }\n</style>\n<table border=\"1\" class=\"dataframe\">\n  <thead>\n    <tr style=\"text-align: right;\">\n      <th></th>\n      <th>energy</th>\n      <th>valence</th>\n      <th>mode</th>\n      <th>danceability</th>\n      <th>tempo</th>\n      <th>loudness</th>\n      <th>acousticness</th>\n      <th>liveness</th>\n      <th>duration_ms</th>\n      <th>popularity</th>\n      <th>instrumentalness</th>\n      <th>genre</th>\n    </tr>\n  </thead>\n  <tbody>\n    <tr>\n      <th>0</th>\n      <td>0.365</td>\n      <td>0.131</td>\n      <td>0</td>\n      <td>0.600</td>\n      <td>130.046</td>\n      <td>-13.083</td>\n      <td>0.0672</td>\n      <td>0.0921</td>\n      <td>437200</td>\n      <td>54</td>\n      <td>0.585000</td>\n      <td>Electronic</td>\n    </tr>\n    <tr>\n      <th>1</th>\n      <td>0.326</td>\n      <td>0.179</td>\n      <td>0</td>\n      <td>0.874</td>\n      <td>119.620</td>\n      <td>-13.302</td>\n      <td>0.0136</td>\n      <td>0.0993</td>\n      <td>581008</td>\n      <td>53</td>\n      <td>0.148000</td>\n      <td>Electronic</td>\n    </tr>\n    <tr>\n      <th>2</th>\n      <td>0.531</td>\n      <td>0.336</td>\n      <td>0</td>\n      <td>0.670</td>\n      <td>139.385</td>\n      <td>-8.267</td>\n      <td>0.0156</td>\n      <td>0.3060</td>\n      <td>431293</td>\n      <td>55</td>\n      <td>0.345000</td>\n      <td>Electronic</td>\n    </tr>\n    <tr>\n      <th>3</th>\n      <td>0.702</td>\n      <td>0.850</td>\n      <td>1</td>\n      <td>0.761</td>\n      <td>104.773</td>\n      <td>-8.523</td>\n      <td>0.1080</td>\n      <td>0.0935</td>\n      <td>304427</td>\n      <td>34</td>\n      <td>0.000031</td>\n      <td>R&amp;B;</td>\n    </tr>\n    <tr>\n      <th>4</th>\n      <td>0.828</td>\n      <td>0.902</td>\n      <td>0</td>\n      <td>0.661</td>\n      <td>115.078</td>\n      <td>-12.673</td>\n      <td>0.2760</td>\n      <td>0.2870</td>\n      <td>264933</td>\n      <td>37</td>\n      <td>0.000001</td>\n      <td>R&amp;B;</td>\n    </tr>\n  </tbody>\n</table>\n</div>"
     },
     "metadata": {},
     "execution_count": 50
    }
   ],
   "source": [
    "data=full_music_data[['energy','valence','mode','danceability',\n",
    "                      'tempo','loudness','acousticness','liveness','duration_ms','popularity','instrumentalness','genre']]\n",
    "data.head()"
   ]
  },
  {
   "cell_type": "code",
   "execution_count": 51,
   "metadata": {},
   "outputs": [],
   "source": [
    "#处理极小化指标\n",
    "data['liveness1']=1-data['liveness']"
   ]
  },
  {
   "cell_type": "code",
   "execution_count": 52,
   "metadata": {},
   "outputs": [],
   "source": [
    "#定义纯度指标\n",
    "data['purity']=data['liveness1']+data['acousticness']"
   ]
  },
  {
   "cell_type": "code",
   "execution_count": 53,
   "metadata": {},
   "outputs": [],
   "source": [
    "#定义情感倾向指标\n",
    "data['emotion']=data['energy']+data['valence']+data['mode']"
   ]
  },
  {
   "cell_type": "code",
   "execution_count": 54,
   "metadata": {},
   "outputs": [],
   "source": [
    "import pandas as pd\n",
    "import numpy as np\n",
    "import math\n",
    "from numpy import array\n",
    "#定义熵值法函数\n",
    "def cal_weight(x):\n",
    "    '''熵值法计算变量的权重'''\n",
    "    # 标准化\n",
    "    x = x.apply(lambda x: ((x - np.min(x)) / (np.max(x) - np.min(x))))\n",
    " \n",
    "    # 求k\n",
    "    rows = x.index.size  # 行\n",
    "    cols = x.columns.size  # 列\n",
    "    k = 1.0 / math.log(rows)\n",
    " \n",
    "    lnf = [[None] * cols for i in range(rows)]\n",
    " \n",
    "    # 矩阵计算--\n",
    "    # 信息熵\n",
    "    # p=array(p)\n",
    "    x = array(x)\n",
    "    lnf = [[None] * cols for i in range(rows)]\n",
    "    lnf = array(lnf)\n",
    "    for i in range(0, rows):\n",
    "        for j in range(0, cols):\n",
    "            if x[i][j] == 0:\n",
    "                lnfij = 0.0\n",
    "            else:\n",
    "                p = x[i][j] / x.sum(axis=0)[j]\n",
    "                lnfij = math.log(p) * p * (-k)\n",
    "            lnf[i][j] = lnfij\n",
    "    lnf = pd.DataFrame(lnf)\n",
    "    E = lnf\n",
    " \n",
    "    # 计算冗余度\n",
    "    d = 1 - E.sum(axis=0)\n",
    "    # 计算各指标的权重\n",
    "    w = [[None] * 1 for i in range(cols)]\n",
    "    for j in range(0, cols):\n",
    "        wj = d[j] / sum(d)\n",
    "        w[j] = wj\n",
    "        # 计算各样本的综合得分,用最原始的数据\n",
    "    return w"
   ]
  },
  {
   "cell_type": "code",
   "execution_count": 22,
   "metadata": {},
   "outputs": [
    {
     "output_type": "execute_result",
     "data": {
      "text/plain": [
       "[0.5854533265576414, 0.35210331038254183, 0.06244336305981675]"
      ]
     },
     "metadata": {},
     "execution_count": 22
    }
   ],
   "source": [
    "w = cal_weight(data[['danceability','tempo','loudness']])\n",
    "w"
   ]
  },
  {
   "cell_type": "code",
   "execution_count": 23,
   "metadata": {},
   "outputs": [],
   "source": [
    "data['rhythm']=w[0]*data['danceability']+w[1]*data['tempo']+w[2]*data['loudness']"
   ]
  },
  {
   "cell_type": "code",
   "execution_count": 24,
   "metadata": {},
   "outputs": [
    {
     "output_type": "error",
     "ename": "NameError",
     "evalue": "name 'data3' is not defined",
     "traceback": [
      "\u001b[1;31m---------------------------------------------------------------------------\u001b[0m",
      "\u001b[1;31mNameError\u001b[0m                                 Traceback (most recent call last)",
      "\u001b[1;32m<ipython-input-24-cc6b815cb657>\u001b[0m in \u001b[0;36m<module>\u001b[1;34m\u001b[0m\n\u001b[0;32m      1\u001b[0m \u001b[0mdata2\u001b[0m\u001b[1;33m=\u001b[0m\u001b[0mdata\u001b[0m\u001b[1;33m[\u001b[0m\u001b[1;33m[\u001b[0m\u001b[1;34m'emotion'\u001b[0m\u001b[1;33m,\u001b[0m\u001b[1;34m'rhythm'\u001b[0m\u001b[1;33m,\u001b[0m\u001b[1;34m'purity'\u001b[0m\u001b[1;33m,\u001b[0m\u001b[1;34m'duration_ms'\u001b[0m\u001b[1;33m,\u001b[0m\u001b[1;34m'popularity'\u001b[0m\u001b[1;33m,\u001b[0m\u001b[1;34m'instrumentalness'\u001b[0m\u001b[1;33m,\u001b[0m\u001b[1;34m'genre'\u001b[0m\u001b[1;33m]\u001b[0m\u001b[1;33m]\u001b[0m\u001b[1;33m\u001b[0m\u001b[0m\n\u001b[1;32m----> 2\u001b[1;33m \u001b[0mdata3\u001b[0m\u001b[1;33m[\u001b[0m\u001b[1;34m'year'\u001b[0m\u001b[1;33m]\u001b[0m\u001b[1;33m=\u001b[0m\u001b[0myear\u001b[0m\u001b[1;33m[\u001b[0m\u001b[1;34m'year'\u001b[0m\u001b[1;33m]\u001b[0m\u001b[1;33m\u001b[0m\u001b[0m\n\u001b[0m\u001b[0;32m      3\u001b[0m \u001b[0mdata3\u001b[0m\u001b[1;33m.\u001b[0m\u001b[0mto_csv\u001b[0m\u001b[1;33m(\u001b[0m\u001b[1;34m'六个指标标准化前.csv'\u001b[0m\u001b[1;33m)\u001b[0m\u001b[1;33m\u001b[0m\u001b[0m\n",
      "\u001b[1;31mNameError\u001b[0m: name 'data3' is not defined"
     ]
    }
   ],
   "source": [
    "data2=data[['emotion','rhythm','purity','duration_ms','popularity','instrumentalness','genre']]\n",
    "data3['year']=year['year']\n",
    "data3.to_csv('六个指标标准化前.csv')"
   ]
  },
  {
   "cell_type": "code",
   "execution_count": null,
   "metadata": {},
   "outputs": [],
   "source": [
    "data4=data[['emotion','rhythm','purity','duration_ms','popularity','instrumentalness']]\n",
    "data5=data4.apply(lambda x : (x-np.min(x))/(np.max(x)-np.min(x)))\n",
    "data5['genre']=data['genre']\n",
    "data5['year']=year['year']\n",
    "data5.to_csv('六个指标标准化后.csv')"
   ]
  },
  {
   "cell_type": "code",
   "execution_count": null,
   "metadata": {},
   "outputs": [],
   "source": []
  },
  {
   "cell_type": "code",
   "execution_count": null,
   "metadata": {},
   "outputs": [],
   "source": []
  },
  {
   "cell_type": "code",
   "execution_count": null,
   "metadata": {},
   "outputs": [],
   "source": []
  }
 ],
 "metadata": {
  "kernelspec": {
   "display_name": "Python 3",
   "language": "python",
   "name": "python3"
  },
  "language_info": {
   "codemirror_mode": {
    "name": "ipython",
    "version": 3
   },
   "file_extension": ".py",
   "mimetype": "text/x-python",
   "name": "python",
   "nbconvert_exporter": "python",
   "pygments_lexer": "ipython3",
   "version": "3.7.0-final"
  }
 },
 "nbformat": 4,
 "nbformat_minor": 2
}