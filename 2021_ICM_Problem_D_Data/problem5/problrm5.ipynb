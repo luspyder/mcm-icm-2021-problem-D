{
 "metadata": {
  "language_info": {
   "codemirror_mode": {
    "name": "ipython",
    "version": 3
   },
   "file_extension": ".py",
   "mimetype": "text/x-python",
   "name": "python",
   "nbconvert_exporter": "python",
   "pygments_lexer": "ipython3",
   "version": "3.7.0-final"
  },
  "orig_nbformat": 2,
  "kernelspec": {
   "name": "python3",
   "display_name": "Python 3",
   "language": "python"
  }
 },
 "nbformat": 4,
 "nbformat_minor": 2,
 "cells": [
  {
   "cell_type": "code",
   "execution_count": 1,
   "metadata": {},
   "outputs": [],
   "source": [
    "import pandas as pd\n",
    "#pd.set_option('display.max_rows',None)"
   ]
  },
  {
   "cell_type": "code",
   "execution_count": 2,
   "metadata": {},
   "outputs": [],
   "source": [
    "full_music_data=pd.read_csv('../problem3 data/full_music plus geners.csv')"
   ]
  },
  {
   "cell_type": "code",
   "execution_count": 19,
   "metadata": {},
   "outputs": [],
   "source": [
    "year_list=[1921,1922,1923,1924,1925, 1930, 1938, 1941, 1942, 1945, 1947, 1949, 1954, 1955, 1956,\n",
    "            1957, 1958, 1959, 1960, 1961, 1962, 1963, 1964, 1965, 1966, 1967,\n",
    "            1968, 1969, 1970, 1971, 1972, 1973, 1974, 1975, 1976, 1977, 1978,\n",
    "            1979, 1980, 1981, 1982, 1983, 1984, 1985, 1986, 1987, 1988, 1989,\n",
    "            1990, 1991, 1992, 1993, 1994, 1995, 1996, 1997, 1998, 1999, 2000,\n",
    "            2001, 2002, 2003, 2004, 2005, 2006, 2007, 2008, 2009, 2010, 2011,\n",
    "            2012, 2013, 2014, 2015, 2016, 2017, 2018, 2019, 2020]"
   ]
  },
  {
   "cell_type": "code",
   "execution_count": 14,
   "metadata": {},
   "outputs": [
    {
     "output_type": "execute_result",
     "data": {
      "text/plain": [
       "   Unnamed: 0           artist_names  artists_id  danceability  energy  \\\n",
       "0           0  [\"Fat Freddy's Drop\"]      178301         0.600   0.365   \n",
       "1           1  [\"Fat Freddy's Drop\"]      178301         0.874   0.326   \n",
       "2           2  [\"Fat Freddy's Drop\"]      178301         0.670   0.531   \n",
       "3           3   [\"Alexander O'Neal\"]      625201         0.761   0.702   \n",
       "4           4   [\"Alexander O'Neal\"]      625201         0.661   0.828   \n",
       "\n",
       "   valence    tempo  loudness  mode  key  ...   instrumentalness  liveness  \\\n",
       "0    0.131  130.046   -13.083     0    9  ...           0.585000    0.0921   \n",
       "1    0.179  119.620   -13.302     0   11  ...           0.148000    0.0993   \n",
       "2    0.336  139.385    -8.267     0    9  ...           0.345000    0.3060   \n",
       "3    0.850  104.773    -8.523     1    7  ...           0.000031    0.0935   \n",
       "4    0.902  115.078   -12.673     0   11  ...           0.000001    0.2870   \n",
       "\n",
       "   speechiness  explicit  duration_ms  popularity  year  release_date  \\\n",
       "0       0.0498         0       437200          54  2005          2005   \n",
       "1       0.1310         0       581008          53  2005          2005   \n",
       "2       0.0377         0       431293          55  2009      8/7/2009   \n",
       "3       0.0389         0       304427          34  1991      1/1/1991   \n",
       "4       0.0390         0       264933          37  1987     7/29/1987   \n",
       "\n",
       "                  song_title (censored) genre  \n",
       "0                                 Ernie   NaN  \n",
       "1                         Wandering Eye   NaN  \n",
       "2                              The Raft   NaN  \n",
       "3                          All True Man  R&B;  \n",
       "4  (What Can I Say) To Make You Love Me  R&B;  \n",
       "\n",
       "[5 rows x 21 columns]"
      ],
      "text/html": "<div>\n<style scoped>\n    .dataframe tbody tr th:only-of-type {\n        vertical-align: middle;\n    }\n\n    .dataframe tbody tr th {\n        vertical-align: top;\n    }\n\n    .dataframe thead th {\n        text-align: right;\n    }\n</style>\n<table border=\"1\" class=\"dataframe\">\n  <thead>\n    <tr style=\"text-align: right;\">\n      <th></th>\n      <th>Unnamed: 0</th>\n      <th>artist_names</th>\n      <th>artists_id</th>\n      <th>danceability</th>\n      <th>energy</th>\n      <th>valence</th>\n      <th>tempo</th>\n      <th>loudness</th>\n      <th>mode</th>\n      <th>key</th>\n      <th>...</th>\n      <th>instrumentalness</th>\n      <th>liveness</th>\n      <th>speechiness</th>\n      <th>explicit</th>\n      <th>duration_ms</th>\n      <th>popularity</th>\n      <th>year</th>\n      <th>release_date</th>\n      <th>song_title (censored)</th>\n      <th>genre</th>\n    </tr>\n  </thead>\n  <tbody>\n    <tr>\n      <th>0</th>\n      <td>0</td>\n      <td>[\"Fat Freddy's Drop\"]</td>\n      <td>178301</td>\n      <td>0.600</td>\n      <td>0.365</td>\n      <td>0.131</td>\n      <td>130.046</td>\n      <td>-13.083</td>\n      <td>0</td>\n      <td>9</td>\n      <td>...</td>\n      <td>0.585000</td>\n      <td>0.0921</td>\n      <td>0.0498</td>\n      <td>0</td>\n      <td>437200</td>\n      <td>54</td>\n      <td>2005</td>\n      <td>2005</td>\n      <td>Ernie</td>\n      <td>NaN</td>\n    </tr>\n    <tr>\n      <th>1</th>\n      <td>1</td>\n      <td>[\"Fat Freddy's Drop\"]</td>\n      <td>178301</td>\n      <td>0.874</td>\n      <td>0.326</td>\n      <td>0.179</td>\n      <td>119.620</td>\n      <td>-13.302</td>\n      <td>0</td>\n      <td>11</td>\n      <td>...</td>\n      <td>0.148000</td>\n      <td>0.0993</td>\n      <td>0.1310</td>\n      <td>0</td>\n      <td>581008</td>\n      <td>53</td>\n      <td>2005</td>\n      <td>2005</td>\n      <td>Wandering Eye</td>\n      <td>NaN</td>\n    </tr>\n    <tr>\n      <th>2</th>\n      <td>2</td>\n      <td>[\"Fat Freddy's Drop\"]</td>\n      <td>178301</td>\n      <td>0.670</td>\n      <td>0.531</td>\n      <td>0.336</td>\n      <td>139.385</td>\n      <td>-8.267</td>\n      <td>0</td>\n      <td>9</td>\n      <td>...</td>\n      <td>0.345000</td>\n      <td>0.3060</td>\n      <td>0.0377</td>\n      <td>0</td>\n      <td>431293</td>\n      <td>55</td>\n      <td>2009</td>\n      <td>8/7/2009</td>\n      <td>The Raft</td>\n      <td>NaN</td>\n    </tr>\n    <tr>\n      <th>3</th>\n      <td>3</td>\n      <td>[\"Alexander O'Neal\"]</td>\n      <td>625201</td>\n      <td>0.761</td>\n      <td>0.702</td>\n      <td>0.850</td>\n      <td>104.773</td>\n      <td>-8.523</td>\n      <td>1</td>\n      <td>7</td>\n      <td>...</td>\n      <td>0.000031</td>\n      <td>0.0935</td>\n      <td>0.0389</td>\n      <td>0</td>\n      <td>304427</td>\n      <td>34</td>\n      <td>1991</td>\n      <td>1/1/1991</td>\n      <td>All True Man</td>\n      <td>R&amp;B;</td>\n    </tr>\n    <tr>\n      <th>4</th>\n      <td>4</td>\n      <td>[\"Alexander O'Neal\"]</td>\n      <td>625201</td>\n      <td>0.661</td>\n      <td>0.828</td>\n      <td>0.902</td>\n      <td>115.078</td>\n      <td>-12.673</td>\n      <td>0</td>\n      <td>11</td>\n      <td>...</td>\n      <td>0.000001</td>\n      <td>0.2870</td>\n      <td>0.0390</td>\n      <td>0</td>\n      <td>264933</td>\n      <td>37</td>\n      <td>1987</td>\n      <td>7/29/1987</td>\n      <td>(What Can I Say) To Make You Love Me</td>\n      <td>R&amp;B;</td>\n    </tr>\n  </tbody>\n</table>\n<p>5 rows × 21 columns</p>\n</div>"
     },
     "metadata": {},
     "execution_count": 14
    }
   ],
   "source": [
    "full_music_data.head()"
   ]
  },
  {
   "cell_type": "code",
   "execution_count": null,
   "metadata": {},
   "outputs": [],
   "source": []
  },
  {
   "source": [
    "## 对popularity的分析"
   ],
   "cell_type": "markdown",
   "metadata": {}
  },
  {
   "cell_type": "code",
   "execution_count": 50,
   "metadata": {},
   "outputs": [],
   "source": [
    "pop_full_music=full_music_data[full_music_data['genre']=='Pop/Rock']"
   ]
  },
  {
   "cell_type": "code",
   "execution_count": 51,
   "metadata": {},
   "outputs": [
    {
     "output_type": "execute_result",
     "data": {
      "text/plain": [
       "1190"
      ]
     },
     "metadata": {},
     "execution_count": 51
    }
   ],
   "source": [
    "pop_full_music['year'].value_counts()[1970]"
   ]
  },
  {
   "cell_type": "code",
   "execution_count": 52,
   "metadata": {},
   "outputs": [],
   "source": [
    "pop_count_list=[]#从1927年开始的pop音乐年数目\n",
    "for i in year_list:\n",
    "            if i in pop_full_music['year'].unique():\n",
    "\n",
    "                pop_count_list.append(pop_full_music['year'].value_counts()[i])\n",
    "            else:\n",
    "                pop_count_list.append(0)"
   ]
  },
  {
   "cell_type": "code",
   "execution_count": 53,
   "metadata": {},
   "outputs": [
    {
     "output_type": "stream",
     "name": "stdout",
     "text": [
      "[0, 0, 0, 0, 1, 8, 1, 2, 1, 2, 3, 3, 2, 1, 32, 85, 134, 153, 210, 227, 254, 443, 424, 629, 811, 945, 866, 1132, 1190, 1081, 931, 1122, 1105, 974, 951, 1156, 991, 1130, 1086, 1063, 1068, 1152, 1023, 1036, 997, 1015, 966, 933, 825, 772, 754, 692, 795, 714, 683, 673, 620, 712, 737, 701, 789, 848, 774, 711, 783, 790, 750, 658, 607, 543, 627, 585, 463, 430, 314, 302, 231, 251, 204]\n"
     ]
    }
   ],
   "source": [
    "print(pop_count_list)"
   ]
  },
  {
   "cell_type": "code",
   "execution_count": 41,
   "metadata": {},
   "outputs": [
    {
     "output_type": "stream",
     "name": "stdout",
     "text": [
      "[3, 3, 2, 1, 32, 85, 134, 153, 210, 227, 254, 443, 424, 629, 811, 945, 866, 1132, 1190, 1081, 931, 1122, 1105, 974, 951, 1156, 991, 1130, 1086, 1063, 1068, 1152, 1023, 1036, 997, 1015, 966, 933, 825, 772, 754, 692, 795, 714, 683, 673, 620, 712, 737, 701, 789, 848, 774, 711, 783, 790, 750, 658, 607, 543, 627, 585, 463, 430, 314, 302, 231, 251, 204]\n"
     ]
    }
   ],
   "source": [
    "print(pop_count_list[10:])"
   ]
  },
  {
   "source": [
    "___"
   ],
   "cell_type": "markdown",
   "metadata": {}
  },
  {
   "cell_type": "code",
   "execution_count": 54,
   "metadata": {},
   "outputs": [],
   "source": [
    "rb_full_music=full_music_data[full_music_data['genre']=='Pop/Rock']"
   ]
  },
  {
   "cell_type": "code",
   "execution_count": 55,
   "metadata": {},
   "outputs": [],
   "source": [
    "rb_count_list=[]#从1927年开始的pop音乐年数目\n",
    "for i in [1921, 1922, 1923, 1924, 1925, 1926, 1927, 1928, 1929, 1930, 1931, 1932, 1933, 1934, 1935, 1936, 1937, 1938, 1939, 1940, 1941, 1942, 1943, 1944, 1945, 1946, 1947, 1948, 1949, 1950, 1951, 1952, 1953, 1954, 1955, 1956, 1957, 1958, 1959, 1960, 1961, 1962, 1963, 1964, 1965, 1966, 1967, 1968, 1969, 1970, 1971, 1972, 1973, 1974, 1975, 1976, 1977, 1978, 1979, 1980, 1981, 1982, 1983, 1984, 1985, 1986, 1987, 1988, 1989, 1990, 1991, 1992, 1993, 1994, 1995, 1996, 1997, 1998, 1999, 2000, 2001, 2002, 2003, 2004, 2005, 2006, 2007, 2008, 2009, 2010, 2011, 2012, 2013, 2014, 2015, 2016, 2017, 2018, 2019, 2020]:\n",
    "            if i in rb_full_music['year'].unique():\n",
    "\n",
    "                rb_count_list.append(rb_full_music['year'].value_counts()[i])\n",
    "            else:\n",
    "                rb_count_list.append(0)"
   ]
  },
  {
   "cell_type": "code",
   "execution_count": 56,
   "metadata": {},
   "outputs": [
    {
     "output_type": "stream",
     "name": "stdout",
     "text": [
      "[0, 0, 0, 0, 1, 0, 0, 0, 0, 8, 0, 0, 0, 0, 0, 0, 0, 1, 0, 0, 2, 1, 0, 0, 2, 0, 3, 0, 3, 0, 0, 0, 0, 2, 1, 32, 85, 134, 153, 210, 227, 254, 443, 424, 629, 811, 945, 866, 1132, 1190, 1081, 931, 1122, 1105, 974, 951, 1156, 991, 1130, 1086, 1063, 1068, 1152, 1023, 1036, 997, 1015, 966, 933, 825, 772, 754, 692, 795, 714, 683, 673, 620, 712, 737, 701, 789, 848, 774, 711, 783, 790, 750, 658, 607, 543, 627, 585, 463, 430, 314, 302, 231, 251, 204]\n"
     ]
    }
   ],
   "source": [
    "print(rb_count_list)"
   ]
  },
  {
   "cell_type": "code",
   "execution_count": 42,
   "metadata": {},
   "outputs": [
    {
     "output_type": "stream",
     "name": "stdout",
     "text": [
      "[2, 2, 2, 5, 44, 50, 88, 123, 140, 156, 191, 128, 207, 186, 177, 154, 217, 165, 208, 279, 319, 231, 202, 236, 214, 164, 179, 172, 177, 132, 182, 124, 112, 148, 127, 140, 93, 110, 115, 177, 146, 166, 155, 155, 185, 180, 140, 150, 200, 182, 136, 160, 148, 182, 140, 155, 166, 102, 99, 114, 135, 82, 112, 131, 120, 79, 67, 72, 99]\n"
     ]
    }
   ],
   "source": [
    "print(rb_count_list[10:])"
   ]
  },
  {
   "source": [
    "___"
   ],
   "cell_type": "markdown",
   "metadata": {}
  },
  {
   "cell_type": "code",
   "execution_count": null,
   "metadata": {},
   "outputs": [],
   "source": [
    "rb_full_music=full_music_data[full_music_data['genre']=='Pop/Rock']"
   ]
  },
  {
   "cell_type": "code",
   "execution_count": null,
   "metadata": {},
   "outputs": [],
   "source": []
  },
  {
   "cell_type": "code",
   "execution_count": null,
   "metadata": {},
   "outputs": [],
   "source": []
  },
  {
   "source": [
    "____"
   ],
   "cell_type": "markdown",
   "metadata": {}
  },
  {
   "cell_type": "code",
   "execution_count": null,
   "metadata": {},
   "outputs": [],
   "source": []
  },
  {
   "cell_type": "code",
   "execution_count": 20,
   "metadata": {},
   "outputs": [],
   "source": [
    "jazz_full_music=full_music_data[full_music_data['genre']=='Jazz']"
   ]
  },
  {
   "cell_type": "code",
   "execution_count": 25,
   "metadata": {},
   "outputs": [],
   "source": [
    "jazz_count_list=[]#从1927年开始的pop音乐年数目\n",
    "for i in year_list:\n",
    "            if i in jazz_full_music['year'].unique():\n",
    "\n",
    "                jazz_count_list.append(jazz_full_music['year'].value_counts()[i])\n",
    "            else:\n",
    "                jazz_count_list.append(0)"
   ]
  },
  {
   "cell_type": "code",
   "execution_count": 27,
   "metadata": {},
   "outputs": [
    {
     "output_type": "stream",
     "name": "stdout",
     "text": [
      "[0, 0, 0, 0, 0, 2, 2, 2, 10, 19, 6, 51, 313, 453, 432, 557, 247, 429, 280, 283, 331, 287, 231, 125, 87, 73, 111, 59, 36, 46, 41, 56, 80, 58, 75, 61, 50, 37, 36, 55, 34, 22, 17, 34, 59, 41, 45, 41, 20, 40, 33, 21, 24, 26, 19, 28, 15, 33, 10, 16, 18, 10, 11, 8, 14, 9, 9, 10, 2, 6, 3, 0, 3, 3, 0, 0, 1, 1, 0]\n"
     ]
    }
   ],
   "source": [
    "print(jazz_count_list)"
   ]
  },
  {
   "cell_type": "code",
   "execution_count": 43,
   "metadata": {},
   "outputs": [
    {
     "output_type": "stream",
     "name": "stdout",
     "text": [
      "[6, 51, 313, 453, 432, 557, 247, 429, 280, 283, 331, 287, 231, 125, 87, 73, 111, 59, 36, 46, 41, 56, 80, 58, 75, 61, 50, 37, 36, 55, 34, 22, 17, 34, 59, 41, 45, 41, 20, 40, 33, 21, 24, 26, 19, 28, 15, 33, 10, 16, 18, 10, 11, 8, 14, 9, 9, 10, 2, 6, 3, 0, 3, 3, 0, 0, 1, 1, 0]\n"
     ]
    }
   ],
   "source": [
    "print(jazz_count_list[10:])"
   ]
  },
  {
   "source": [
    "___"
   ],
   "cell_type": "markdown",
   "metadata": {}
  },
  {
   "cell_type": "code",
   "execution_count": 29,
   "metadata": {},
   "outputs": [],
   "source": [
    "country_full_music=full_music_data[full_music_data['genre']=='Country']"
   ]
  },
  {
   "cell_type": "code",
   "execution_count": 31,
   "metadata": {},
   "outputs": [],
   "source": [
    "country_count_list=[]#从1927年开始的pop音乐年数目\n",
    "for i in year_list:\n",
    "            if i in country_full_music['year'].unique():\n",
    "\n",
    "                country_count_list.append(country_full_music['year'].value_counts()[i])\n",
    "            else:\n",
    "                country_count_list.append(0)"
   ]
  },
  {
   "cell_type": "code",
   "execution_count": 32,
   "metadata": {},
   "outputs": [
    {
     "output_type": "stream",
     "name": "stdout",
     "text": [
      "[0, 0, 0, 0, 0, 1, 0, 1, 0, 1, 29, 25, 30, 41, 92, 102, 85, 109, 123, 98, 98, 178, 136, 113, 104, 98, 163, 86, 86, 97, 86, 97, 124, 204, 149, 89, 143, 100, 127, 136, 114, 65, 76, 99, 87, 161, 88, 109, 101, 134, 112, 115, 121, 140, 132, 90, 124, 109, 115, 73, 121, 84, 173, 110, 130, 114, 122, 125, 163, 106, 67, 97, 111, 66, 58, 53, 57, 62, 28]\n"
     ]
    }
   ],
   "source": [
    "print(country_count_list)"
   ]
  },
  {
   "cell_type": "code",
   "execution_count": 44,
   "metadata": {},
   "outputs": [
    {
     "output_type": "stream",
     "name": "stdout",
     "text": [
      "[29, 25, 30, 41, 92, 102, 85, 109, 123, 98, 98, 178, 136, 113, 104, 98, 163, 86, 86, 97, 86, 97, 124, 204, 149, 89, 143, 100, 127, 136, 114, 65, 76, 99, 87, 161, 88, 109, 101, 134, 112, 115, 121, 140, 132, 90, 124, 109, 115, 73, 121, 84, 173, 110, 130, 114, 122, 125, 163, 106, 67, 97, 111, 66, 58, 53, 57, 62, 28]\n"
     ]
    }
   ],
   "source": [
    "print(country_count_list[10:])"
   ]
  },
  {
   "source": [
    "___"
   ],
   "cell_type": "markdown",
   "metadata": {}
  },
  {
   "cell_type": "code",
   "execution_count": 35,
   "metadata": {},
   "outputs": [],
   "source": [
    "elec_full_music=full_music_data[full_music_data['genre']=='Electronic']"
   ]
  },
  {
   "cell_type": "code",
   "execution_count": 36,
   "metadata": {},
   "outputs": [],
   "source": [
    "elec_count_list=[]#从1927年开始的pop音乐年数目\n",
    "for i in year_list:\n",
    "            if i in elec_full_music['year'].unique():\n",
    "\n",
    "                elec_count_list.append(elec_full_music['year'].value_counts()[i])\n",
    "            else:\n",
    "                elec_count_list.append(0)"
   ]
  },
  {
   "cell_type": "code",
   "execution_count": 38,
   "metadata": {},
   "outputs": [
    {
     "output_type": "stream",
     "name": "stdout",
     "text": [
      "[0, 0, 0, 0, 0, 0, 0, 0, 0, 0, 0, 11, 0, 0, 0, 0, 0, 0, 0, 0, 0, 2, 0, 0, 0, 0, 0, 0, 2, 0, 3, 2, 12, 17, 4, 15, 9, 19, 3, 15, 0, 7, 0, 3, 9, 6, 1, 8, 16, 15, 22, 18, 32, 19, 44, 45, 65, 30, 34, 43, 33, 14, 15, 23, 31, 34, 33, 26, 50, 59, 37, 43, 37, 56, 39, 39, 36, 26, 48]\n"
     ]
    }
   ],
   "source": [
    "print(elec_count_list)"
   ]
  },
  {
   "cell_type": "code",
   "execution_count": null,
   "metadata": {},
   "outputs": [],
   "source": []
  },
  {
   "cell_type": "code",
   "execution_count": null,
   "metadata": {},
   "outputs": [],
   "source": []
  },
  {
   "cell_type": "code",
   "execution_count": null,
   "metadata": {},
   "outputs": [],
   "source": []
  },
  {
   "cell_type": "code",
   "execution_count": 14,
   "metadata": {},
   "outputs": [],
   "source": [
    "year_value=pd.DataFrame(pop_full_music['year'].value_counts()).sort_index()"
   ]
  },
  {
   "cell_type": "code",
   "execution_count": 19,
   "metadata": {},
   "outputs": [
    {
     "output_type": "stream",
     "name": "stdout",
     "text": [
      "[1, 8, 1, 2, 1, 2, 3, 3, 2, 1, 32, 85, 134, 153, 210, 227, 254, 443, 424, 629, 811, 945, 866, 1132, 1190, 1081, 931, 1122, 1105, 974, 951, 1156, 991, 1130, 1086, 1063, 1068, 1152, 1023, 1036, 997, 1015, 966, 933, 825, 772, 754, 692, 795, 714, 683, 673, 620, 712, 737, 701, 789, 848, 774, 711, 783, 790, 750, 658, 607, 543, 627, 585, 463, 430, 314, 302, 231, 251, 204]\n"
     ]
    }
   ],
   "source": [
    "print(year_value['year'].values.tolist())"
   ]
  },
  {
   "cell_type": "code",
   "execution_count": 20,
   "metadata": {},
   "outputs": [
    {
     "output_type": "stream",
     "name": "stdout",
     "text": [
      "Int64Index([1925, 1930, 1938, 1941, 1942, 1945, 1947, 1949, 1954, 1955, 1956,\n            1957, 1958, 1959, 1960, 1961, 1962, 1963, 1964, 1965, 1966, 1967,\n            1968, 1969, 1970, 1971, 1972, 1973, 1974, 1975, 1976, 1977, 1978,\n            1979, 1980, 1981, 1982, 1983, 1984, 1985, 1986, 1987, 1988, 1989,\n            1990, 1991, 1992, 1993, 1994, 1995, 1996, 1997, 1998, 1999, 2000,\n            2001, 2002, 2003, 2004, 2005, 2006, 2007, 2008, 2009, 2010, 2011,\n            2012, 2013, 2014, 2015, 2016, 2017, 2018, 2019, 2020],\n           dtype='int64')\n"
     ]
    }
   ],
   "source": [
    "print(year_value.index)"
   ]
  },
  {
   "cell_type": "code",
   "execution_count": 45,
   "metadata": {},
   "outputs": [],
   "source": [
    "year_data=pd.read_csv('../2021_ICM_Problem_D_Data/data_by_year.csv')"
   ]
  },
  {
   "cell_type": "code",
   "execution_count": 46,
   "metadata": {},
   "outputs": [
    {
     "output_type": "execute_result",
     "data": {
      "text/plain": [
       "   year  danceability    energy   valence       tempo   loudness  mode  key  \\\n",
       "0  1921      0.425661  0.236784  0.425495  100.397758 -17.095437     1    7   \n",
       "1  1922      0.480000  0.237026  0.534056  101.376139 -19.179958     1   10   \n",
       "2  1923      0.568462  0.246936  0.624788  112.456598 -14.373882     1    0   \n",
       "3  1924      0.548654  0.347033  0.668574  120.653359 -14.202304     1   10   \n",
       "4  1925      0.571890  0.264373  0.616430  115.671715 -14.516707     1    5   \n",
       "\n",
       "   acousticness  instrumentalness  liveness  speechiness  duration_ms  \\\n",
       "0      0.895823          0.322330  0.215814     0.077258  229911.9141   \n",
       "1      0.939236          0.440470  0.238647     0.115419  167904.5417   \n",
       "2      0.976329          0.401932  0.236656     0.098619  178356.3018   \n",
       "3      0.935575          0.583955  0.237875     0.090210  188461.6498   \n",
       "4      0.965422          0.408893  0.243094     0.115457  184130.6996   \n",
       "\n",
       "   popularity  \n",
       "0    0.351562  \n",
       "1    0.138889  \n",
       "2    5.727811  \n",
       "3    0.603376  \n",
       "4    2.707224  "
      ],
      "text/html": "<div>\n<style scoped>\n    .dataframe tbody tr th:only-of-type {\n        vertical-align: middle;\n    }\n\n    .dataframe tbody tr th {\n        vertical-align: top;\n    }\n\n    .dataframe thead th {\n        text-align: right;\n    }\n</style>\n<table border=\"1\" class=\"dataframe\">\n  <thead>\n    <tr style=\"text-align: right;\">\n      <th></th>\n      <th>year</th>\n      <th>danceability</th>\n      <th>energy</th>\n      <th>valence</th>\n      <th>tempo</th>\n      <th>loudness</th>\n      <th>mode</th>\n      <th>key</th>\n      <th>acousticness</th>\n      <th>instrumentalness</th>\n      <th>liveness</th>\n      <th>speechiness</th>\n      <th>duration_ms</th>\n      <th>popularity</th>\n    </tr>\n  </thead>\n  <tbody>\n    <tr>\n      <th>0</th>\n      <td>1921</td>\n      <td>0.425661</td>\n      <td>0.236784</td>\n      <td>0.425495</td>\n      <td>100.397758</td>\n      <td>-17.095437</td>\n      <td>1</td>\n      <td>7</td>\n      <td>0.895823</td>\n      <td>0.322330</td>\n      <td>0.215814</td>\n      <td>0.077258</td>\n      <td>229911.9141</td>\n      <td>0.351562</td>\n    </tr>\n    <tr>\n      <th>1</th>\n      <td>1922</td>\n      <td>0.480000</td>\n      <td>0.237026</td>\n      <td>0.534056</td>\n      <td>101.376139</td>\n      <td>-19.179958</td>\n      <td>1</td>\n      <td>10</td>\n      <td>0.939236</td>\n      <td>0.440470</td>\n      <td>0.238647</td>\n      <td>0.115419</td>\n      <td>167904.5417</td>\n      <td>0.138889</td>\n    </tr>\n    <tr>\n      <th>2</th>\n      <td>1923</td>\n      <td>0.568462</td>\n      <td>0.246936</td>\n      <td>0.624788</td>\n      <td>112.456598</td>\n      <td>-14.373882</td>\n      <td>1</td>\n      <td>0</td>\n      <td>0.976329</td>\n      <td>0.401932</td>\n      <td>0.236656</td>\n      <td>0.098619</td>\n      <td>178356.3018</td>\n      <td>5.727811</td>\n    </tr>\n    <tr>\n      <th>3</th>\n      <td>1924</td>\n      <td>0.548654</td>\n      <td>0.347033</td>\n      <td>0.668574</td>\n      <td>120.653359</td>\n      <td>-14.202304</td>\n      <td>1</td>\n      <td>10</td>\n      <td>0.935575</td>\n      <td>0.583955</td>\n      <td>0.237875</td>\n      <td>0.090210</td>\n      <td>188461.6498</td>\n      <td>0.603376</td>\n    </tr>\n    <tr>\n      <th>4</th>\n      <td>1925</td>\n      <td>0.571890</td>\n      <td>0.264373</td>\n      <td>0.616430</td>\n      <td>115.671715</td>\n      <td>-14.516707</td>\n      <td>1</td>\n      <td>5</td>\n      <td>0.965422</td>\n      <td>0.408893</td>\n      <td>0.243094</td>\n      <td>0.115457</td>\n      <td>184130.6996</td>\n      <td>2.707224</td>\n    </tr>\n  </tbody>\n</table>\n</div>"
     },
     "metadata": {},
     "execution_count": 46
    }
   ],
   "source": [
    "year_data.head()"
   ]
  },
  {
   "cell_type": "code",
   "execution_count": 47,
   "metadata": {},
   "outputs": [
    {
     "output_type": "stream",
     "name": "stdout",
     "text": [
      "[0.895823438, 0.9392361109999999, 0.9763289409999999, 0.9355745440000001, 0.965422053, 0.7409195940000001, 0.934606323, 0.946188006, 0.591110509, 0.943474167, 0.875893523, 0.940087683, 0.90501086, 0.89285375, 0.781330269, 0.795903499, 0.899630872, 0.9161265270000001, 0.882833908, 0.84711055, 0.8995705490000001, 0.851035543, 0.9157940059999999, 0.893705469, 0.701386808, 0.9242169259999999, 0.915398535, 0.93426515, 0.907894695, 0.866723461, 0.9049332959999999, 0.8618859179999999, 0.8911394579999999, 0.8679190720000001, 0.8450710370000001, 0.82009984, 0.79008145, 0.777831215, 0.77708802, 0.757064973, 0.751735725, 0.7130967659999999, 0.712598155, 0.6863645620000001, 0.607825756, 0.5338556560000001, 0.516564568, 0.48882821299999996, 0.44372195200000003, 0.452994844, 0.4529077, 0.457332818, 0.412536525, 0.437783753, 0.415703517, 0.362252849, 0.332094207, 0.316198631, 0.282255005, 0.282898615, 0.292430356, 0.28324909800000003, 0.277094656, 0.271246582, 0.278964298, 0.271672888, 0.301076418, 0.302313665, 0.300095781, 0.30409253199999997, 0.315968343, 0.306602951, 0.29101732199999997, 0.288333828, 0.28495528, 0.285922864, 0.303142846, 0.277977635, 0.263356708, 0.286654303, 0.270392167, 0.275408605, 0.24737943199999998, 0.26421029100000004, 0.246816743, 0.266283979, 0.24180436100000002, 0.24111812, 0.24526934600000003, 0.22871228300000002, 0.239381757, 0.23619658600000001, 0.24196859, 0.23761402, 0.246800921, 0.280289704, 0.289916291, 0.271940903, 0.289297545, 0.247374037]\n"
     ]
    }
   ],
   "source": [
    "print(year_data['acousticness'].values.tolist())"
   ]
  },
  {
   "cell_type": "code",
   "execution_count": 48,
   "metadata": {},
   "outputs": [
    {
     "output_type": "stream",
     "name": "stdout",
     "text": [
      "[1921, 1922, 1923, 1924, 1925, 1926, 1927, 1928, 1929, 1930, 1931, 1932, 1933, 1934, 1935, 1936, 1937, 1938, 1939, 1940, 1941, 1942, 1943, 1944, 1945, 1946, 1947, 1948, 1949, 1950, 1951, 1952, 1953, 1954, 1955, 1956, 1957, 1958, 1959, 1960, 1961, 1962, 1963, 1964, 1965, 1966, 1967, 1968, 1969, 1970, 1971, 1972, 1973, 1974, 1975, 1976, 1977, 1978, 1979, 1980, 1981, 1982, 1983, 1984, 1985, 1986, 1987, 1988, 1989, 1990, 1991, 1992, 1993, 1994, 1995, 1996, 1997, 1998, 1999, 2000, 2001, 2002, 2003, 2004, 2005, 2006, 2007, 2008, 2009, 2010, 2011, 2012, 2013, 2014, 2015, 2016, 2017, 2018, 2019, 2020]\n"
     ]
    }
   ],
   "source": [
    "print(year_data['year'].values.tolist())"
   ]
  },
  {
   "cell_type": "code",
   "execution_count": 49,
   "metadata": {},
   "outputs": [
    {
     "output_type": "stream",
     "name": "stdout",
     "text": [
      "[0.236783594, 0.23702625, 0.246936095, 0.347032911, 0.264372624, 0.23919493100000003, 0.256158725, 0.207142747, 0.24051342, 0.327300193, 0.25843397, 0.305478497, 0.287360611, 0.259990614, 0.244698444, 0.306197884, 0.286996191, 0.283627083, 0.295648348, 0.309803345, 0.261471915, 0.257303499, 0.275160773, 0.260940793, 0.227028101, 0.20425213600000003, 0.258910931, 0.247542342, 0.244627165, 0.324979145, 0.25026026, 0.25158091, 0.265310379, 0.25936111, 0.287021395, 0.306298675, 0.29674755, 0.311422635, 0.31679769, 0.34719967, 0.343305774, 0.379657, 0.373388235, 0.397462465, 0.44583065299999997, 0.472649405, 0.452212345, 0.456669245, 0.48958083, 0.49700465, 0.500450855, 0.5069524000000001, 0.53483924, 0.521901915, 0.534788445, 0.555976895, 0.564516209, 0.570141965, 0.598865365, 0.60089611, 0.601334018, 0.60003644, 0.614877525, 0.60113052, 0.61172402, 0.6218376, 0.587712445, 0.59349891, 0.591701695, 0.5876501999999999, 0.56602222, 0.589770795, 0.571926055, 0.59062834, 0.589224815, 0.591787605, 0.601817345, 0.61484337, 0.641978199, 0.62222284, 0.638171686, 0.65135229, 0.66617755, 0.66055256, 0.659766555, 0.657829535, 0.6730113, 0.675860892, 0.680765665, 0.693696355, 0.6712690659999999, 0.66981134, 0.656467189, 0.653497022, 0.633498827, 0.592877156, 0.586738587, 0.59059117, 0.578796113, 0.611914191]\n"
     ]
    }
   ],
   "source": [
    "print(year_data['energy'].values.tolist())"
   ]
  },
  {
   "source": [
    "# mode指标的处理\n"
   ],
   "cell_type": "markdown",
   "metadata": {}
  },
  {
   "cell_type": "code",
   "execution_count": 65,
   "metadata": {},
   "outputs": [
    {
     "output_type": "stream",
     "name": "stdout",
     "text": [
      "year  mode\n1921  1         2\n1924  1        11\n      0         4\n1925  1         4\n1926  1         7\n      0         6\n1927  1         8\n      0         5\n1928  1       259\n      0       153\n1929  1         1\n1930  1        84\n      0        21\n1931  1        25\n      0         3\n1932  1        13\n      0         3\n1933  1       184\n      0        88\n1934  1        24\n      0        13\n1935  1        73\n      0        34\n1936  1       117\n      0        43\n1937  1       122\n      0        55\n1938  1       147\n      0        26\n1939  1        92\n             ... \n2006  1       881\n      0       454\n2007  1       874\n      0       377\n2008  1       844\n      0       365\n2009  1       749\n      0       348\n2010  1       751\n      0       307\n2011  1       701\n      0       289\n2012  1       657\n      0       343\n2013  1       632\n      0       349\n2014  1       578\n      0       273\n2015  1       450\n      0       314\n2016  1       391\n      0       236\n2017  1       328\n      0       211\n2018  1       296\n      0       160\n2019  1       318\n      0       181\n2020  1       312\n      0       169\nName: mode, Length: 193, dtype: int64\n"
     ]
    }
   ],
   "source": [
    "mode_count=full_music_data.groupby('year')['mode'].value_counts()\n",
    "print(mode_count)"
   ]
  },
  {
   "cell_type": "code",
   "execution_count": 66,
   "metadata": {},
   "outputs": [],
   "source": [
    "mode_df=pd.DataFrame(mode_count)"
   ]
  },
  {
   "cell_type": "code",
   "execution_count": 91,
   "metadata": {},
   "outputs": [
    {
     "output_type": "error",
     "ename": "KeyError",
     "evalue": "'the label [0] is not in the [index]'",
     "traceback": [
      "\u001b[1;31m---------------------------------------------------------------------------\u001b[0m",
      "\u001b[1;31mKeyError\u001b[0m                                  Traceback (most recent call last)",
      "\u001b[1;32mD:\\anconda\\lib\\site-packages\\pandas\\core\\indexing.py\u001b[0m in \u001b[0;36m_validate_key\u001b[1;34m(self, key, axis)\u001b[0m\n\u001b[0;32m   1789\u001b[0m                 \u001b[1;32mif\u001b[0m \u001b[1;32mnot\u001b[0m \u001b[0max\u001b[0m\u001b[1;33m.\u001b[0m\u001b[0mcontains\u001b[0m\u001b[1;33m(\u001b[0m\u001b[0mkey\u001b[0m\u001b[1;33m)\u001b[0m\u001b[1;33m:\u001b[0m\u001b[1;33m\u001b[0m\u001b[0m\n\u001b[1;32m-> 1790\u001b[1;33m                     \u001b[0merror\u001b[0m\u001b[1;33m(\u001b[0m\u001b[1;33m)\u001b[0m\u001b[1;33m\u001b[0m\u001b[0m\n\u001b[0m\u001b[0;32m   1791\u001b[0m             \u001b[1;32mexcept\u001b[0m \u001b[0mTypeError\u001b[0m \u001b[1;32mas\u001b[0m \u001b[0me\u001b[0m\u001b[1;33m:\u001b[0m\u001b[1;33m\u001b[0m\u001b[0m\n",
      "\u001b[1;32mD:\\anconda\\lib\\site-packages\\pandas\\core\\indexing.py\u001b[0m in \u001b[0;36merror\u001b[1;34m()\u001b[0m\n\u001b[0;32m   1784\u001b[0m                                .format(key=key,\n\u001b[1;32m-> 1785\u001b[1;33m                                        axis=self.obj._get_axis_name(axis)))\n\u001b[0m\u001b[0;32m   1786\u001b[0m \u001b[1;33m\u001b[0m\u001b[0m\n",
      "\u001b[1;31mKeyError\u001b[0m: 'the label [0] is not in the [index]'",
      "\nDuring handling of the above exception, another exception occurred:\n",
      "\u001b[1;31mKeyError\u001b[0m                                  Traceback (most recent call last)",
      "\u001b[1;32m<ipython-input-91-ab856df0869a>\u001b[0m in \u001b[0;36m<module>\u001b[1;34m\u001b[0m\n\u001b[0;32m      4\u001b[0m         \u001b[0mnum2\u001b[0m\u001b[1;33m=\u001b[0m\u001b[1;36m1\u001b[0m\u001b[1;33m\u001b[0m\u001b[0m\n\u001b[0;32m      5\u001b[0m     \u001b[1;32melse\u001b[0m\u001b[1;33m:\u001b[0m\u001b[1;33m\u001b[0m\u001b[0m\n\u001b[1;32m----> 6\u001b[1;33m         \u001b[0mnum2\u001b[0m\u001b[1;33m=\u001b[0m\u001b[0mmode_df\u001b[0m\u001b[1;33m.\u001b[0m\u001b[0mloc\u001b[0m\u001b[1;33m[\u001b[0m\u001b[0mi\u001b[0m\u001b[1;33m[\u001b[0m\u001b[1;36m0\u001b[0m\u001b[1;33m]\u001b[0m\u001b[1;33m]\u001b[0m\u001b[1;33m.\u001b[0m\u001b[0mloc\u001b[0m\u001b[1;33m[\u001b[0m\u001b[1;36m0\u001b[0m\u001b[1;33m]\u001b[0m\u001b[1;33m\u001b[0m\u001b[0m\n\u001b[0m",
      "\u001b[1;32mD:\\anconda\\lib\\site-packages\\pandas\\core\\indexing.py\u001b[0m in \u001b[0;36m__getitem__\u001b[1;34m(self, key)\u001b[0m\n\u001b[0;32m   1476\u001b[0m \u001b[1;33m\u001b[0m\u001b[0m\n\u001b[0;32m   1477\u001b[0m             \u001b[0mmaybe_callable\u001b[0m \u001b[1;33m=\u001b[0m \u001b[0mcom\u001b[0m\u001b[1;33m.\u001b[0m\u001b[0m_apply_if_callable\u001b[0m\u001b[1;33m(\u001b[0m\u001b[0mkey\u001b[0m\u001b[1;33m,\u001b[0m \u001b[0mself\u001b[0m\u001b[1;33m.\u001b[0m\u001b[0mobj\u001b[0m\u001b[1;33m)\u001b[0m\u001b[1;33m\u001b[0m\u001b[0m\n\u001b[1;32m-> 1478\u001b[1;33m             \u001b[1;32mreturn\u001b[0m \u001b[0mself\u001b[0m\u001b[1;33m.\u001b[0m\u001b[0m_getitem_axis\u001b[0m\u001b[1;33m(\u001b[0m\u001b[0mmaybe_callable\u001b[0m\u001b[1;33m,\u001b[0m \u001b[0maxis\u001b[0m\u001b[1;33m=\u001b[0m\u001b[0maxis\u001b[0m\u001b[1;33m)\u001b[0m\u001b[1;33m\u001b[0m\u001b[0m\n\u001b[0m\u001b[0;32m   1479\u001b[0m \u001b[1;33m\u001b[0m\u001b[0m\n\u001b[0;32m   1480\u001b[0m     \u001b[1;32mdef\u001b[0m \u001b[0m_is_scalar_access\u001b[0m\u001b[1;33m(\u001b[0m\u001b[0mself\u001b[0m\u001b[1;33m,\u001b[0m \u001b[0mkey\u001b[0m\u001b[1;33m)\u001b[0m\u001b[1;33m:\u001b[0m\u001b[1;33m\u001b[0m\u001b[0m\n",
      "\u001b[1;32mD:\\anconda\\lib\\site-packages\\pandas\\core\\indexing.py\u001b[0m in \u001b[0;36m_getitem_axis\u001b[1;34m(self, key, axis)\u001b[0m\n\u001b[0;32m   1909\u001b[0m \u001b[1;33m\u001b[0m\u001b[0m\n\u001b[0;32m   1910\u001b[0m         \u001b[1;31m# fall thru to straight lookup\u001b[0m\u001b[1;33m\u001b[0m\u001b[1;33m\u001b[0m\u001b[0m\n\u001b[1;32m-> 1911\u001b[1;33m         \u001b[0mself\u001b[0m\u001b[1;33m.\u001b[0m\u001b[0m_validate_key\u001b[0m\u001b[1;33m(\u001b[0m\u001b[0mkey\u001b[0m\u001b[1;33m,\u001b[0m \u001b[0maxis\u001b[0m\u001b[1;33m)\u001b[0m\u001b[1;33m\u001b[0m\u001b[0m\n\u001b[0m\u001b[0;32m   1912\u001b[0m         \u001b[1;32mreturn\u001b[0m \u001b[0mself\u001b[0m\u001b[1;33m.\u001b[0m\u001b[0m_get_label\u001b[0m\u001b[1;33m(\u001b[0m\u001b[0mkey\u001b[0m\u001b[1;33m,\u001b[0m \u001b[0maxis\u001b[0m\u001b[1;33m=\u001b[0m\u001b[0maxis\u001b[0m\u001b[1;33m)\u001b[0m\u001b[1;33m\u001b[0m\u001b[0m\n\u001b[0;32m   1913\u001b[0m \u001b[1;33m\u001b[0m\u001b[0m\n",
      "\u001b[1;32mD:\\anconda\\lib\\site-packages\\pandas\\core\\indexing.py\u001b[0m in \u001b[0;36m_validate_key\u001b[1;34m(self, key, axis)\u001b[0m\n\u001b[0;32m   1796\u001b[0m                 \u001b[1;32mraise\u001b[0m\u001b[1;33m\u001b[0m\u001b[0m\n\u001b[0;32m   1797\u001b[0m             \u001b[1;32mexcept\u001b[0m\u001b[1;33m:\u001b[0m\u001b[1;33m\u001b[0m\u001b[0m\n\u001b[1;32m-> 1798\u001b[1;33m                 \u001b[0merror\u001b[0m\u001b[1;33m(\u001b[0m\u001b[1;33m)\u001b[0m\u001b[1;33m\u001b[0m\u001b[0m\n\u001b[0m\u001b[0;32m   1799\u001b[0m \u001b[1;33m\u001b[0m\u001b[0m\n\u001b[0;32m   1800\u001b[0m     \u001b[1;32mdef\u001b[0m \u001b[0m_is_scalar_access\u001b[0m\u001b[1;33m(\u001b[0m\u001b[0mself\u001b[0m\u001b[1;33m,\u001b[0m \u001b[0mkey\u001b[0m\u001b[1;33m)\u001b[0m\u001b[1;33m:\u001b[0m\u001b[1;33m\u001b[0m\u001b[0m\n",
      "\u001b[1;32mD:\\anconda\\lib\\site-packages\\pandas\\core\\indexing.py\u001b[0m in \u001b[0;36merror\u001b[1;34m()\u001b[0m\n\u001b[0;32m   1783\u001b[0m                 raise KeyError(u\"the label [{key}] is not in the [{axis}]\"\n\u001b[0;32m   1784\u001b[0m                                .format(key=key,\n\u001b[1;32m-> 1785\u001b[1;33m                                        axis=self.obj._get_axis_name(axis)))\n\u001b[0m\u001b[0;32m   1786\u001b[0m \u001b[1;33m\u001b[0m\u001b[0m\n\u001b[0;32m   1787\u001b[0m             \u001b[1;32mtry\u001b[0m\u001b[1;33m:\u001b[0m\u001b[1;33m\u001b[0m\u001b[0m\n",
      "\u001b[1;31mKeyError\u001b[0m: 'the label [0] is not in the [index]'"
     ]
    }
   ],
   "source": [
    "for i in mode_count.index:\n",
    "    num1=mode_df.loc[i[0]].loc[1]\n",
    "    if i[0]==1921 or i[0]==1925:\n",
    "        num2=1\n",
    "    else: \n",
    "        num2=mode_df.loc[i[0]].loc[0]"
   ]
  },
  {
   "cell_type": "code",
   "execution_count": 89,
   "metadata": {},
   "outputs": [
    {
     "output_type": "execute_result",
     "data": {
      "text/plain": [
       "int"
      ]
     },
     "metadata": {},
     "execution_count": 89
    }
   ],
   "source": [
    "type(i[0])"
   ]
  },
  {
   "cell_type": "code",
   "execution_count": null,
   "metadata": {},
   "outputs": [],
   "source": []
  }
 ]
}