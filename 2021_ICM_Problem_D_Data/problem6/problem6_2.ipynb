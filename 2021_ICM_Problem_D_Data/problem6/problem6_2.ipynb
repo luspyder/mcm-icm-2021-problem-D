{
 "metadata": {
  "language_info": {
   "codemirror_mode": {
    "name": "ipython",
    "version": 3
   },
   "file_extension": ".py",
   "mimetype": "text/x-python",
   "name": "python",
   "nbconvert_exporter": "python",
   "pygments_lexer": "ipython3",
   "version": "3.7.0-final"
  },
  "orig_nbformat": 2,
  "kernelspec": {
   "name": "python3",
   "display_name": "Python 3",
   "language": "python"
  }
 },
 "nbformat": 4,
 "nbformat_minor": 2,
 "cells": [
  {
   "cell_type": "code",
   "execution_count": 22,
   "metadata": {},
   "outputs": [],
   "source": [
    "import pandas as pd\n",
    "import numpy as np"
   ]
  },
  {
   "cell_type": "code",
   "execution_count": 23,
   "metadata": {},
   "outputs": [],
   "source": [
    "inf_data=pd.read_csv('../2021_ICM_Problem_D_Data/influence_data.csv',encoding='gbk')\n"
   ]
  },
  {
   "cell_type": "code",
   "execution_count": 34,
   "metadata": {},
   "outputs": [],
   "source": [
    "artist_data=pd.read_csv('../2021_ICM_Problem_D_Data/data_by_artist.csv',encoding='utf-8')\n",
    "full_music_data=pd.read_csv('../2021_ICM_Problem_D_Data/full_music_data.csv')"
   ]
  },
  {
   "cell_type": "code",
   "execution_count": 24,
   "metadata": {},
   "outputs": [
    {
     "output_type": "execute_result",
     "data": {
      "text/plain": [
       "   influencer_id influencer_name influencer_main_genre  \\\n",
       "0         759491   The Exploited              Pop/Rock   \n",
       "1          25462          Tricky            Electronic   \n",
       "2          66915       Bob Dylan              Pop/Rock   \n",
       "3          71209   Leonard Cohen              Pop/Rock   \n",
       "4          91438    The Gun Club              Pop/Rock   \n",
       "\n",
       "   influencer_active_start  follower_id   follower_name follower_main_genre  \\\n",
       "0                     1980           74  Special Duties            Pop/Rock   \n",
       "1                     1990          335       PJ Harvey            Pop/Rock   \n",
       "2                     1960          335       PJ Harvey            Pop/Rock   \n",
       "3                     1950          335       PJ Harvey            Pop/Rock   \n",
       "4                     1980          335       PJ Harvey            Pop/Rock   \n",
       "\n",
       "   follower_active_start  \n",
       "0                   1980  \n",
       "1                   1990  \n",
       "2                   1990  \n",
       "3                   1990  \n",
       "4                   1990  "
      ],
      "text/html": "<div>\n<style scoped>\n    .dataframe tbody tr th:only-of-type {\n        vertical-align: middle;\n    }\n\n    .dataframe tbody tr th {\n        vertical-align: top;\n    }\n\n    .dataframe thead th {\n        text-align: right;\n    }\n</style>\n<table border=\"1\" class=\"dataframe\">\n  <thead>\n    <tr style=\"text-align: right;\">\n      <th></th>\n      <th>influencer_id</th>\n      <th>influencer_name</th>\n      <th>influencer_main_genre</th>\n      <th>influencer_active_start</th>\n      <th>follower_id</th>\n      <th>follower_name</th>\n      <th>follower_main_genre</th>\n      <th>follower_active_start</th>\n    </tr>\n  </thead>\n  <tbody>\n    <tr>\n      <th>0</th>\n      <td>759491</td>\n      <td>The Exploited</td>\n      <td>Pop/Rock</td>\n      <td>1980</td>\n      <td>74</td>\n      <td>Special Duties</td>\n      <td>Pop/Rock</td>\n      <td>1980</td>\n    </tr>\n    <tr>\n      <th>1</th>\n      <td>25462</td>\n      <td>Tricky</td>\n      <td>Electronic</td>\n      <td>1990</td>\n      <td>335</td>\n      <td>PJ Harvey</td>\n      <td>Pop/Rock</td>\n      <td>1990</td>\n    </tr>\n    <tr>\n      <th>2</th>\n      <td>66915</td>\n      <td>Bob Dylan</td>\n      <td>Pop/Rock</td>\n      <td>1960</td>\n      <td>335</td>\n      <td>PJ Harvey</td>\n      <td>Pop/Rock</td>\n      <td>1990</td>\n    </tr>\n    <tr>\n      <th>3</th>\n      <td>71209</td>\n      <td>Leonard Cohen</td>\n      <td>Pop/Rock</td>\n      <td>1950</td>\n      <td>335</td>\n      <td>PJ Harvey</td>\n      <td>Pop/Rock</td>\n      <td>1990</td>\n    </tr>\n    <tr>\n      <th>4</th>\n      <td>91438</td>\n      <td>The Gun Club</td>\n      <td>Pop/Rock</td>\n      <td>1980</td>\n      <td>335</td>\n      <td>PJ Harvey</td>\n      <td>Pop/Rock</td>\n      <td>1990</td>\n    </tr>\n  </tbody>\n</table>\n</div>"
     },
     "metadata": {},
     "execution_count": 24
    }
   ],
   "source": [
    "inf_data.head()"
   ]
  },
  {
   "cell_type": "code",
   "execution_count": 25,
   "metadata": {},
   "outputs": [],
   "source": [
    "node_list=inf_data['influencer_id'].unique().tolist()\n",
    "for node in inf_data['follower_id']:\n",
    "    if node not in node_list:\n",
    "        node_list.append(node)"
   ]
  },
  {
   "source": [
    "# 统计每个node的子节点人数"
   ],
   "cell_type": "markdown",
   "metadata": {}
  },
  {
   "cell_type": "code",
   "execution_count": 26,
   "metadata": {},
   "outputs": [],
   "source": [
    "son_num={}#各个节点子节点数目"
   ]
  },
  {
   "cell_type": "code",
   "execution_count": 27,
   "metadata": {},
   "outputs": [],
   "source": [
    "for node in node_list:\n",
    "    son_num[node]=inf_data[inf_data['influencer_id']==node].shape[0]"
   ]
  },
  {
   "cell_type": "code",
   "execution_count": 28,
   "metadata": {},
   "outputs": [
    {
     "output_type": "execute_result",
     "data": {
      "text/plain": [
       "[74,\n",
       " 55778,\n",
       " 258430,\n",
       " 317545,\n",
       " 335747,\n",
       " 371258,\n",
       " 404734,\n",
       " 471355,\n",
       " 573241,\n",
       " 662225,\n",
       " 804431,\n",
       " 924780]"
      ]
     },
     "metadata": {},
     "execution_count": 28
    }
   ],
   "source": [
    "inf_data[inf_data['influencer_id']==759491].loc[:,'follower_id'].values.tolist()"
   ]
  },
  {
   "cell_type": "code",
   "execution_count": 37,
   "metadata": {},
   "outputs": [],
   "source": [
    "inf_num_value={}#各个节点影响的人数\n",
    "inf_son12_list={}#各个节点子节点孙节点的集合\n",
    "#至多计算二层子节点，分别对二层子节点的数目赋权1，0.3\n",
    "for node in node_list:\n",
    "    lev1_list=inf_data[inf_data['influencer_id']==node].loc[:,'follower_id'].values.tolist()\n",
    "    lev1_num=len(lev1_list)\n",
    "    lev2_list=[]\n",
    "    for node1 in lev1_list:#遍历一级子节点\n",
    "        lev2_list_1=inf_data[inf_data['influencer_id']==node1].loc[:,'follower_id'].values.tolist()#该以及子节点的所有二级子节点\n",
    "        for node1_1 in lev2_list_1:#将single一级子节点的二级子节点保存至该以及子节点的子节点列表中\n",
    "            lev2_list.append(node1_1)\n",
    "    lev2=len(lev2_list)\n",
    "    count=lev1_num+0.3*lev2\n",
    "    inf_num_value[node]=count\n",
    "    son_list=[]\n",
    "    for lev1_node in lev1_list:\n",
    "        son_list.append(lev1_node)\n",
    "    for lev2_node in lev2_list:\n",
    "        son_list.append(lev2_node)\n",
    "    inf_son12_list[node]=son_list"
   ]
  },
  {
   "source": [
    "# 每个节点与其子节点的相似程度"
   ],
   "cell_type": "markdown",
   "metadata": {}
  },
  {
   "cell_type": "code",
   "execution_count": 59,
   "metadata": {},
   "outputs": [],
   "source": [
    "#处理极小化指标\n",
    "artist_data['liveness']=1-artist_data['liveness']\n",
    "#定义纯度指标\n",
    "artist_data['purity']=artist_data['liveness']+artist_data['acousticness']\n",
    "#定义情感倾向指标\n",
    "artist_data['emotion']=artist_data['energy']+artist_data['valence']+artist_data['mode']\n",
    "#引入通过所有音乐的['danceability','tempo','loudness']三个指标进行熵权法求得的权值\n",
    "w=[0.5854533265576414, 0.35210331038254183, 0.06244336305981675]\n",
    "#求节奏指标\n",
    "artist_data['rhythm']=w[0]*artist_data['danceability']+w[1]*artist_data['tempo']+w[2]*artist_data['loudness']\n",
    "artist_feature=artist_data[['artist_id','emotion','rhythm','purity','duration_ms','popularity','instrumentalness']]"
   ]
  },
  {
   "cell_type": "code",
   "execution_count": 60,
   "metadata": {},
   "outputs": [
    {
     "output_type": "execute_result",
     "data": {
      "text/plain": [
       "   artist_id   emotion     rhythm    purity  duration_ms  popularity  \\\n",
       "0     792507  1.602305  38.129297  0.967754  189179.9255   26.004383   \n",
       "1     119107  1.344795  32.167501  1.173883  266541.1251    3.592378   \n",
       "2     816890  2.130043  40.144125  0.927880  162279.2672   26.614130   \n",
       "3      79016  1.700302  38.209818  1.126225  185131.4530   15.621005   \n",
       "4      66915  2.029866  44.023121  0.871544  256713.4203   30.860806   \n",
       "\n",
       "   instrumentalness  \n",
       "0          0.020855  \n",
       "1          0.879508  \n",
       "2          0.022647  \n",
       "3          0.013064  \n",
       "4          0.034211  "
      ],
      "text/html": "<div>\n<style scoped>\n    .dataframe tbody tr th:only-of-type {\n        vertical-align: middle;\n    }\n\n    .dataframe tbody tr th {\n        vertical-align: top;\n    }\n\n    .dataframe thead th {\n        text-align: right;\n    }\n</style>\n<table border=\"1\" class=\"dataframe\">\n  <thead>\n    <tr style=\"text-align: right;\">\n      <th></th>\n      <th>artist_id</th>\n      <th>emotion</th>\n      <th>rhythm</th>\n      <th>purity</th>\n      <th>duration_ms</th>\n      <th>popularity</th>\n      <th>instrumentalness</th>\n    </tr>\n  </thead>\n  <tbody>\n    <tr>\n      <th>0</th>\n      <td>792507</td>\n      <td>1.602305</td>\n      <td>38.129297</td>\n      <td>0.967754</td>\n      <td>189179.9255</td>\n      <td>26.004383</td>\n      <td>0.020855</td>\n    </tr>\n    <tr>\n      <th>1</th>\n      <td>119107</td>\n      <td>1.344795</td>\n      <td>32.167501</td>\n      <td>1.173883</td>\n      <td>266541.1251</td>\n      <td>3.592378</td>\n      <td>0.879508</td>\n    </tr>\n    <tr>\n      <th>2</th>\n      <td>816890</td>\n      <td>2.130043</td>\n      <td>40.144125</td>\n      <td>0.927880</td>\n      <td>162279.2672</td>\n      <td>26.614130</td>\n      <td>0.022647</td>\n    </tr>\n    <tr>\n      <th>3</th>\n      <td>79016</td>\n      <td>1.700302</td>\n      <td>38.209818</td>\n      <td>1.126225</td>\n      <td>185131.4530</td>\n      <td>15.621005</td>\n      <td>0.013064</td>\n    </tr>\n    <tr>\n      <th>4</th>\n      <td>66915</td>\n      <td>2.029866</td>\n      <td>44.023121</td>\n      <td>0.871544</td>\n      <td>256713.4203</td>\n      <td>30.860806</td>\n      <td>0.034211</td>\n    </tr>\n  </tbody>\n</table>\n</div>"
     },
     "metadata": {},
     "execution_count": 60
    }
   ],
   "source": [
    "artist_feature.head()"
   ]
  },
  {
   "cell_type": "code",
   "execution_count": 40,
   "metadata": {},
   "outputs": [],
   "source": [
    "same_dict={}\n",
    "for node in inf_num_value.keys():\n",
    "    same_dict[node]=[]"
   ]
  },
  {
   "cell_type": "code",
   "execution_count": 42,
   "metadata": {},
   "outputs": [],
   "source": [
    "# 各个指标“相似”的范围\n",
    "limit={\n",
    "    'emotion':0.5,\n",
    "'rhythm':5,\n",
    "'purity':0.25,\n",
    "'duration_ms':20000,\n",
    "'popularity':10,\n",
    "'instrumentalness':0.01\n",
    "}"
   ]
  },
  {
   "cell_type": "code",
   "execution_count": null,
   "metadata": {},
   "outputs": [],
   "source": [
    "serirs=pd.Series({'artist_id':477787,\t'emotion':1.602305,\t\t'rhythm':38.129297,\t\t'purity':1.503543,\t\t'duration_ms':189179.9255,\t\t'popularity':26.004383,\t\t'instrumentalness':0.020855\t},name=99999)"
   ]
  },
  {
   "cell_type": "code",
   "execution_count": null,
   "metadata": {},
   "outputs": [],
   "source": [
    "artist_feature=artist_feature.append(serirs)"
   ]
  },
  {
   "cell_type": "code",
   "execution_count": 64,
   "metadata": {},
   "outputs": [
    {
     "output_type": "error",
     "ename": "ZeroDivisionError",
     "evalue": "division by zero",
     "traceback": [
      "\u001b[1;31m---------------------------------------------------------------------------\u001b[0m",
      "\u001b[1;31mZeroDivisionError\u001b[0m                         Traceback (most recent call last)",
      "\u001b[1;32m<ipython-input-64-652b1281c903>\u001b[0m in \u001b[0;36m<module>\u001b[1;34m\u001b[0m\n\u001b[0;32m     13\u001b[0m                 \u001b[0mori_node_same_feature_dict\u001b[0m\u001b[1;33m[\u001b[0m\u001b[0mfeature\u001b[0m\u001b[1;33m]\u001b[0m\u001b[1;33m+=\u001b[0m\u001b[1;36m1\u001b[0m\u001b[1;33m\u001b[0m\u001b[0m\n\u001b[0;32m     14\u001b[0m     \u001b[1;32mfor\u001b[0m \u001b[0mfeature\u001b[0m \u001b[1;32min\u001b[0m \u001b[1;33m[\u001b[0m\u001b[1;34m'emotion'\u001b[0m\u001b[1;33m,\u001b[0m  \u001b[1;34m'rhythm'\u001b[0m\u001b[1;33m,\u001b[0m       \u001b[1;34m'purity'\u001b[0m\u001b[1;33m,\u001b[0m       \u001b[1;34m'duration_ms'\u001b[0m\u001b[1;33m,\u001b[0m  \u001b[1;34m'popularity'\u001b[0m\u001b[1;33m,\u001b[0m   \u001b[1;34m'instrumentalness'\u001b[0m\u001b[1;33m]\u001b[0m\u001b[1;33m:\u001b[0m\u001b[1;33m\u001b[0m\u001b[0m\n\u001b[1;32m---> 15\u001b[1;33m         \u001b[0mori_node_same_feature_dict\u001b[0m\u001b[1;33m[\u001b[0m\u001b[0mfeature\u001b[0m\u001b[1;33m]\u001b[0m\u001b[1;33m=\u001b[0m\u001b[0mori_node_same_feature_dict\u001b[0m\u001b[1;33m[\u001b[0m\u001b[0mfeature\u001b[0m\u001b[1;33m]\u001b[0m\u001b[1;33m/\u001b[0m\u001b[0mson_num\u001b[0m\u001b[1;33m\u001b[0m\u001b[0m\n\u001b[0m\u001b[0;32m     16\u001b[0m     \u001b[0mpop_list\u001b[0m\u001b[1;33m=\u001b[0m\u001b[0mlist\u001b[0m\u001b[1;33m(\u001b[0m\u001b[0mori_node_same_feature_dict\u001b[0m\u001b[1;33m.\u001b[0m\u001b[0mvalues\u001b[0m\u001b[1;33m(\u001b[0m\u001b[1;33m)\u001b[0m\u001b[1;33m)\u001b[0m\u001b[1;33m\u001b[0m\u001b[0m\n\u001b[0;32m     17\u001b[0m     \u001b[0msame_dict\u001b[0m\u001b[1;33m[\u001b[0m\u001b[0mori_node\u001b[0m\u001b[1;33m]\u001b[0m\u001b[1;33m=\u001b[0m\u001b[0mpop_list\u001b[0m\u001b[1;33m\u001b[0m\u001b[0m\n",
      "\u001b[1;31mZeroDivisionError\u001b[0m: division by zero"
     ]
    }
   ],
   "source": [
    "#attention 这玩意儿要跑半个钟头\n",
    "for ori_node in inf_num_value.keys():\n",
    "    ori_feature=artist_feature[artist_feature['artist_id']==ori_node]#祖宗节点特征df\n",
    "    son_id_list=inf_son12_list[ori_node]#待求子节点集合\n",
    "    son_feature=artist_feature[artist_feature['artist_id'].isin(son_id_list)]#子节点特征df\n",
    "    son_num=len(son_id_list)#子节点数目\n",
    "    ori_node_same_feature_dict={'emotion':0,\t'rhythm':0,\t'purity':0,\t'duration_ms':0,\t'popularity':0,\t'instrumentalness':0}\n",
    "    for feature in ['emotion',\t'rhythm',\t'purity',\t'duration_ms',\t'popularity',\t'instrumentalness']:\n",
    "        ori_feature_num=ori_feature.loc[:,feature].values[0]#祖宗节点的特征值\n",
    "        for son_id in son_id_list:\n",
    "            son_feature_df=son_feature[son_feature['artist_id']==son_id]\n",
    "            son_feature_value=son_feature_df.loc[:,feature]\n",
    "            if np.abs(son_feature_value.values[0]-ori_feature_num)<limit[feature]:\n",
    "                ori_node_same_feature_dict[feature]+=1\n",
    "    for feature in ['emotion',\t'rhythm',\t'purity',\t'duration_ms',\t'popularity',\t'instrumentalness']:\n",
    "        ori_node_same_feature_dict[feature]=ori_node_same_feature_dict[feature]/son_num\n",
    "    pop_list=list(ori_node_same_feature_dict.values())\n",
    "    same_dict[ori_node]=pop_list"
   ]
  },
  {
   "cell_type": "code",
   "execution_count": 68,
   "metadata": {},
   "outputs": [
    {
     "output_type": "execute_result",
     "data": {
      "text/plain": [
       "5603"
      ]
     },
     "metadata": {},
     "execution_count": 68
    }
   ],
   "source": [
    "len(same_dict.keys())"
   ]
  },
  {
   "cell_type": "code",
   "execution_count": 70,
   "metadata": {},
   "outputs": [],
   "source": [
    "same_df=pd.DataFrame(columns=['emotion',\t'rhythm',\t'purity',\t'duration_ms',\t'popularity',\t'instrumentalness'])"
   ]
  },
  {
   "cell_type": "code",
   "execution_count": null,
   "metadata": {},
   "outputs": [],
   "source": []
  },
  {
   "cell_type": "code",
   "execution_count": 76,
   "metadata": {},
   "outputs": [],
   "source": [
    "same_value={}#存放各个节点的影响强度\n",
    "for key in same_dict.keys():\n",
    "    same_value[key]=sum(same_dict[key])\n"
   ]
  },
  {
   "cell_type": "code",
   "execution_count": 80,
   "metadata": {},
   "outputs": [],
   "source": [
    "same_df=pd.DataFrame(pd.Series(same_value),columns=['inf value'])"
   ]
  },
  {
   "cell_type": "code",
   "execution_count": 82,
   "metadata": {},
   "outputs": [
    {
     "output_type": "execute_result",
     "data": {
      "text/plain": [
       "<matplotlib.axes._subplots.AxesSubplot at 0x2d9f52d5eb8>"
      ]
     },
     "metadata": {},
     "execution_count": 82
    },
    {
     "output_type": "display_data",
     "data": {
      "text/plain": "<Figure size 432x288 with 1 Axes>",
      "image/svg+xml": "<?xml version=\"1.0\" encoding=\"utf-8\" standalone=\"no\"?>\r\n<!DOCTYPE svg PUBLIC \"-//W3C//DTD SVG 1.1//EN\"\r\n  \"http://www.w3.org/Graphics/SVG/1.1/DTD/svg11.dtd\">\r\n<!-- Created with matplotlib (http://matplotlib.org/) -->\r\n<svg height=\"252.018125pt\" version=\"1.1\" viewBox=\"0 0 385.15 252.018125\" width=\"385.15pt\" xmlns=\"http://www.w3.org/2000/svg\" xmlns:xlink=\"http://www.w3.org/1999/xlink\">\r\n <defs>\r\n  <style type=\"text/css\">\r\n*{stroke-linecap:butt;stroke-linejoin:round;}\r\n  </style>\r\n </defs>\r\n <g id=\"figure_1\">\r\n  <g id=\"patch_1\">\r\n   <path d=\"M -0 252.018125 \r\nL 385.15 252.018125 \r\nL 385.15 0 \r\nL -0 0 \r\nz\r\n\" style=\"fill:none;\"/>\r\n  </g>\r\n  <g id=\"axes_1\">\r\n   <g id=\"patch_2\">\r\n    <path d=\"M 39.65 228.14 \r\nL 374.45 228.14 \r\nL 374.45 10.7 \r\nL 39.65 10.7 \r\nz\r\n\" style=\"fill:#ffffff;\"/>\r\n   </g>\r\n   <g id=\"patch_3\">\r\n    <path clip-path=\"url(#p915a4c5e1e)\" d=\"M 54.868182 228.14 \r\nL 85.304545 228.14 \r\nL 85.304545 21.054286 \r\nL 54.868182 21.054286 \r\nz\r\n\" style=\"fill:#1f77b4;\"/>\r\n   </g>\r\n   <g id=\"patch_4\">\r\n    <path clip-path=\"url(#p915a4c5e1e)\" d=\"M 85.304545 228.14 \r\nL 115.740909 228.14 \r\nL 115.740909 217.589292 \r\nL 85.304545 217.589292 \r\nz\r\n\" style=\"fill:#1f77b4;\"/>\r\n   </g>\r\n   <g id=\"patch_5\">\r\n    <path clip-path=\"url(#p915a4c5e1e)\" d=\"M 115.740909 228.14 \r\nL 146.177273 228.14 \r\nL 146.177273 196.15115 \r\nL 115.740909 196.15115 \r\nz\r\n\" style=\"fill:#1f77b4;\"/>\r\n   </g>\r\n   <g id=\"patch_6\">\r\n    <path clip-path=\"url(#p915a4c5e1e)\" d=\"M 146.177273 228.14 \r\nL 176.613636 228.14 \r\nL 176.613636 132.285691 \r\nL 146.177273 132.285691 \r\nz\r\n\" style=\"fill:#1f77b4;\"/>\r\n   </g>\r\n   <g id=\"patch_7\">\r\n    <path clip-path=\"url(#p915a4c5e1e)\" d=\"M 176.613636 228.14 \r\nL 207.05 228.14 \r\nL 207.05 120.949292 \r\nL 176.613636 120.949292 \r\nz\r\n\" style=\"fill:#1f77b4;\"/>\r\n   </g>\r\n   <g id=\"patch_8\">\r\n    <path clip-path=\"url(#p915a4c5e1e)\" d=\"M 207.05 228.14 \r\nL 237.486364 228.14 \r\nL 237.486364 130.826551 \r\nL 207.05 130.826551 \r\nz\r\n\" style=\"fill:#1f77b4;\"/>\r\n   </g>\r\n   <g id=\"patch_9\">\r\n    <path clip-path=\"url(#p915a4c5e1e)\" d=\"M 237.486364 228.14 \r\nL 267.922727 228.14 \r\nL 267.922727 177.182323 \r\nL 237.486364 177.182323 \r\nz\r\n\" style=\"fill:#1f77b4;\"/>\r\n   </g>\r\n   <g id=\"patch_10\">\r\n    <path clip-path=\"url(#p915a4c5e1e)\" d=\"M 267.922727 228.14 \r\nL 298.359091 228.14 \r\nL 298.359091 212.313937 \r\nL 267.922727 212.313937 \r\nz\r\n\" style=\"fill:#1f77b4;\"/>\r\n   </g>\r\n   <g id=\"patch_11\">\r\n    <path clip-path=\"url(#p915a4c5e1e)\" d=\"M 298.359091 228.14 \r\nL 328.795455 228.14 \r\nL 328.795455 218.487224 \r\nL 298.359091 218.487224 \r\nz\r\n\" style=\"fill:#1f77b4;\"/>\r\n   </g>\r\n   <g id=\"patch_12\">\r\n    <path clip-path=\"url(#p915a4c5e1e)\" d=\"M 328.795455 228.14 \r\nL 359.231818 228.14 \r\nL 359.231818 225.670685 \r\nL 328.795455 225.670685 \r\nz\r\n\" style=\"fill:#1f77b4;\"/>\r\n   </g>\r\n   <g id=\"matplotlib.axis_1\">\r\n    <g id=\"xtick_1\">\r\n     <g id=\"line2d_1\">\r\n      <path clip-path=\"url(#p915a4c5e1e)\" d=\"M 54.868182 228.14 \r\nL 54.868182 10.7 \r\n\" style=\"fill:none;stroke:#b0b0b0;stroke-linecap:square;stroke-width:0.8;\"/>\r\n     </g>\r\n     <g id=\"line2d_2\">\r\n      <defs>\r\n       <path d=\"M 0 0 \r\nL 0 3.5 \r\n\" id=\"mfde706d1d6\" style=\"stroke:#000000;stroke-width:0.8;\"/>\r\n      </defs>\r\n      <g>\r\n       <use style=\"stroke:#000000;stroke-width:0.8;\" x=\"54.868182\" xlink:href=\"#mfde706d1d6\" y=\"228.14\"/>\r\n      </g>\r\n     </g>\r\n     <g id=\"text_1\">\r\n      <!-- 0 -->\r\n      <defs>\r\n       <path d=\"M 31.78125 66.40625 \r\nQ 24.171875 66.40625 20.328125 58.90625 \r\nQ 16.5 51.421875 16.5 36.375 \r\nQ 16.5 21.390625 20.328125 13.890625 \r\nQ 24.171875 6.390625 31.78125 6.390625 \r\nQ 39.453125 6.390625 43.28125 13.890625 \r\nQ 47.125 21.390625 47.125 36.375 \r\nQ 47.125 51.421875 43.28125 58.90625 \r\nQ 39.453125 66.40625 31.78125 66.40625 \r\nz\r\nM 31.78125 74.21875 \r\nQ 44.046875 74.21875 50.515625 64.515625 \r\nQ 56.984375 54.828125 56.984375 36.375 \r\nQ 56.984375 17.96875 50.515625 8.265625 \r\nQ 44.046875 -1.421875 31.78125 -1.421875 \r\nQ 19.53125 -1.421875 13.0625 8.265625 \r\nQ 6.59375 17.96875 6.59375 36.375 \r\nQ 6.59375 54.828125 13.0625 64.515625 \r\nQ 19.53125 74.21875 31.78125 74.21875 \r\nz\r\n\" id=\"DejaVuSans-30\"/>\r\n      </defs>\r\n      <g transform=\"translate(51.686932 242.738437)scale(0.1 -0.1)\">\r\n       <use xlink:href=\"#DejaVuSans-30\"/>\r\n      </g>\r\n     </g>\r\n    </g>\r\n    <g id=\"xtick_2\">\r\n     <g id=\"line2d_3\">\r\n      <path clip-path=\"url(#p915a4c5e1e)\" d=\"M 105.595455 228.14 \r\nL 105.595455 10.7 \r\n\" style=\"fill:none;stroke:#b0b0b0;stroke-linecap:square;stroke-width:0.8;\"/>\r\n     </g>\r\n     <g id=\"line2d_4\">\r\n      <g>\r\n       <use style=\"stroke:#000000;stroke-width:0.8;\" x=\"105.595455\" xlink:href=\"#mfde706d1d6\" y=\"228.14\"/>\r\n      </g>\r\n     </g>\r\n     <g id=\"text_2\">\r\n      <!-- 1 -->\r\n      <defs>\r\n       <path d=\"M 12.40625 8.296875 \r\nL 28.515625 8.296875 \r\nL 28.515625 63.921875 \r\nL 10.984375 60.40625 \r\nL 10.984375 69.390625 \r\nL 28.421875 72.90625 \r\nL 38.28125 72.90625 \r\nL 38.28125 8.296875 \r\nL 54.390625 8.296875 \r\nL 54.390625 0 \r\nL 12.40625 0 \r\nz\r\n\" id=\"DejaVuSans-31\"/>\r\n      </defs>\r\n      <g transform=\"translate(102.414205 242.738437)scale(0.1 -0.1)\">\r\n       <use xlink:href=\"#DejaVuSans-31\"/>\r\n      </g>\r\n     </g>\r\n    </g>\r\n    <g id=\"xtick_3\">\r\n     <g id=\"line2d_5\">\r\n      <path clip-path=\"url(#p915a4c5e1e)\" d=\"M 156.322727 228.14 \r\nL 156.322727 10.7 \r\n\" style=\"fill:none;stroke:#b0b0b0;stroke-linecap:square;stroke-width:0.8;\"/>\r\n     </g>\r\n     <g id=\"line2d_6\">\r\n      <g>\r\n       <use style=\"stroke:#000000;stroke-width:0.8;\" x=\"156.322727\" xlink:href=\"#mfde706d1d6\" y=\"228.14\"/>\r\n      </g>\r\n     </g>\r\n     <g id=\"text_3\">\r\n      <!-- 2 -->\r\n      <defs>\r\n       <path d=\"M 19.1875 8.296875 \r\nL 53.609375 8.296875 \r\nL 53.609375 0 \r\nL 7.328125 0 \r\nL 7.328125 8.296875 \r\nQ 12.9375 14.109375 22.625 23.890625 \r\nQ 32.328125 33.6875 34.8125 36.53125 \r\nQ 39.546875 41.84375 41.421875 45.53125 \r\nQ 43.3125 49.21875 43.3125 52.78125 \r\nQ 43.3125 58.59375 39.234375 62.25 \r\nQ 35.15625 65.921875 28.609375 65.921875 \r\nQ 23.96875 65.921875 18.8125 64.3125 \r\nQ 13.671875 62.703125 7.8125 59.421875 \r\nL 7.8125 69.390625 \r\nQ 13.765625 71.78125 18.9375 73 \r\nQ 24.125 74.21875 28.421875 74.21875 \r\nQ 39.75 74.21875 46.484375 68.546875 \r\nQ 53.21875 62.890625 53.21875 53.421875 \r\nQ 53.21875 48.921875 51.53125 44.890625 \r\nQ 49.859375 40.875 45.40625 35.40625 \r\nQ 44.1875 33.984375 37.640625 27.21875 \r\nQ 31.109375 20.453125 19.1875 8.296875 \r\nz\r\n\" id=\"DejaVuSans-32\"/>\r\n      </defs>\r\n      <g transform=\"translate(153.141477 242.738437)scale(0.1 -0.1)\">\r\n       <use xlink:href=\"#DejaVuSans-32\"/>\r\n      </g>\r\n     </g>\r\n    </g>\r\n    <g id=\"xtick_4\">\r\n     <g id=\"line2d_7\">\r\n      <path clip-path=\"url(#p915a4c5e1e)\" d=\"M 207.05 228.14 \r\nL 207.05 10.7 \r\n\" style=\"fill:none;stroke:#b0b0b0;stroke-linecap:square;stroke-width:0.8;\"/>\r\n     </g>\r\n     <g id=\"line2d_8\">\r\n      <g>\r\n       <use style=\"stroke:#000000;stroke-width:0.8;\" x=\"207.05\" xlink:href=\"#mfde706d1d6\" y=\"228.14\"/>\r\n      </g>\r\n     </g>\r\n     <g id=\"text_4\">\r\n      <!-- 3 -->\r\n      <defs>\r\n       <path d=\"M 40.578125 39.3125 \r\nQ 47.65625 37.796875 51.625 33 \r\nQ 55.609375 28.21875 55.609375 21.1875 \r\nQ 55.609375 10.40625 48.1875 4.484375 \r\nQ 40.765625 -1.421875 27.09375 -1.421875 \r\nQ 22.515625 -1.421875 17.65625 -0.515625 \r\nQ 12.796875 0.390625 7.625 2.203125 \r\nL 7.625 11.71875 \r\nQ 11.71875 9.328125 16.59375 8.109375 \r\nQ 21.484375 6.890625 26.8125 6.890625 \r\nQ 36.078125 6.890625 40.9375 10.546875 \r\nQ 45.796875 14.203125 45.796875 21.1875 \r\nQ 45.796875 27.640625 41.28125 31.265625 \r\nQ 36.765625 34.90625 28.71875 34.90625 \r\nL 20.21875 34.90625 \r\nL 20.21875 43.015625 \r\nL 29.109375 43.015625 \r\nQ 36.375 43.015625 40.234375 45.921875 \r\nQ 44.09375 48.828125 44.09375 54.296875 \r\nQ 44.09375 59.90625 40.109375 62.90625 \r\nQ 36.140625 65.921875 28.71875 65.921875 \r\nQ 24.65625 65.921875 20.015625 65.03125 \r\nQ 15.375 64.15625 9.8125 62.3125 \r\nL 9.8125 71.09375 \r\nQ 15.4375 72.65625 20.34375 73.4375 \r\nQ 25.25 74.21875 29.59375 74.21875 \r\nQ 40.828125 74.21875 47.359375 69.109375 \r\nQ 53.90625 64.015625 53.90625 55.328125 \r\nQ 53.90625 49.265625 50.4375 45.09375 \r\nQ 46.96875 40.921875 40.578125 39.3125 \r\nz\r\n\" id=\"DejaVuSans-33\"/>\r\n      </defs>\r\n      <g transform=\"translate(203.86875 242.738437)scale(0.1 -0.1)\">\r\n       <use xlink:href=\"#DejaVuSans-33\"/>\r\n      </g>\r\n     </g>\r\n    </g>\r\n    <g id=\"xtick_5\">\r\n     <g id=\"line2d_9\">\r\n      <path clip-path=\"url(#p915a4c5e1e)\" d=\"M 257.777273 228.14 \r\nL 257.777273 10.7 \r\n\" style=\"fill:none;stroke:#b0b0b0;stroke-linecap:square;stroke-width:0.8;\"/>\r\n     </g>\r\n     <g id=\"line2d_10\">\r\n      <g>\r\n       <use style=\"stroke:#000000;stroke-width:0.8;\" x=\"257.777273\" xlink:href=\"#mfde706d1d6\" y=\"228.14\"/>\r\n      </g>\r\n     </g>\r\n     <g id=\"text_5\">\r\n      <!-- 4 -->\r\n      <defs>\r\n       <path d=\"M 37.796875 64.3125 \r\nL 12.890625 25.390625 \r\nL 37.796875 25.390625 \r\nz\r\nM 35.203125 72.90625 \r\nL 47.609375 72.90625 \r\nL 47.609375 25.390625 \r\nL 58.015625 25.390625 \r\nL 58.015625 17.1875 \r\nL 47.609375 17.1875 \r\nL 47.609375 0 \r\nL 37.796875 0 \r\nL 37.796875 17.1875 \r\nL 4.890625 17.1875 \r\nL 4.890625 26.703125 \r\nz\r\n\" id=\"DejaVuSans-34\"/>\r\n      </defs>\r\n      <g transform=\"translate(254.596023 242.738437)scale(0.1 -0.1)\">\r\n       <use xlink:href=\"#DejaVuSans-34\"/>\r\n      </g>\r\n     </g>\r\n    </g>\r\n    <g id=\"xtick_6\">\r\n     <g id=\"line2d_11\">\r\n      <path clip-path=\"url(#p915a4c5e1e)\" d=\"M 308.504545 228.14 \r\nL 308.504545 10.7 \r\n\" style=\"fill:none;stroke:#b0b0b0;stroke-linecap:square;stroke-width:0.8;\"/>\r\n     </g>\r\n     <g id=\"line2d_12\">\r\n      <g>\r\n       <use style=\"stroke:#000000;stroke-width:0.8;\" x=\"308.504545\" xlink:href=\"#mfde706d1d6\" y=\"228.14\"/>\r\n      </g>\r\n     </g>\r\n     <g id=\"text_6\">\r\n      <!-- 5 -->\r\n      <defs>\r\n       <path d=\"M 10.796875 72.90625 \r\nL 49.515625 72.90625 \r\nL 49.515625 64.59375 \r\nL 19.828125 64.59375 \r\nL 19.828125 46.734375 \r\nQ 21.96875 47.46875 24.109375 47.828125 \r\nQ 26.265625 48.1875 28.421875 48.1875 \r\nQ 40.625 48.1875 47.75 41.5 \r\nQ 54.890625 34.8125 54.890625 23.390625 \r\nQ 54.890625 11.625 47.5625 5.09375 \r\nQ 40.234375 -1.421875 26.90625 -1.421875 \r\nQ 22.3125 -1.421875 17.546875 -0.640625 \r\nQ 12.796875 0.140625 7.71875 1.703125 \r\nL 7.71875 11.625 \r\nQ 12.109375 9.234375 16.796875 8.0625 \r\nQ 21.484375 6.890625 26.703125 6.890625 \r\nQ 35.15625 6.890625 40.078125 11.328125 \r\nQ 45.015625 15.765625 45.015625 23.390625 \r\nQ 45.015625 31 40.078125 35.4375 \r\nQ 35.15625 39.890625 26.703125 39.890625 \r\nQ 22.75 39.890625 18.8125 39.015625 \r\nQ 14.890625 38.140625 10.796875 36.28125 \r\nz\r\n\" id=\"DejaVuSans-35\"/>\r\n      </defs>\r\n      <g transform=\"translate(305.323295 242.738437)scale(0.1 -0.1)\">\r\n       <use xlink:href=\"#DejaVuSans-35\"/>\r\n      </g>\r\n     </g>\r\n    </g>\r\n    <g id=\"xtick_7\">\r\n     <g id=\"line2d_13\">\r\n      <path clip-path=\"url(#p915a4c5e1e)\" d=\"M 359.231818 228.14 \r\nL 359.231818 10.7 \r\n\" style=\"fill:none;stroke:#b0b0b0;stroke-linecap:square;stroke-width:0.8;\"/>\r\n     </g>\r\n     <g id=\"line2d_14\">\r\n      <g>\r\n       <use style=\"stroke:#000000;stroke-width:0.8;\" x=\"359.231818\" xlink:href=\"#mfde706d1d6\" y=\"228.14\"/>\r\n      </g>\r\n     </g>\r\n     <g id=\"text_7\">\r\n      <!-- 6 -->\r\n      <defs>\r\n       <path d=\"M 33.015625 40.375 \r\nQ 26.375 40.375 22.484375 35.828125 \r\nQ 18.609375 31.296875 18.609375 23.390625 \r\nQ 18.609375 15.53125 22.484375 10.953125 \r\nQ 26.375 6.390625 33.015625 6.390625 \r\nQ 39.65625 6.390625 43.53125 10.953125 \r\nQ 47.40625 15.53125 47.40625 23.390625 \r\nQ 47.40625 31.296875 43.53125 35.828125 \r\nQ 39.65625 40.375 33.015625 40.375 \r\nz\r\nM 52.59375 71.296875 \r\nL 52.59375 62.3125 \r\nQ 48.875 64.0625 45.09375 64.984375 \r\nQ 41.3125 65.921875 37.59375 65.921875 \r\nQ 27.828125 65.921875 22.671875 59.328125 \r\nQ 17.53125 52.734375 16.796875 39.40625 \r\nQ 19.671875 43.65625 24.015625 45.921875 \r\nQ 28.375 48.1875 33.59375 48.1875 \r\nQ 44.578125 48.1875 50.953125 41.515625 \r\nQ 57.328125 34.859375 57.328125 23.390625 \r\nQ 57.328125 12.15625 50.6875 5.359375 \r\nQ 44.046875 -1.421875 33.015625 -1.421875 \r\nQ 20.359375 -1.421875 13.671875 8.265625 \r\nQ 6.984375 17.96875 6.984375 36.375 \r\nQ 6.984375 53.65625 15.1875 63.9375 \r\nQ 23.390625 74.21875 37.203125 74.21875 \r\nQ 40.921875 74.21875 44.703125 73.484375 \r\nQ 48.484375 72.75 52.59375 71.296875 \r\nz\r\n\" id=\"DejaVuSans-36\"/>\r\n      </defs>\r\n      <g transform=\"translate(356.050568 242.738437)scale(0.1 -0.1)\">\r\n       <use xlink:href=\"#DejaVuSans-36\"/>\r\n      </g>\r\n     </g>\r\n    </g>\r\n   </g>\r\n   <g id=\"matplotlib.axis_2\">\r\n    <g id=\"ytick_1\">\r\n     <g id=\"line2d_15\">\r\n      <path clip-path=\"url(#p915a4c5e1e)\" d=\"M 39.65 228.14 \r\nL 374.45 228.14 \r\n\" style=\"fill:none;stroke:#b0b0b0;stroke-linecap:square;stroke-width:0.8;\"/>\r\n     </g>\r\n     <g id=\"line2d_16\">\r\n      <defs>\r\n       <path d=\"M 0 0 \r\nL -3.5 0 \r\n\" id=\"mcaf6f83eb5\" style=\"stroke:#000000;stroke-width:0.8;\"/>\r\n      </defs>\r\n      <g>\r\n       <use style=\"stroke:#000000;stroke-width:0.8;\" x=\"39.65\" xlink:href=\"#mcaf6f83eb5\" y=\"228.14\"/>\r\n      </g>\r\n     </g>\r\n     <g id=\"text_8\">\r\n      <!-- 0 -->\r\n      <g transform=\"translate(26.2875 231.939219)scale(0.1 -0.1)\">\r\n       <use xlink:href=\"#DejaVuSans-30\"/>\r\n      </g>\r\n     </g>\r\n    </g>\r\n    <g id=\"ytick_2\">\r\n     <g id=\"line2d_17\">\r\n      <path clip-path=\"url(#p915a4c5e1e)\" d=\"M 39.65 200.079605 \r\nL 374.45 200.079605 \r\n\" style=\"fill:none;stroke:#b0b0b0;stroke-linecap:square;stroke-width:0.8;\"/>\r\n     </g>\r\n     <g id=\"line2d_18\">\r\n      <g>\r\n       <use style=\"stroke:#000000;stroke-width:0.8;\" x=\"39.65\" xlink:href=\"#mcaf6f83eb5\" y=\"200.079605\"/>\r\n      </g>\r\n     </g>\r\n     <g id=\"text_9\">\r\n      <!-- 250 -->\r\n      <g transform=\"translate(13.5625 203.878824)scale(0.1 -0.1)\">\r\n       <use xlink:href=\"#DejaVuSans-32\"/>\r\n       <use x=\"63.623047\" xlink:href=\"#DejaVuSans-35\"/>\r\n       <use x=\"127.246094\" xlink:href=\"#DejaVuSans-30\"/>\r\n      </g>\r\n     </g>\r\n    </g>\r\n    <g id=\"ytick_3\">\r\n     <g id=\"line2d_19\">\r\n      <path clip-path=\"url(#p915a4c5e1e)\" d=\"M 39.65 172.01921 \r\nL 374.45 172.01921 \r\n\" style=\"fill:none;stroke:#b0b0b0;stroke-linecap:square;stroke-width:0.8;\"/>\r\n     </g>\r\n     <g id=\"line2d_20\">\r\n      <g>\r\n       <use style=\"stroke:#000000;stroke-width:0.8;\" x=\"39.65\" xlink:href=\"#mcaf6f83eb5\" y=\"172.01921\"/>\r\n      </g>\r\n     </g>\r\n     <g id=\"text_10\">\r\n      <!-- 500 -->\r\n      <g transform=\"translate(13.5625 175.818429)scale(0.1 -0.1)\">\r\n       <use xlink:href=\"#DejaVuSans-35\"/>\r\n       <use x=\"63.623047\" xlink:href=\"#DejaVuSans-30\"/>\r\n       <use x=\"127.246094\" xlink:href=\"#DejaVuSans-30\"/>\r\n      </g>\r\n     </g>\r\n    </g>\r\n    <g id=\"ytick_4\">\r\n     <g id=\"line2d_21\">\r\n      <path clip-path=\"url(#p915a4c5e1e)\" d=\"M 39.65 143.958815 \r\nL 374.45 143.958815 \r\n\" style=\"fill:none;stroke:#b0b0b0;stroke-linecap:square;stroke-width:0.8;\"/>\r\n     </g>\r\n     <g id=\"line2d_22\">\r\n      <g>\r\n       <use style=\"stroke:#000000;stroke-width:0.8;\" x=\"39.65\" xlink:href=\"#mcaf6f83eb5\" y=\"143.958815\"/>\r\n      </g>\r\n     </g>\r\n     <g id=\"text_11\">\r\n      <!-- 750 -->\r\n      <defs>\r\n       <path d=\"M 8.203125 72.90625 \r\nL 55.078125 72.90625 \r\nL 55.078125 68.703125 \r\nL 28.609375 0 \r\nL 18.3125 0 \r\nL 43.21875 64.59375 \r\nL 8.203125 64.59375 \r\nz\r\n\" id=\"DejaVuSans-37\"/>\r\n      </defs>\r\n      <g transform=\"translate(13.5625 147.758034)scale(0.1 -0.1)\">\r\n       <use xlink:href=\"#DejaVuSans-37\"/>\r\n       <use x=\"63.623047\" xlink:href=\"#DejaVuSans-35\"/>\r\n       <use x=\"127.246094\" xlink:href=\"#DejaVuSans-30\"/>\r\n      </g>\r\n     </g>\r\n    </g>\r\n    <g id=\"ytick_5\">\r\n     <g id=\"line2d_23\">\r\n      <path clip-path=\"url(#p915a4c5e1e)\" d=\"M 39.65 115.89842 \r\nL 374.45 115.89842 \r\n\" style=\"fill:none;stroke:#b0b0b0;stroke-linecap:square;stroke-width:0.8;\"/>\r\n     </g>\r\n     <g id=\"line2d_24\">\r\n      <g>\r\n       <use style=\"stroke:#000000;stroke-width:0.8;\" x=\"39.65\" xlink:href=\"#mcaf6f83eb5\" y=\"115.89842\"/>\r\n      </g>\r\n     </g>\r\n     <g id=\"text_12\">\r\n      <!-- 1000 -->\r\n      <g transform=\"translate(7.2 119.697639)scale(0.1 -0.1)\">\r\n       <use xlink:href=\"#DejaVuSans-31\"/>\r\n       <use x=\"63.623047\" xlink:href=\"#DejaVuSans-30\"/>\r\n       <use x=\"127.246094\" xlink:href=\"#DejaVuSans-30\"/>\r\n       <use x=\"190.869141\" xlink:href=\"#DejaVuSans-30\"/>\r\n      </g>\r\n     </g>\r\n    </g>\r\n    <g id=\"ytick_6\">\r\n     <g id=\"line2d_25\">\r\n      <path clip-path=\"url(#p915a4c5e1e)\" d=\"M 39.65 87.838026 \r\nL 374.45 87.838026 \r\n\" style=\"fill:none;stroke:#b0b0b0;stroke-linecap:square;stroke-width:0.8;\"/>\r\n     </g>\r\n     <g id=\"line2d_26\">\r\n      <g>\r\n       <use style=\"stroke:#000000;stroke-width:0.8;\" x=\"39.65\" xlink:href=\"#mcaf6f83eb5\" y=\"87.838026\"/>\r\n      </g>\r\n     </g>\r\n     <g id=\"text_13\">\r\n      <!-- 1250 -->\r\n      <g transform=\"translate(7.2 91.637244)scale(0.1 -0.1)\">\r\n       <use xlink:href=\"#DejaVuSans-31\"/>\r\n       <use x=\"63.623047\" xlink:href=\"#DejaVuSans-32\"/>\r\n       <use x=\"127.246094\" xlink:href=\"#DejaVuSans-35\"/>\r\n       <use x=\"190.869141\" xlink:href=\"#DejaVuSans-30\"/>\r\n      </g>\r\n     </g>\r\n    </g>\r\n    <g id=\"ytick_7\">\r\n     <g id=\"line2d_27\">\r\n      <path clip-path=\"url(#p915a4c5e1e)\" d=\"M 39.65 59.777631 \r\nL 374.45 59.777631 \r\n\" style=\"fill:none;stroke:#b0b0b0;stroke-linecap:square;stroke-width:0.8;\"/>\r\n     </g>\r\n     <g id=\"line2d_28\">\r\n      <g>\r\n       <use style=\"stroke:#000000;stroke-width:0.8;\" x=\"39.65\" xlink:href=\"#mcaf6f83eb5\" y=\"59.777631\"/>\r\n      </g>\r\n     </g>\r\n     <g id=\"text_14\">\r\n      <!-- 1500 -->\r\n      <g transform=\"translate(7.2 63.576849)scale(0.1 -0.1)\">\r\n       <use xlink:href=\"#DejaVuSans-31\"/>\r\n       <use x=\"63.623047\" xlink:href=\"#DejaVuSans-35\"/>\r\n       <use x=\"127.246094\" xlink:href=\"#DejaVuSans-30\"/>\r\n       <use x=\"190.869141\" xlink:href=\"#DejaVuSans-30\"/>\r\n      </g>\r\n     </g>\r\n    </g>\r\n    <g id=\"ytick_8\">\r\n     <g id=\"line2d_29\">\r\n      <path clip-path=\"url(#p915a4c5e1e)\" d=\"M 39.65 31.717236 \r\nL 374.45 31.717236 \r\n\" style=\"fill:none;stroke:#b0b0b0;stroke-linecap:square;stroke-width:0.8;\"/>\r\n     </g>\r\n     <g id=\"line2d_30\">\r\n      <g>\r\n       <use style=\"stroke:#000000;stroke-width:0.8;\" x=\"39.65\" xlink:href=\"#mcaf6f83eb5\" y=\"31.717236\"/>\r\n      </g>\r\n     </g>\r\n     <g id=\"text_15\">\r\n      <!-- 1750 -->\r\n      <g transform=\"translate(7.2 35.516455)scale(0.1 -0.1)\">\r\n       <use xlink:href=\"#DejaVuSans-31\"/>\r\n       <use x=\"63.623047\" xlink:href=\"#DejaVuSans-37\"/>\r\n       <use x=\"127.246094\" xlink:href=\"#DejaVuSans-35\"/>\r\n       <use x=\"190.869141\" xlink:href=\"#DejaVuSans-30\"/>\r\n      </g>\r\n     </g>\r\n    </g>\r\n   </g>\r\n   <g id=\"patch_13\">\r\n    <path d=\"M 39.65 228.14 \r\nL 39.65 10.7 \r\n\" style=\"fill:none;stroke:#000000;stroke-linecap:square;stroke-linejoin:miter;stroke-width:0.8;\"/>\r\n   </g>\r\n   <g id=\"patch_14\">\r\n    <path d=\"M 374.45 228.14 \r\nL 374.45 10.7 \r\n\" style=\"fill:none;stroke:#000000;stroke-linecap:square;stroke-linejoin:miter;stroke-width:0.8;\"/>\r\n   </g>\r\n   <g id=\"patch_15\">\r\n    <path d=\"M 39.65 228.14 \r\nL 374.45 228.14 \r\n\" style=\"fill:none;stroke:#000000;stroke-linecap:square;stroke-linejoin:miter;stroke-width:0.8;\"/>\r\n   </g>\r\n   <g id=\"patch_16\">\r\n    <path d=\"M 39.65 10.7 \r\nL 374.45 10.7 \r\n\" style=\"fill:none;stroke:#000000;stroke-linecap:square;stroke-linejoin:miter;stroke-width:0.8;\"/>\r\n   </g>\r\n  </g>\r\n </g>\r\n <defs>\r\n  <clipPath id=\"p915a4c5e1e\">\r\n   <rect height=\"217.44\" width=\"334.8\" x=\"39.65\" y=\"10.7\"/>\r\n  </clipPath>\r\n </defs>\r\n</svg>\r\n",
      "image/png": "[encoded data removed]"
     },
     "metadata": {
      "needs_background": "light"
     }
    }
   ],
   "source": [
    "same_df['inf value'].hist()#影响强度的分布"
   ]
  },
  {
   "cell_type": "code",
   "execution_count": 83,
   "metadata": {},
   "outputs": [],
   "source": [
    "same_num_df=pd.DataFrame(pd.Series(inf_num_value),columns=['inf num'])"
   ]
  },
  {
   "cell_type": "code",
   "execution_count": 86,
   "metadata": {},
   "outputs": [
    {
     "output_type": "execute_result",
     "data": {
      "text/plain": [
       "<matplotlib.axes._subplots.AxesSubplot at 0x2d9f9603550>"
      ]
     },
     "metadata": {},
     "execution_count": 86
    },
    {
     "output_type": "display_data",
     "data": {
      "text/plain": "<Figure size 432x288 with 1 Axes>",
      "image/svg+xml": "<?xml version=\"1.0\" encoding=\"utf-8\" standalone=\"no\"?>\r\n<!DOCTYPE svg PUBLIC \"-//W3C//DTD SVG 1.1//EN\"\r\n  \"http://www.w3.org/Graphics/SVG/1.1/DTD/svg11.dtd\">\r\n<!-- Created with matplotlib (http://matplotlib.org/) -->\r\n<svg height=\"252.018125pt\" version=\"1.1\" viewBox=\"0 0 385.15 252.018125\" width=\"385.15pt\" xmlns=\"http://www.w3.org/2000/svg\" xmlns:xlink=\"http://www.w3.org/1999/xlink\">\r\n <defs>\r\n  <style type=\"text/css\">\r\n*{stroke-linecap:butt;stroke-linejoin:round;}\r\n  </style>\r\n </defs>\r\n <g id=\"figure_1\">\r\n  <g id=\"patch_1\">\r\n   <path d=\"M -0 252.018125 \r\nL 385.15 252.018125 \r\nL 385.15 0 \r\nL -0 0 \r\nz\r\n\" style=\"fill:none;\"/>\r\n  </g>\r\n  <g id=\"axes_1\">\r\n   <g id=\"patch_2\">\r\n    <path d=\"M 39.65 228.14 \r\nL 374.45 228.14 \r\nL 374.45 10.7 \r\nL 39.65 10.7 \r\nz\r\n\" style=\"fill:#ffffff;\"/>\r\n   </g>\r\n   <g id=\"patch_3\">\r\n    <path clip-path=\"url(#pdaad917a26)\" d=\"M 54.868182 228.14 \r\nL 85.304545 228.14 \r\nL 85.304545 21.054286 \r\nL 54.868182 21.054286 \r\nz\r\n\" style=\"fill:#1f77b4;\"/>\r\n   </g>\r\n   <g id=\"patch_4\">\r\n    <path clip-path=\"url(#pdaad917a26)\" d=\"M 85.304545 228.14 \r\nL 115.740909 228.14 \r\nL 115.740909 225.810661 \r\nL 85.304545 225.810661 \r\nz\r\n\" style=\"fill:#1f77b4;\"/>\r\n   </g>\r\n   <g id=\"patch_5\">\r\n    <path clip-path=\"url(#pdaad917a26)\" d=\"M 115.740909 228.14 \r\nL 146.177273 228.14 \r\nL 146.177273 227.53888 \r\nL 115.740909 227.53888 \r\nz\r\n\" style=\"fill:#1f77b4;\"/>\r\n   </g>\r\n   <g id=\"patch_6\">\r\n    <path clip-path=\"url(#pdaad917a26)\" d=\"M 146.177273 228.14 \r\nL 176.613636 228.14 \r\nL 176.613636 227.80187 \r\nL 146.177273 227.80187 \r\nz\r\n\" style=\"fill:#1f77b4;\"/>\r\n   </g>\r\n   <g id=\"patch_7\">\r\n    <path clip-path=\"url(#pdaad917a26)\" d=\"M 176.613636 228.14 \r\nL 207.05 228.14 \r\nL 207.05 228.10243 \r\nL 176.613636 228.10243 \r\nz\r\n\" style=\"fill:#1f77b4;\"/>\r\n   </g>\r\n   <g id=\"patch_8\">\r\n    <path clip-path=\"url(#pdaad917a26)\" d=\"M 207.05 228.14 \r\nL 237.486364 228.14 \r\nL 237.486364 228.10243 \r\nL 207.05 228.10243 \r\nz\r\n\" style=\"fill:#1f77b4;\"/>\r\n   </g>\r\n   <g id=\"patch_9\">\r\n    <path clip-path=\"url(#pdaad917a26)\" d=\"M 237.486364 228.14 \r\nL 267.922727 228.14 \r\nL 267.922727 228.10243 \r\nL 237.486364 228.10243 \r\nz\r\n\" style=\"fill:#1f77b4;\"/>\r\n   </g>\r\n   <g id=\"patch_10\">\r\n    <path clip-path=\"url(#pdaad917a26)\" d=\"M 267.922727 228.14 \r\nL 298.359091 228.14 \r\nL 298.359091 228.14 \r\nL 267.922727 228.14 \r\nz\r\n\" style=\"fill:#1f77b4;\"/>\r\n   </g>\r\n   <g id=\"patch_11\">\r\n    <path clip-path=\"url(#pdaad917a26)\" d=\"M 298.359091 228.14 \r\nL 328.795455 228.14 \r\nL 328.795455 228.14 \r\nL 298.359091 228.14 \r\nz\r\n\" style=\"fill:#1f77b4;\"/>\r\n   </g>\r\n   <g id=\"patch_12\">\r\n    <path clip-path=\"url(#pdaad917a26)\" d=\"M 328.795455 228.14 \r\nL 359.231818 228.14 \r\nL 359.231818 228.10243 \r\nL 328.795455 228.10243 \r\nz\r\n\" style=\"fill:#1f77b4;\"/>\r\n   </g>\r\n   <g id=\"matplotlib.axis_1\">\r\n    <g id=\"xtick_1\">\r\n     <g id=\"line2d_1\">\r\n      <path clip-path=\"url(#pdaad917a26)\" d=\"M 54.868182 228.14 \r\nL 54.868182 10.7 \r\n\" style=\"fill:none;stroke:#b0b0b0;stroke-linecap:square;stroke-width:0.8;\"/>\r\n     </g>\r\n     <g id=\"line2d_2\">\r\n      <defs>\r\n       <path d=\"M 0 0 \r\nL 0 3.5 \r\n\" id=\"m4da4dd40ae\" style=\"stroke:#000000;stroke-width:0.8;\"/>\r\n      </defs>\r\n      <g>\r\n       <use style=\"stroke:#000000;stroke-width:0.8;\" x=\"54.868182\" xlink:href=\"#m4da4dd40ae\" y=\"228.14\"/>\r\n      </g>\r\n     </g>\r\n     <g id=\"text_1\">\r\n      <!-- 0 -->\r\n      <defs>\r\n       <path d=\"M 31.78125 66.40625 \r\nQ 24.171875 66.40625 20.328125 58.90625 \r\nQ 16.5 51.421875 16.5 36.375 \r\nQ 16.5 21.390625 20.328125 13.890625 \r\nQ 24.171875 6.390625 31.78125 6.390625 \r\nQ 39.453125 6.390625 43.28125 13.890625 \r\nQ 47.125 21.390625 47.125 36.375 \r\nQ 47.125 51.421875 43.28125 58.90625 \r\nQ 39.453125 66.40625 31.78125 66.40625 \r\nz\r\nM 31.78125 74.21875 \r\nQ 44.046875 74.21875 50.515625 64.515625 \r\nQ 56.984375 54.828125 56.984375 36.375 \r\nQ 56.984375 17.96875 50.515625 8.265625 \r\nQ 44.046875 -1.421875 31.78125 -1.421875 \r\nQ 19.53125 -1.421875 13.0625 8.265625 \r\nQ 6.59375 17.96875 6.59375 36.375 \r\nQ 6.59375 54.828125 13.0625 64.515625 \r\nQ 19.53125 74.21875 31.78125 74.21875 \r\nz\r\n\" id=\"DejaVuSans-30\"/>\r\n      </defs>\r\n      <g transform=\"translate(51.686932 242.738437)scale(0.1 -0.1)\">\r\n       <use xlink:href=\"#DejaVuSans-30\"/>\r\n      </g>\r\n     </g>\r\n    </g>\r\n    <g id=\"xtick_2\">\r\n     <g id=\"line2d_3\">\r\n      <path clip-path=\"url(#pdaad917a26)\" d=\"M 93.046305 228.14 \r\nL 93.046305 10.7 \r\n\" style=\"fill:none;stroke:#b0b0b0;stroke-linecap:square;stroke-width:0.8;\"/>\r\n     </g>\r\n     <g id=\"line2d_4\">\r\n      <g>\r\n       <use style=\"stroke:#000000;stroke-width:0.8;\" x=\"93.046305\" xlink:href=\"#m4da4dd40ae\" y=\"228.14\"/>\r\n      </g>\r\n     </g>\r\n     <g id=\"text_2\">\r\n      <!-- 500 -->\r\n      <defs>\r\n       <path d=\"M 10.796875 72.90625 \r\nL 49.515625 72.90625 \r\nL 49.515625 64.59375 \r\nL 19.828125 64.59375 \r\nL 19.828125 46.734375 \r\nQ 21.96875 47.46875 24.109375 47.828125 \r\nQ 26.265625 48.1875 28.421875 48.1875 \r\nQ 40.625 48.1875 47.75 41.5 \r\nQ 54.890625 34.8125 54.890625 23.390625 \r\nQ 54.890625 11.625 47.5625 5.09375 \r\nQ 40.234375 -1.421875 26.90625 -1.421875 \r\nQ 22.3125 -1.421875 17.546875 -0.640625 \r\nQ 12.796875 0.140625 7.71875 1.703125 \r\nL 7.71875 11.625 \r\nQ 12.109375 9.234375 16.796875 8.0625 \r\nQ 21.484375 6.890625 26.703125 6.890625 \r\nQ 35.15625 6.890625 40.078125 11.328125 \r\nQ 45.015625 15.765625 45.015625 23.390625 \r\nQ 45.015625 31 40.078125 35.4375 \r\nQ 35.15625 39.890625 26.703125 39.890625 \r\nQ 22.75 39.890625 18.8125 39.015625 \r\nQ 14.890625 38.140625 10.796875 36.28125 \r\nz\r\n\" id=\"DejaVuSans-35\"/>\r\n      </defs>\r\n      <g transform=\"translate(83.502555 242.738437)scale(0.1 -0.1)\">\r\n       <use xlink:href=\"#DejaVuSans-35\"/>\r\n       <use x=\"63.623047\" xlink:href=\"#DejaVuSans-30\"/>\r\n       <use x=\"127.246094\" xlink:href=\"#DejaVuSans-30\"/>\r\n      </g>\r\n     </g>\r\n    </g>\r\n    <g id=\"xtick_3\">\r\n     <g id=\"line2d_5\">\r\n      <path clip-path=\"url(#pdaad917a26)\" d=\"M 131.224429 228.14 \r\nL 131.224429 10.7 \r\n\" style=\"fill:none;stroke:#b0b0b0;stroke-linecap:square;stroke-width:0.8;\"/>\r\n     </g>\r\n     <g id=\"line2d_6\">\r\n      <g>\r\n       <use style=\"stroke:#000000;stroke-width:0.8;\" x=\"131.224429\" xlink:href=\"#m4da4dd40ae\" y=\"228.14\"/>\r\n      </g>\r\n     </g>\r\n     <g id=\"text_3\">\r\n      <!-- 1000 -->\r\n      <defs>\r\n       <path d=\"M 12.40625 8.296875 \r\nL 28.515625 8.296875 \r\nL 28.515625 63.921875 \r\nL 10.984375 60.40625 \r\nL 10.984375 69.390625 \r\nL 28.421875 72.90625 \r\nL 38.28125 72.90625 \r\nL 38.28125 8.296875 \r\nL 54.390625 8.296875 \r\nL 54.390625 0 \r\nL 12.40625 0 \r\nz\r\n\" id=\"DejaVuSans-31\"/>\r\n      </defs>\r\n      <g transform=\"translate(118.499429 242.738437)scale(0.1 -0.1)\">\r\n       <use xlink:href=\"#DejaVuSans-31\"/>\r\n       <use x=\"63.623047\" xlink:href=\"#DejaVuSans-30\"/>\r\n       <use x=\"127.246094\" xlink:href=\"#DejaVuSans-30\"/>\r\n       <use x=\"190.869141\" xlink:href=\"#DejaVuSans-30\"/>\r\n      </g>\r\n     </g>\r\n    </g>\r\n    <g id=\"xtick_4\">\r\n     <g id=\"line2d_7\">\r\n      <path clip-path=\"url(#pdaad917a26)\" d=\"M 169.402552 228.14 \r\nL 169.402552 10.7 \r\n\" style=\"fill:none;stroke:#b0b0b0;stroke-linecap:square;stroke-width:0.8;\"/>\r\n     </g>\r\n     <g id=\"line2d_8\">\r\n      <g>\r\n       <use style=\"stroke:#000000;stroke-width:0.8;\" x=\"169.402552\" xlink:href=\"#m4da4dd40ae\" y=\"228.14\"/>\r\n      </g>\r\n     </g>\r\n     <g id=\"text_4\">\r\n      <!-- 1500 -->\r\n      <g transform=\"translate(156.677552 242.738437)scale(0.1 -0.1)\">\r\n       <use xlink:href=\"#DejaVuSans-31\"/>\r\n       <use x=\"63.623047\" xlink:href=\"#DejaVuSans-35\"/>\r\n       <use x=\"127.246094\" xlink:href=\"#DejaVuSans-30\"/>\r\n       <use x=\"190.869141\" xlink:href=\"#DejaVuSans-30\"/>\r\n      </g>\r\n     </g>\r\n    </g>\r\n    <g id=\"xtick_5\">\r\n     <g id=\"line2d_9\">\r\n      <path clip-path=\"url(#pdaad917a26)\" d=\"M 207.580676 228.14 \r\nL 207.580676 10.7 \r\n\" style=\"fill:none;stroke:#b0b0b0;stroke-linecap:square;stroke-width:0.8;\"/>\r\n     </g>\r\n     <g id=\"line2d_10\">\r\n      <g>\r\n       <use style=\"stroke:#000000;stroke-width:0.8;\" x=\"207.580676\" xlink:href=\"#m4da4dd40ae\" y=\"228.14\"/>\r\n      </g>\r\n     </g>\r\n     <g id=\"text_5\">\r\n      <!-- 2000 -->\r\n      <defs>\r\n       <path d=\"M 19.1875 8.296875 \r\nL 53.609375 8.296875 \r\nL 53.609375 0 \r\nL 7.328125 0 \r\nL 7.328125 8.296875 \r\nQ 12.9375 14.109375 22.625 23.890625 \r\nQ 32.328125 33.6875 34.8125 36.53125 \r\nQ 39.546875 41.84375 41.421875 45.53125 \r\nQ 43.3125 49.21875 43.3125 52.78125 \r\nQ 43.3125 58.59375 39.234375 62.25 \r\nQ 35.15625 65.921875 28.609375 65.921875 \r\nQ 23.96875 65.921875 18.8125 64.3125 \r\nQ 13.671875 62.703125 7.8125 59.421875 \r\nL 7.8125 69.390625 \r\nQ 13.765625 71.78125 18.9375 73 \r\nQ 24.125 74.21875 28.421875 74.21875 \r\nQ 39.75 74.21875 46.484375 68.546875 \r\nQ 53.21875 62.890625 53.21875 53.421875 \r\nQ 53.21875 48.921875 51.53125 44.890625 \r\nQ 49.859375 40.875 45.40625 35.40625 \r\nQ 44.1875 33.984375 37.640625 27.21875 \r\nQ 31.109375 20.453125 19.1875 8.296875 \r\nz\r\n\" id=\"DejaVuSans-32\"/>\r\n      </defs>\r\n      <g transform=\"translate(194.855676 242.738437)scale(0.1 -0.1)\">\r\n       <use xlink:href=\"#DejaVuSans-32\"/>\r\n       <use x=\"63.623047\" xlink:href=\"#DejaVuSans-30\"/>\r\n       <use x=\"127.246094\" xlink:href=\"#DejaVuSans-30\"/>\r\n       <use x=\"190.869141\" xlink:href=\"#DejaVuSans-30\"/>\r\n      </g>\r\n     </g>\r\n    </g>\r\n    <g id=\"xtick_6\">\r\n     <g id=\"line2d_11\">\r\n      <path clip-path=\"url(#pdaad917a26)\" d=\"M 245.758799 228.14 \r\nL 245.758799 10.7 \r\n\" style=\"fill:none;stroke:#b0b0b0;stroke-linecap:square;stroke-width:0.8;\"/>\r\n     </g>\r\n     <g id=\"line2d_12\">\r\n      <g>\r\n       <use style=\"stroke:#000000;stroke-width:0.8;\" x=\"245.758799\" xlink:href=\"#m4da4dd40ae\" y=\"228.14\"/>\r\n      </g>\r\n     </g>\r\n     <g id=\"text_6\">\r\n      <!-- 2500 -->\r\n      <g transform=\"translate(233.033799 242.738437)scale(0.1 -0.1)\">\r\n       <use xlink:href=\"#DejaVuSans-32\"/>\r\n       <use x=\"63.623047\" xlink:href=\"#DejaVuSans-35\"/>\r\n       <use x=\"127.246094\" xlink:href=\"#DejaVuSans-30\"/>\r\n       <use x=\"190.869141\" xlink:href=\"#DejaVuSans-30\"/>\r\n      </g>\r\n     </g>\r\n    </g>\r\n    <g id=\"xtick_7\">\r\n     <g id=\"line2d_13\">\r\n      <path clip-path=\"url(#pdaad917a26)\" d=\"M 283.936923 228.14 \r\nL 283.936923 10.7 \r\n\" style=\"fill:none;stroke:#b0b0b0;stroke-linecap:square;stroke-width:0.8;\"/>\r\n     </g>\r\n     <g id=\"line2d_14\">\r\n      <g>\r\n       <use style=\"stroke:#000000;stroke-width:0.8;\" x=\"283.936923\" xlink:href=\"#m4da4dd40ae\" y=\"228.14\"/>\r\n      </g>\r\n     </g>\r\n     <g id=\"text_7\">\r\n      <!-- 3000 -->\r\n      <defs>\r\n       <path d=\"M 40.578125 39.3125 \r\nQ 47.65625 37.796875 51.625 33 \r\nQ 55.609375 28.21875 55.609375 21.1875 \r\nQ 55.609375 10.40625 48.1875 4.484375 \r\nQ 40.765625 -1.421875 27.09375 -1.421875 \r\nQ 22.515625 -1.421875 17.65625 -0.515625 \r\nQ 12.796875 0.390625 7.625 2.203125 \r\nL 7.625 11.71875 \r\nQ 11.71875 9.328125 16.59375 8.109375 \r\nQ 21.484375 6.890625 26.8125 6.890625 \r\nQ 36.078125 6.890625 40.9375 10.546875 \r\nQ 45.796875 14.203125 45.796875 21.1875 \r\nQ 45.796875 27.640625 41.28125 31.265625 \r\nQ 36.765625 34.90625 28.71875 34.90625 \r\nL 20.21875 34.90625 \r\nL 20.21875 43.015625 \r\nL 29.109375 43.015625 \r\nQ 36.375 43.015625 40.234375 45.921875 \r\nQ 44.09375 48.828125 44.09375 54.296875 \r\nQ 44.09375 59.90625 40.109375 62.90625 \r\nQ 36.140625 65.921875 28.71875 65.921875 \r\nQ 24.65625 65.921875 20.015625 65.03125 \r\nQ 15.375 64.15625 9.8125 62.3125 \r\nL 9.8125 71.09375 \r\nQ 15.4375 72.65625 20.34375 73.4375 \r\nQ 25.25 74.21875 29.59375 74.21875 \r\nQ 40.828125 74.21875 47.359375 69.109375 \r\nQ 53.90625 64.015625 53.90625 55.328125 \r\nQ 53.90625 49.265625 50.4375 45.09375 \r\nQ 46.96875 40.921875 40.578125 39.3125 \r\nz\r\n\" id=\"DejaVuSans-33\"/>\r\n      </defs>\r\n      <g transform=\"translate(271.211923 242.738437)scale(0.1 -0.1)\">\r\n       <use xlink:href=\"#DejaVuSans-33\"/>\r\n       <use x=\"63.623047\" xlink:href=\"#DejaVuSans-30\"/>\r\n       <use x=\"127.246094\" xlink:href=\"#DejaVuSans-30\"/>\r\n       <use x=\"190.869141\" xlink:href=\"#DejaVuSans-30\"/>\r\n      </g>\r\n     </g>\r\n    </g>\r\n    <g id=\"xtick_8\">\r\n     <g id=\"line2d_15\">\r\n      <path clip-path=\"url(#pdaad917a26)\" d=\"M 322.115046 228.14 \r\nL 322.115046 10.7 \r\n\" style=\"fill:none;stroke:#b0b0b0;stroke-linecap:square;stroke-width:0.8;\"/>\r\n     </g>\r\n     <g id=\"line2d_16\">\r\n      <g>\r\n       <use style=\"stroke:#000000;stroke-width:0.8;\" x=\"322.115046\" xlink:href=\"#m4da4dd40ae\" y=\"228.14\"/>\r\n      </g>\r\n     </g>\r\n     <g id=\"text_8\">\r\n      <!-- 3500 -->\r\n      <g transform=\"translate(309.390046 242.738437)scale(0.1 -0.1)\">\r\n       <use xlink:href=\"#DejaVuSans-33\"/>\r\n       <use x=\"63.623047\" xlink:href=\"#DejaVuSans-35\"/>\r\n       <use x=\"127.246094\" xlink:href=\"#DejaVuSans-30\"/>\r\n       <use x=\"190.869141\" xlink:href=\"#DejaVuSans-30\"/>\r\n      </g>\r\n     </g>\r\n    </g>\r\n    <g id=\"xtick_9\">\r\n     <g id=\"line2d_17\">\r\n      <path clip-path=\"url(#pdaad917a26)\" d=\"M 360.29317 228.14 \r\nL 360.29317 10.7 \r\n\" style=\"fill:none;stroke:#b0b0b0;stroke-linecap:square;stroke-width:0.8;\"/>\r\n     </g>\r\n     <g id=\"line2d_18\">\r\n      <g>\r\n       <use style=\"stroke:#000000;stroke-width:0.8;\" x=\"360.29317\" xlink:href=\"#m4da4dd40ae\" y=\"228.14\"/>\r\n      </g>\r\n     </g>\r\n     <g id=\"text_9\">\r\n      <!-- 4000 -->\r\n      <defs>\r\n       <path d=\"M 37.796875 64.3125 \r\nL 12.890625 25.390625 \r\nL 37.796875 25.390625 \r\nz\r\nM 35.203125 72.90625 \r\nL 47.609375 72.90625 \r\nL 47.609375 25.390625 \r\nL 58.015625 25.390625 \r\nL 58.015625 17.1875 \r\nL 47.609375 17.1875 \r\nL 47.609375 0 \r\nL 37.796875 0 \r\nL 37.796875 17.1875 \r\nL 4.890625 17.1875 \r\nL 4.890625 26.703125 \r\nz\r\n\" id=\"DejaVuSans-34\"/>\r\n      </defs>\r\n      <g transform=\"translate(347.56817 242.738437)scale(0.1 -0.1)\">\r\n       <use xlink:href=\"#DejaVuSans-34\"/>\r\n       <use x=\"63.623047\" xlink:href=\"#DejaVuSans-30\"/>\r\n       <use x=\"127.246094\" xlink:href=\"#DejaVuSans-30\"/>\r\n       <use x=\"190.869141\" xlink:href=\"#DejaVuSans-30\"/>\r\n      </g>\r\n     </g>\r\n    </g>\r\n   </g>\r\n   <g id=\"matplotlib.axis_2\">\r\n    <g id=\"ytick_1\">\r\n     <g id=\"line2d_19\">\r\n      <path clip-path=\"url(#pdaad917a26)\" d=\"M 39.65 228.14 \r\nL 374.45 228.14 \r\n\" style=\"fill:none;stroke:#b0b0b0;stroke-linecap:square;stroke-width:0.8;\"/>\r\n     </g>\r\n     <g id=\"line2d_20\">\r\n      <defs>\r\n       <path d=\"M 0 0 \r\nL -3.5 0 \r\n\" id=\"m3601e6bc70\" style=\"stroke:#000000;stroke-width:0.8;\"/>\r\n      </defs>\r\n      <g>\r\n       <use style=\"stroke:#000000;stroke-width:0.8;\" x=\"39.65\" xlink:href=\"#m3601e6bc70\" y=\"228.14\"/>\r\n      </g>\r\n     </g>\r\n     <g id=\"text_10\">\r\n      <!-- 0 -->\r\n      <g transform=\"translate(26.2875 231.939219)scale(0.1 -0.1)\">\r\n       <use xlink:href=\"#DejaVuSans-30\"/>\r\n      </g>\r\n     </g>\r\n    </g>\r\n    <g id=\"ytick_2\">\r\n     <g id=\"line2d_21\">\r\n      <path clip-path=\"url(#pdaad917a26)\" d=\"M 39.65 190.570023 \r\nL 374.45 190.570023 \r\n\" style=\"fill:none;stroke:#b0b0b0;stroke-linecap:square;stroke-width:0.8;\"/>\r\n     </g>\r\n     <g id=\"line2d_22\">\r\n      <g>\r\n       <use style=\"stroke:#000000;stroke-width:0.8;\" x=\"39.65\" xlink:href=\"#m3601e6bc70\" y=\"190.570023\"/>\r\n      </g>\r\n     </g>\r\n     <g id=\"text_11\">\r\n      <!-- 1000 -->\r\n      <g transform=\"translate(7.2 194.369242)scale(0.1 -0.1)\">\r\n       <use xlink:href=\"#DejaVuSans-31\"/>\r\n       <use x=\"63.623047\" xlink:href=\"#DejaVuSans-30\"/>\r\n       <use x=\"127.246094\" xlink:href=\"#DejaVuSans-30\"/>\r\n       <use x=\"190.869141\" xlink:href=\"#DejaVuSans-30\"/>\r\n      </g>\r\n     </g>\r\n    </g>\r\n    <g id=\"ytick_3\">\r\n     <g id=\"line2d_23\">\r\n      <path clip-path=\"url(#pdaad917a26)\" d=\"M 39.65 153.000046 \r\nL 374.45 153.000046 \r\n\" style=\"fill:none;stroke:#b0b0b0;stroke-linecap:square;stroke-width:0.8;\"/>\r\n     </g>\r\n     <g id=\"line2d_24\">\r\n      <g>\r\n       <use style=\"stroke:#000000;stroke-width:0.8;\" x=\"39.65\" xlink:href=\"#m3601e6bc70\" y=\"153.000046\"/>\r\n      </g>\r\n     </g>\r\n     <g id=\"text_12\">\r\n      <!-- 2000 -->\r\n      <g transform=\"translate(7.2 156.799264)scale(0.1 -0.1)\">\r\n       <use xlink:href=\"#DejaVuSans-32\"/>\r\n       <use x=\"63.623047\" xlink:href=\"#DejaVuSans-30\"/>\r\n       <use x=\"127.246094\" xlink:href=\"#DejaVuSans-30\"/>\r\n       <use x=\"190.869141\" xlink:href=\"#DejaVuSans-30\"/>\r\n      </g>\r\n     </g>\r\n    </g>\r\n    <g id=\"ytick_4\">\r\n     <g id=\"line2d_25\">\r\n      <path clip-path=\"url(#pdaad917a26)\" d=\"M 39.65 115.430068 \r\nL 374.45 115.430068 \r\n\" style=\"fill:none;stroke:#b0b0b0;stroke-linecap:square;stroke-width:0.8;\"/>\r\n     </g>\r\n     <g id=\"line2d_26\">\r\n      <g>\r\n       <use style=\"stroke:#000000;stroke-width:0.8;\" x=\"39.65\" xlink:href=\"#m3601e6bc70\" y=\"115.430068\"/>\r\n      </g>\r\n     </g>\r\n     <g id=\"text_13\">\r\n      <!-- 3000 -->\r\n      <g transform=\"translate(7.2 119.229287)scale(0.1 -0.1)\">\r\n       <use xlink:href=\"#DejaVuSans-33\"/>\r\n       <use x=\"63.623047\" xlink:href=\"#DejaVuSans-30\"/>\r\n       <use x=\"127.246094\" xlink:href=\"#DejaVuSans-30\"/>\r\n       <use x=\"190.869141\" xlink:href=\"#DejaVuSans-30\"/>\r\n      </g>\r\n     </g>\r\n    </g>\r\n    <g id=\"ytick_5\">\r\n     <g id=\"line2d_27\">\r\n      <path clip-path=\"url(#pdaad917a26)\" d=\"M 39.65 77.860091 \r\nL 374.45 77.860091 \r\n\" style=\"fill:none;stroke:#b0b0b0;stroke-linecap:square;stroke-width:0.8;\"/>\r\n     </g>\r\n     <g id=\"line2d_28\">\r\n      <g>\r\n       <use style=\"stroke:#000000;stroke-width:0.8;\" x=\"39.65\" xlink:href=\"#m3601e6bc70\" y=\"77.860091\"/>\r\n      </g>\r\n     </g>\r\n     <g id=\"text_14\">\r\n      <!-- 4000 -->\r\n      <g transform=\"translate(7.2 81.65931)scale(0.1 -0.1)\">\r\n       <use xlink:href=\"#DejaVuSans-34\"/>\r\n       <use x=\"63.623047\" xlink:href=\"#DejaVuSans-30\"/>\r\n       <use x=\"127.246094\" xlink:href=\"#DejaVuSans-30\"/>\r\n       <use x=\"190.869141\" xlink:href=\"#DejaVuSans-30\"/>\r\n      </g>\r\n     </g>\r\n    </g>\r\n    <g id=\"ytick_6\">\r\n     <g id=\"line2d_29\">\r\n      <path clip-path=\"url(#pdaad917a26)\" d=\"M 39.65 40.290114 \r\nL 374.45 40.290114 \r\n\" style=\"fill:none;stroke:#b0b0b0;stroke-linecap:square;stroke-width:0.8;\"/>\r\n     </g>\r\n     <g id=\"line2d_30\">\r\n      <g>\r\n       <use style=\"stroke:#000000;stroke-width:0.8;\" x=\"39.65\" xlink:href=\"#m3601e6bc70\" y=\"40.290114\"/>\r\n      </g>\r\n     </g>\r\n     <g id=\"text_15\">\r\n      <!-- 5000 -->\r\n      <g transform=\"translate(7.2 44.089333)scale(0.1 -0.1)\">\r\n       <use xlink:href=\"#DejaVuSans-35\"/>\r\n       <use x=\"63.623047\" xlink:href=\"#DejaVuSans-30\"/>\r\n       <use x=\"127.246094\" xlink:href=\"#DejaVuSans-30\"/>\r\n       <use x=\"190.869141\" xlink:href=\"#DejaVuSans-30\"/>\r\n      </g>\r\n     </g>\r\n    </g>\r\n   </g>\r\n   <g id=\"patch_13\">\r\n    <path d=\"M 39.65 228.14 \r\nL 39.65 10.7 \r\n\" style=\"fill:none;stroke:#000000;stroke-linecap:square;stroke-linejoin:miter;stroke-width:0.8;\"/>\r\n   </g>\r\n   <g id=\"patch_14\">\r\n    <path d=\"M 374.45 228.14 \r\nL 374.45 10.7 \r\n\" style=\"fill:none;stroke:#000000;stroke-linecap:square;stroke-linejoin:miter;stroke-width:0.8;\"/>\r\n   </g>\r\n   <g id=\"patch_15\">\r\n    <path d=\"M 39.65 228.14 \r\nL 374.45 228.14 \r\n\" style=\"fill:none;stroke:#000000;stroke-linecap:square;stroke-linejoin:miter;stroke-width:0.8;\"/>\r\n   </g>\r\n   <g id=\"patch_16\">\r\n    <path d=\"M 39.65 10.7 \r\nL 374.45 10.7 \r\n\" style=\"fill:none;stroke:#000000;stroke-linecap:square;stroke-linejoin:miter;stroke-width:0.8;\"/>\r\n   </g>\r\n  </g>\r\n </g>\r\n <defs>\r\n  <clipPath id=\"pdaad917a26\">\r\n   <rect height=\"217.44\" width=\"334.8\" x=\"39.65\" y=\"10.7\"/>\r\n  </clipPath>\r\n </defs>\r\n</svg>\r\n",
      "image/png": "[encoded data removed]"
     },
     "metadata": {
      "needs_background": "light"
     }
    }
   ],
   "source": [
    "same_num_df['inf num'].hist()#影响人数的分布"
   ]
  },
  {
   "cell_type": "code",
   "execution_count": 202,
   "metadata": {},
   "outputs": [
    {
     "output_type": "execute_result",
     "data": {
      "text/plain": [
       "2986"
      ]
     },
     "metadata": {},
     "execution_count": 202
    }
   ],
   "source": [
    "sum(same_num_df['inf num'].value_counts().values[:30])"
   ]
  },
  {
   "cell_type": "code",
   "execution_count": 88,
   "metadata": {},
   "outputs": [],
   "source": [
    "dyn_inf_val={}#存放各个节点的dynamic influencers指标\n",
    "for key in same_dict.keys():\n",
    "    dyn_inf_val[key]=same_value[key]+inf_num_value[key]"
   ]
  },
  {
   "cell_type": "code",
   "execution_count": 203,
   "metadata": {},
   "outputs": [
    {
     "output_type": "execute_result",
     "data": {
      "text/plain": [
       "array([[<matplotlib.axes._subplots.AxesSubplot object at 0x000002D9EB7F6198>]],\n",
       "      dtype=object)"
      ]
     },
     "metadata": {},
     "execution_count": 203
    },
    {
     "output_type": "display_data",
     "data": {
      "text/plain": "<Figure size 432x288 with 1 Axes>",
      "image/svg+xml": "<?xml version=\"1.0\" encoding=\"utf-8\" standalone=\"no\"?>\r\n<!DOCTYPE svg PUBLIC \"-//W3C//DTD SVG 1.1//EN\"\r\n  \"http://www.w3.org/Graphics/SVG/1.1/DTD/svg11.dtd\">\r\n<!-- Created with matplotlib (http://matplotlib.org/) -->\r\n<svg height=\"263.63625pt\" version=\"1.1\" viewBox=\"0 0 385.15 263.63625\" width=\"385.15pt\" xmlns=\"http://www.w3.org/2000/svg\" xmlns:xlink=\"http://www.w3.org/1999/xlink\">\r\n <defs>\r\n  <style type=\"text/css\">\r\n*{stroke-linecap:butt;stroke-linejoin:round;}\r\n  </style>\r\n </defs>\r\n <g id=\"figure_1\">\r\n  <g id=\"patch_1\">\r\n   <path d=\"M -0 263.63625 \r\nL 385.15 263.63625 \r\nL 385.15 0 \r\nL -0 0 \r\nz\r\n\" style=\"fill:none;\"/>\r\n  </g>\r\n  <g id=\"axes_1\">\r\n   <g id=\"patch_2\">\r\n    <path d=\"M 39.65 239.758125 \r\nL 374.45 239.758125 \r\nL 374.45 22.318125 \r\nL 39.65 22.318125 \r\nz\r\n\" style=\"fill:#ffffff;\"/>\r\n   </g>\r\n   <g id=\"patch_3\">\r\n    <path clip-path=\"url(#p290a72ad0a)\" d=\"M 54.868182 239.758125 \r\nL 85.304545 239.758125 \r\nL 85.304545 32.672411 \r\nL 54.868182 32.672411 \r\nz\r\n\" style=\"fill:#1f77b4;\"/>\r\n   </g>\r\n   <g id=\"patch_4\">\r\n    <path clip-path=\"url(#p290a72ad0a)\" d=\"M 85.304545 239.758125 \r\nL 115.740909 239.758125 \r\nL 115.740909 208.789429 \r\nL 85.304545 208.789429 \r\nz\r\n\" style=\"fill:#1f77b4;\"/>\r\n   </g>\r\n   <g id=\"patch_5\">\r\n    <path clip-path=\"url(#p290a72ad0a)\" d=\"M 115.740909 239.758125 \r\nL 146.177273 239.758125 \r\nL 146.177273 217.717342 \r\nL 115.740909 217.717342 \r\nz\r\n\" style=\"fill:#1f77b4;\"/>\r\n   </g>\r\n   <g id=\"patch_6\">\r\n    <path clip-path=\"url(#p290a72ad0a)\" d=\"M 146.177273 239.758125 \r\nL 176.613636 239.758125 \r\nL 176.613636 223.436785 \r\nL 146.177273 223.436785 \r\nz\r\n\" style=\"fill:#1f77b4;\"/>\r\n   </g>\r\n   <g id=\"patch_7\">\r\n    <path clip-path=\"url(#p290a72ad0a)\" d=\"M 176.613636 239.758125 \r\nL 207.05 239.758125 \r\nL 207.05 229.08648 \r\nL 176.613636 229.08648 \r\nz\r\n\" style=\"fill:#1f77b4;\"/>\r\n   </g>\r\n   <g id=\"patch_8\">\r\n    <path clip-path=\"url(#p290a72ad0a)\" d=\"M 207.05 239.758125 \r\nL 237.486364 239.758125 \r\nL 237.486364 228.667984 \r\nL 207.05 228.667984 \r\nz\r\n\" style=\"fill:#1f77b4;\"/>\r\n   </g>\r\n   <g id=\"patch_9\">\r\n    <path clip-path=\"url(#p290a72ad0a)\" d=\"M 237.486364 239.758125 \r\nL 267.922727 239.758125 \r\nL 267.922727 231.667205 \r\nL 237.486364 231.667205 \r\nz\r\n\" style=\"fill:#1f77b4;\"/>\r\n   </g>\r\n   <g id=\"patch_10\">\r\n    <path clip-path=\"url(#p290a72ad0a)\" d=\"M 267.922727 239.758125 \r\nL 298.359091 239.758125 \r\nL 298.359091 232.783194 \r\nL 267.922727 232.783194 \r\nz\r\n\" style=\"fill:#1f77b4;\"/>\r\n   </g>\r\n   <g id=\"patch_11\">\r\n    <path clip-path=\"url(#p290a72ad0a)\" d=\"M 298.359091 239.758125 \r\nL 328.795455 239.758125 \r\nL 328.795455 232.922692 \r\nL 298.359091 232.922692 \r\nz\r\n\" style=\"fill:#1f77b4;\"/>\r\n   </g>\r\n   <g id=\"patch_12\">\r\n    <path clip-path=\"url(#p290a72ad0a)\" d=\"M 328.795455 239.758125 \r\nL 359.231818 239.758125 \r\nL 359.231818 234.317678 \r\nL 328.795455 234.317678 \r\nz\r\n\" style=\"fill:#1f77b4;\"/>\r\n   </g>\r\n   <g id=\"matplotlib.axis_1\">\r\n    <g id=\"xtick_1\">\r\n     <g id=\"line2d_1\">\r\n      <path clip-path=\"url(#p290a72ad0a)\" d=\"M 54.868182 239.758125 \r\nL 54.868182 22.318125 \r\n\" style=\"fill:none;stroke:#b0b0b0;stroke-linecap:square;stroke-width:0.8;\"/>\r\n     </g>\r\n     <g id=\"line2d_2\">\r\n      <defs>\r\n       <path d=\"M 0 0 \r\nL 0 3.5 \r\n\" id=\"m860a97d50e\" style=\"stroke:#000000;stroke-width:0.8;\"/>\r\n      </defs>\r\n      <g>\r\n       <use style=\"stroke:#000000;stroke-width:0.8;\" x=\"54.868182\" xlink:href=\"#m860a97d50e\" y=\"239.758125\"/>\r\n      </g>\r\n     </g>\r\n     <g id=\"text_1\">\r\n      <!-- 0 -->\r\n      <defs>\r\n       <path d=\"M 31.78125 66.40625 \r\nQ 24.171875 66.40625 20.328125 58.90625 \r\nQ 16.5 51.421875 16.5 36.375 \r\nQ 16.5 21.390625 20.328125 13.890625 \r\nQ 24.171875 6.390625 31.78125 6.390625 \r\nQ 39.453125 6.390625 43.28125 13.890625 \r\nQ 47.125 21.390625 47.125 36.375 \r\nQ 47.125 51.421875 43.28125 58.90625 \r\nQ 39.453125 66.40625 31.78125 66.40625 \r\nz\r\nM 31.78125 74.21875 \r\nQ 44.046875 74.21875 50.515625 64.515625 \r\nQ 56.984375 54.828125 56.984375 36.375 \r\nQ 56.984375 17.96875 50.515625 8.265625 \r\nQ 44.046875 -1.421875 31.78125 -1.421875 \r\nQ 19.53125 -1.421875 13.0625 8.265625 \r\nQ 6.59375 17.96875 6.59375 36.375 \r\nQ 6.59375 54.828125 13.0625 64.515625 \r\nQ 19.53125 74.21875 31.78125 74.21875 \r\nz\r\n\" id=\"DejaVuSans-30\"/>\r\n      </defs>\r\n      <g transform=\"translate(51.686932 254.356563)scale(0.1 -0.1)\">\r\n       <use xlink:href=\"#DejaVuSans-30\"/>\r\n      </g>\r\n     </g>\r\n    </g>\r\n    <g id=\"xtick_2\">\r\n     <g id=\"line2d_3\">\r\n      <path clip-path=\"url(#p290a72ad0a)\" d=\"M 115.862899 239.758125 \r\nL 115.862899 22.318125 \r\n\" style=\"fill:none;stroke:#b0b0b0;stroke-linecap:square;stroke-width:0.8;\"/>\r\n     </g>\r\n     <g id=\"line2d_4\">\r\n      <g>\r\n       <use style=\"stroke:#000000;stroke-width:0.8;\" x=\"115.862899\" xlink:href=\"#m860a97d50e\" y=\"239.758125\"/>\r\n      </g>\r\n     </g>\r\n     <g id=\"text_2\">\r\n      <!-- 10 -->\r\n      <defs>\r\n       <path d=\"M 12.40625 8.296875 \r\nL 28.515625 8.296875 \r\nL 28.515625 63.921875 \r\nL 10.984375 60.40625 \r\nL 10.984375 69.390625 \r\nL 28.421875 72.90625 \r\nL 38.28125 72.90625 \r\nL 38.28125 8.296875 \r\nL 54.390625 8.296875 \r\nL 54.390625 0 \r\nL 12.40625 0 \r\nz\r\n\" id=\"DejaVuSans-31\"/>\r\n      </defs>\r\n      <g transform=\"translate(109.500399 254.356563)scale(0.1 -0.1)\">\r\n       <use xlink:href=\"#DejaVuSans-31\"/>\r\n       <use x=\"63.623047\" xlink:href=\"#DejaVuSans-30\"/>\r\n      </g>\r\n     </g>\r\n    </g>\r\n    <g id=\"xtick_3\">\r\n     <g id=\"line2d_5\">\r\n      <path clip-path=\"url(#p290a72ad0a)\" d=\"M 176.857615 239.758125 \r\nL 176.857615 22.318125 \r\n\" style=\"fill:none;stroke:#b0b0b0;stroke-linecap:square;stroke-width:0.8;\"/>\r\n     </g>\r\n     <g id=\"line2d_6\">\r\n      <g>\r\n       <use style=\"stroke:#000000;stroke-width:0.8;\" x=\"176.857615\" xlink:href=\"#m860a97d50e\" y=\"239.758125\"/>\r\n      </g>\r\n     </g>\r\n     <g id=\"text_3\">\r\n      <!-- 20 -->\r\n      <defs>\r\n       <path d=\"M 19.1875 8.296875 \r\nL 53.609375 8.296875 \r\nL 53.609375 0 \r\nL 7.328125 0 \r\nL 7.328125 8.296875 \r\nQ 12.9375 14.109375 22.625 23.890625 \r\nQ 32.328125 33.6875 34.8125 36.53125 \r\nQ 39.546875 41.84375 41.421875 45.53125 \r\nQ 43.3125 49.21875 43.3125 52.78125 \r\nQ 43.3125 58.59375 39.234375 62.25 \r\nQ 35.15625 65.921875 28.609375 65.921875 \r\nQ 23.96875 65.921875 18.8125 64.3125 \r\nQ 13.671875 62.703125 7.8125 59.421875 \r\nL 7.8125 69.390625 \r\nQ 13.765625 71.78125 18.9375 73 \r\nQ 24.125 74.21875 28.421875 74.21875 \r\nQ 39.75 74.21875 46.484375 68.546875 \r\nQ 53.21875 62.890625 53.21875 53.421875 \r\nQ 53.21875 48.921875 51.53125 44.890625 \r\nQ 49.859375 40.875 45.40625 35.40625 \r\nQ 44.1875 33.984375 37.640625 27.21875 \r\nQ 31.109375 20.453125 19.1875 8.296875 \r\nz\r\n\" id=\"DejaVuSans-32\"/>\r\n      </defs>\r\n      <g transform=\"translate(170.495115 254.356563)scale(0.1 -0.1)\">\r\n       <use xlink:href=\"#DejaVuSans-32\"/>\r\n       <use x=\"63.623047\" xlink:href=\"#DejaVuSans-30\"/>\r\n      </g>\r\n     </g>\r\n    </g>\r\n    <g id=\"xtick_4\">\r\n     <g id=\"line2d_7\">\r\n      <path clip-path=\"url(#p290a72ad0a)\" d=\"M 237.852332 239.758125 \r\nL 237.852332 22.318125 \r\n\" style=\"fill:none;stroke:#b0b0b0;stroke-linecap:square;stroke-width:0.8;\"/>\r\n     </g>\r\n     <g id=\"line2d_8\">\r\n      <g>\r\n       <use style=\"stroke:#000000;stroke-width:0.8;\" x=\"237.852332\" xlink:href=\"#m860a97d50e\" y=\"239.758125\"/>\r\n      </g>\r\n     </g>\r\n     <g id=\"text_4\">\r\n      <!-- 30 -->\r\n      <defs>\r\n       <path d=\"M 40.578125 39.3125 \r\nQ 47.65625 37.796875 51.625 33 \r\nQ 55.609375 28.21875 55.609375 21.1875 \r\nQ 55.609375 10.40625 48.1875 4.484375 \r\nQ 40.765625 -1.421875 27.09375 -1.421875 \r\nQ 22.515625 -1.421875 17.65625 -0.515625 \r\nQ 12.796875 0.390625 7.625 2.203125 \r\nL 7.625 11.71875 \r\nQ 11.71875 9.328125 16.59375 8.109375 \r\nQ 21.484375 6.890625 26.8125 6.890625 \r\nQ 36.078125 6.890625 40.9375 10.546875 \r\nQ 45.796875 14.203125 45.796875 21.1875 \r\nQ 45.796875 27.640625 41.28125 31.265625 \r\nQ 36.765625 34.90625 28.71875 34.90625 \r\nL 20.21875 34.90625 \r\nL 20.21875 43.015625 \r\nL 29.109375 43.015625 \r\nQ 36.375 43.015625 40.234375 45.921875 \r\nQ 44.09375 48.828125 44.09375 54.296875 \r\nQ 44.09375 59.90625 40.109375 62.90625 \r\nQ 36.140625 65.921875 28.71875 65.921875 \r\nQ 24.65625 65.921875 20.015625 65.03125 \r\nQ 15.375 64.15625 9.8125 62.3125 \r\nL 9.8125 71.09375 \r\nQ 15.4375 72.65625 20.34375 73.4375 \r\nQ 25.25 74.21875 29.59375 74.21875 \r\nQ 40.828125 74.21875 47.359375 69.109375 \r\nQ 53.90625 64.015625 53.90625 55.328125 \r\nQ 53.90625 49.265625 50.4375 45.09375 \r\nQ 46.96875 40.921875 40.578125 39.3125 \r\nz\r\n\" id=\"DejaVuSans-33\"/>\r\n      </defs>\r\n      <g transform=\"translate(231.489832 254.356563)scale(0.1 -0.1)\">\r\n       <use xlink:href=\"#DejaVuSans-33\"/>\r\n       <use x=\"63.623047\" xlink:href=\"#DejaVuSans-30\"/>\r\n      </g>\r\n     </g>\r\n    </g>\r\n    <g id=\"xtick_5\">\r\n     <g id=\"line2d_9\">\r\n      <path clip-path=\"url(#p290a72ad0a)\" d=\"M 298.847049 239.758125 \r\nL 298.847049 22.318125 \r\n\" style=\"fill:none;stroke:#b0b0b0;stroke-linecap:square;stroke-width:0.8;\"/>\r\n     </g>\r\n     <g id=\"line2d_10\">\r\n      <g>\r\n       <use style=\"stroke:#000000;stroke-width:0.8;\" x=\"298.847049\" xlink:href=\"#m860a97d50e\" y=\"239.758125\"/>\r\n      </g>\r\n     </g>\r\n     <g id=\"text_5\">\r\n      <!-- 40 -->\r\n      <defs>\r\n       <path d=\"M 37.796875 64.3125 \r\nL 12.890625 25.390625 \r\nL 37.796875 25.390625 \r\nz\r\nM 35.203125 72.90625 \r\nL 47.609375 72.90625 \r\nL 47.609375 25.390625 \r\nL 58.015625 25.390625 \r\nL 58.015625 17.1875 \r\nL 47.609375 17.1875 \r\nL 47.609375 0 \r\nL 37.796875 0 \r\nL 37.796875 17.1875 \r\nL 4.890625 17.1875 \r\nL 4.890625 26.703125 \r\nz\r\n\" id=\"DejaVuSans-34\"/>\r\n      </defs>\r\n      <g transform=\"translate(292.484549 254.356563)scale(0.1 -0.1)\">\r\n       <use xlink:href=\"#DejaVuSans-34\"/>\r\n       <use x=\"63.623047\" xlink:href=\"#DejaVuSans-30\"/>\r\n      </g>\r\n     </g>\r\n    </g>\r\n    <g id=\"xtick_6\">\r\n     <g id=\"line2d_11\">\r\n      <path clip-path=\"url(#p290a72ad0a)\" d=\"M 359.841765 239.758125 \r\nL 359.841765 22.318125 \r\n\" style=\"fill:none;stroke:#b0b0b0;stroke-linecap:square;stroke-width:0.8;\"/>\r\n     </g>\r\n     <g id=\"line2d_12\">\r\n      <g>\r\n       <use style=\"stroke:#000000;stroke-width:0.8;\" x=\"359.841765\" xlink:href=\"#m860a97d50e\" y=\"239.758125\"/>\r\n      </g>\r\n     </g>\r\n     <g id=\"text_6\">\r\n      <!-- 50 -->\r\n      <defs>\r\n       <path d=\"M 10.796875 72.90625 \r\nL 49.515625 72.90625 \r\nL 49.515625 64.59375 \r\nL 19.828125 64.59375 \r\nL 19.828125 46.734375 \r\nQ 21.96875 47.46875 24.109375 47.828125 \r\nQ 26.265625 48.1875 28.421875 48.1875 \r\nQ 40.625 48.1875 47.75 41.5 \r\nQ 54.890625 34.8125 54.890625 23.390625 \r\nQ 54.890625 11.625 47.5625 5.09375 \r\nQ 40.234375 -1.421875 26.90625 -1.421875 \r\nQ 22.3125 -1.421875 17.546875 -0.640625 \r\nQ 12.796875 0.140625 7.71875 1.703125 \r\nL 7.71875 11.625 \r\nQ 12.109375 9.234375 16.796875 8.0625 \r\nQ 21.484375 6.890625 26.703125 6.890625 \r\nQ 35.15625 6.890625 40.078125 11.328125 \r\nQ 45.015625 15.765625 45.015625 23.390625 \r\nQ 45.015625 31 40.078125 35.4375 \r\nQ 35.15625 39.890625 26.703125 39.890625 \r\nQ 22.75 39.890625 18.8125 39.015625 \r\nQ 14.890625 38.140625 10.796875 36.28125 \r\nz\r\n\" id=\"DejaVuSans-35\"/>\r\n      </defs>\r\n      <g transform=\"translate(353.479265 254.356563)scale(0.1 -0.1)\">\r\n       <use xlink:href=\"#DejaVuSans-35\"/>\r\n       <use x=\"63.623047\" xlink:href=\"#DejaVuSans-30\"/>\r\n      </g>\r\n     </g>\r\n    </g>\r\n   </g>\r\n   <g id=\"matplotlib.axis_2\">\r\n    <g id=\"ytick_1\">\r\n     <g id=\"line2d_13\">\r\n      <path clip-path=\"url(#p290a72ad0a)\" d=\"M 39.65 239.758125 \r\nL 374.45 239.758125 \r\n\" style=\"fill:none;stroke:#b0b0b0;stroke-linecap:square;stroke-width:0.8;\"/>\r\n     </g>\r\n     <g id=\"line2d_14\">\r\n      <defs>\r\n       <path d=\"M 0 0 \r\nL -3.5 0 \r\n\" id=\"me698796f6b\" style=\"stroke:#000000;stroke-width:0.8;\"/>\r\n      </defs>\r\n      <g>\r\n       <use style=\"stroke:#000000;stroke-width:0.8;\" x=\"39.65\" xlink:href=\"#me698796f6b\" y=\"239.758125\"/>\r\n      </g>\r\n     </g>\r\n     <g id=\"text_7\">\r\n      <!-- 0 -->\r\n      <g transform=\"translate(26.2875 243.557344)scale(0.1 -0.1)\">\r\n       <use xlink:href=\"#DejaVuSans-30\"/>\r\n      </g>\r\n     </g>\r\n    </g>\r\n    <g id=\"ytick_2\">\r\n     <g id=\"line2d_15\">\r\n      <path clip-path=\"url(#p290a72ad0a)\" d=\"M 39.65 204.883468 \r\nL 374.45 204.883468 \r\n\" style=\"fill:none;stroke:#b0b0b0;stroke-linecap:square;stroke-width:0.8;\"/>\r\n     </g>\r\n     <g id=\"line2d_16\">\r\n      <g>\r\n       <use style=\"stroke:#000000;stroke-width:0.8;\" x=\"39.65\" xlink:href=\"#me698796f6b\" y=\"204.883468\"/>\r\n      </g>\r\n     </g>\r\n     <g id=\"text_8\">\r\n      <!-- 500 -->\r\n      <g transform=\"translate(13.5625 208.682687)scale(0.1 -0.1)\">\r\n       <use xlink:href=\"#DejaVuSans-35\"/>\r\n       <use x=\"63.623047\" xlink:href=\"#DejaVuSans-30\"/>\r\n       <use x=\"127.246094\" xlink:href=\"#DejaVuSans-30\"/>\r\n      </g>\r\n     </g>\r\n    </g>\r\n    <g id=\"ytick_3\">\r\n     <g id=\"line2d_17\">\r\n      <path clip-path=\"url(#p290a72ad0a)\" d=\"M 39.65 170.008811 \r\nL 374.45 170.008811 \r\n\" style=\"fill:none;stroke:#b0b0b0;stroke-linecap:square;stroke-width:0.8;\"/>\r\n     </g>\r\n     <g id=\"line2d_18\">\r\n      <g>\r\n       <use style=\"stroke:#000000;stroke-width:0.8;\" x=\"39.65\" xlink:href=\"#me698796f6b\" y=\"170.008811\"/>\r\n      </g>\r\n     </g>\r\n     <g id=\"text_9\">\r\n      <!-- 1000 -->\r\n      <g transform=\"translate(7.2 173.808029)scale(0.1 -0.1)\">\r\n       <use xlink:href=\"#DejaVuSans-31\"/>\r\n       <use x=\"63.623047\" xlink:href=\"#DejaVuSans-30\"/>\r\n       <use x=\"127.246094\" xlink:href=\"#DejaVuSans-30\"/>\r\n       <use x=\"190.869141\" xlink:href=\"#DejaVuSans-30\"/>\r\n      </g>\r\n     </g>\r\n    </g>\r\n    <g id=\"ytick_4\">\r\n     <g id=\"line2d_19\">\r\n      <path clip-path=\"url(#p290a72ad0a)\" d=\"M 39.65 135.134153 \r\nL 374.45 135.134153 \r\n\" style=\"fill:none;stroke:#b0b0b0;stroke-linecap:square;stroke-width:0.8;\"/>\r\n     </g>\r\n     <g id=\"line2d_20\">\r\n      <g>\r\n       <use style=\"stroke:#000000;stroke-width:0.8;\" x=\"39.65\" xlink:href=\"#me698796f6b\" y=\"135.134153\"/>\r\n      </g>\r\n     </g>\r\n     <g id=\"text_10\">\r\n      <!-- 1500 -->\r\n      <g transform=\"translate(7.2 138.933372)scale(0.1 -0.1)\">\r\n       <use xlink:href=\"#DejaVuSans-31\"/>\r\n       <use x=\"63.623047\" xlink:href=\"#DejaVuSans-35\"/>\r\n       <use x=\"127.246094\" xlink:href=\"#DejaVuSans-30\"/>\r\n       <use x=\"190.869141\" xlink:href=\"#DejaVuSans-30\"/>\r\n      </g>\r\n     </g>\r\n    </g>\r\n    <g id=\"ytick_5\">\r\n     <g id=\"line2d_21\">\r\n      <path clip-path=\"url(#p290a72ad0a)\" d=\"M 39.65 100.259496 \r\nL 374.45 100.259496 \r\n\" style=\"fill:none;stroke:#b0b0b0;stroke-linecap:square;stroke-width:0.8;\"/>\r\n     </g>\r\n     <g id=\"line2d_22\">\r\n      <g>\r\n       <use style=\"stroke:#000000;stroke-width:0.8;\" x=\"39.65\" xlink:href=\"#me698796f6b\" y=\"100.259496\"/>\r\n      </g>\r\n     </g>\r\n     <g id=\"text_11\">\r\n      <!-- 2000 -->\r\n      <g transform=\"translate(7.2 104.058715)scale(0.1 -0.1)\">\r\n       <use xlink:href=\"#DejaVuSans-32\"/>\r\n       <use x=\"63.623047\" xlink:href=\"#DejaVuSans-30\"/>\r\n       <use x=\"127.246094\" xlink:href=\"#DejaVuSans-30\"/>\r\n       <use x=\"190.869141\" xlink:href=\"#DejaVuSans-30\"/>\r\n      </g>\r\n     </g>\r\n    </g>\r\n    <g id=\"ytick_6\">\r\n     <g id=\"line2d_23\">\r\n      <path clip-path=\"url(#p290a72ad0a)\" d=\"M 39.65 65.384839 \r\nL 374.45 65.384839 \r\n\" style=\"fill:none;stroke:#b0b0b0;stroke-linecap:square;stroke-width:0.8;\"/>\r\n     </g>\r\n     <g id=\"line2d_24\">\r\n      <g>\r\n       <use style=\"stroke:#000000;stroke-width:0.8;\" x=\"39.65\" xlink:href=\"#me698796f6b\" y=\"65.384839\"/>\r\n      </g>\r\n     </g>\r\n     <g id=\"text_12\">\r\n      <!-- 2500 -->\r\n      <g transform=\"translate(7.2 69.184058)scale(0.1 -0.1)\">\r\n       <use xlink:href=\"#DejaVuSans-32\"/>\r\n       <use x=\"63.623047\" xlink:href=\"#DejaVuSans-35\"/>\r\n       <use x=\"127.246094\" xlink:href=\"#DejaVuSans-30\"/>\r\n       <use x=\"190.869141\" xlink:href=\"#DejaVuSans-30\"/>\r\n      </g>\r\n     </g>\r\n    </g>\r\n    <g id=\"ytick_7\">\r\n     <g id=\"line2d_25\">\r\n      <path clip-path=\"url(#p290a72ad0a)\" d=\"M 39.65 30.510182 \r\nL 374.45 30.510182 \r\n\" style=\"fill:none;stroke:#b0b0b0;stroke-linecap:square;stroke-width:0.8;\"/>\r\n     </g>\r\n     <g id=\"line2d_26\">\r\n      <g>\r\n       <use style=\"stroke:#000000;stroke-width:0.8;\" x=\"39.65\" xlink:href=\"#me698796f6b\" y=\"30.510182\"/>\r\n      </g>\r\n     </g>\r\n     <g id=\"text_13\">\r\n      <!-- 3000 -->\r\n      <g transform=\"translate(7.2 34.309401)scale(0.1 -0.1)\">\r\n       <use xlink:href=\"#DejaVuSans-33\"/>\r\n       <use x=\"63.623047\" xlink:href=\"#DejaVuSans-30\"/>\r\n       <use x=\"127.246094\" xlink:href=\"#DejaVuSans-30\"/>\r\n       <use x=\"190.869141\" xlink:href=\"#DejaVuSans-30\"/>\r\n      </g>\r\n     </g>\r\n    </g>\r\n   </g>\r\n   <g id=\"patch_13\">\r\n    <path d=\"M 39.65 239.758125 \r\nL 39.65 22.318125 \r\n\" style=\"fill:none;stroke:#000000;stroke-linecap:square;stroke-linejoin:miter;stroke-width:0.8;\"/>\r\n   </g>\r\n   <g id=\"patch_14\">\r\n    <path d=\"M 374.45 239.758125 \r\nL 374.45 22.318125 \r\n\" style=\"fill:none;stroke:#000000;stroke-linecap:square;stroke-linejoin:miter;stroke-width:0.8;\"/>\r\n   </g>\r\n   <g id=\"patch_15\">\r\n    <path d=\"M 39.65 239.758125 \r\nL 374.45 239.758125 \r\n\" style=\"fill:none;stroke:#000000;stroke-linecap:square;stroke-linejoin:miter;stroke-width:0.8;\"/>\r\n   </g>\r\n   <g id=\"patch_16\">\r\n    <path d=\"M 39.65 22.318125 \r\nL 374.45 22.318125 \r\n\" style=\"fill:none;stroke:#000000;stroke-linecap:square;stroke-linejoin:miter;stroke-width:0.8;\"/>\r\n   </g>\r\n   <g id=\"text_14\">\r\n    <!-- inf num -->\r\n    <defs>\r\n     <path d=\"M 9.421875 54.6875 \r\nL 18.40625 54.6875 \r\nL 18.40625 0 \r\nL 9.421875 0 \r\nz\r\nM 9.421875 75.984375 \r\nL 18.40625 75.984375 \r\nL 18.40625 64.59375 \r\nL 9.421875 64.59375 \r\nz\r\n\" id=\"DejaVuSans-69\"/>\r\n     <path d=\"M 54.890625 33.015625 \r\nL 54.890625 0 \r\nL 45.90625 0 \r\nL 45.90625 32.71875 \r\nQ 45.90625 40.484375 42.875 44.328125 \r\nQ 39.84375 48.1875 33.796875 48.1875 \r\nQ 26.515625 48.1875 22.3125 43.546875 \r\nQ 18.109375 38.921875 18.109375 30.90625 \r\nL 18.109375 0 \r\nL 9.078125 0 \r\nL 9.078125 54.6875 \r\nL 18.109375 54.6875 \r\nL 18.109375 46.1875 \r\nQ 21.34375 51.125 25.703125 53.5625 \r\nQ 30.078125 56 35.796875 56 \r\nQ 45.21875 56 50.046875 50.171875 \r\nQ 54.890625 44.34375 54.890625 33.015625 \r\nz\r\n\" id=\"DejaVuSans-6e\"/>\r\n     <path d=\"M 37.109375 75.984375 \r\nL 37.109375 68.5 \r\nL 28.515625 68.5 \r\nQ 23.6875 68.5 21.796875 66.546875 \r\nQ 19.921875 64.59375 19.921875 59.515625 \r\nL 19.921875 54.6875 \r\nL 34.71875 54.6875 \r\nL 34.71875 47.703125 \r\nL 19.921875 47.703125 \r\nL 19.921875 0 \r\nL 10.890625 0 \r\nL 10.890625 47.703125 \r\nL 2.296875 47.703125 \r\nL 2.296875 54.6875 \r\nL 10.890625 54.6875 \r\nL 10.890625 58.5 \r\nQ 10.890625 67.625 15.140625 71.796875 \r\nQ 19.390625 75.984375 28.609375 75.984375 \r\nz\r\n\" id=\"DejaVuSans-66\"/>\r\n     <path id=\"DejaVuSans-20\"/>\r\n     <path d=\"M 8.5 21.578125 \r\nL 8.5 54.6875 \r\nL 17.484375 54.6875 \r\nL 17.484375 21.921875 \r\nQ 17.484375 14.15625 20.5 10.265625 \r\nQ 23.53125 6.390625 29.59375 6.390625 \r\nQ 36.859375 6.390625 41.078125 11.03125 \r\nQ 45.3125 15.671875 45.3125 23.6875 \r\nL 45.3125 54.6875 \r\nL 54.296875 54.6875 \r\nL 54.296875 0 \r\nL 45.3125 0 \r\nL 45.3125 8.40625 \r\nQ 42.046875 3.421875 37.71875 1 \r\nQ 33.40625 -1.421875 27.6875 -1.421875 \r\nQ 18.265625 -1.421875 13.375 4.4375 \r\nQ 8.5 10.296875 8.5 21.578125 \r\nz\r\nM 31.109375 56 \r\nz\r\n\" id=\"DejaVuSans-75\"/>\r\n     <path d=\"M 52 44.1875 \r\nQ 55.375 50.25 60.0625 53.125 \r\nQ 64.75 56 71.09375 56 \r\nQ 79.640625 56 84.28125 50.015625 \r\nQ 88.921875 44.046875 88.921875 33.015625 \r\nL 88.921875 0 \r\nL 79.890625 0 \r\nL 79.890625 32.71875 \r\nQ 79.890625 40.578125 77.09375 44.375 \r\nQ 74.3125 48.1875 68.609375 48.1875 \r\nQ 61.625 48.1875 57.5625 43.546875 \r\nQ 53.515625 38.921875 53.515625 30.90625 \r\nL 53.515625 0 \r\nL 44.484375 0 \r\nL 44.484375 32.71875 \r\nQ 44.484375 40.625 41.703125 44.40625 \r\nQ 38.921875 48.1875 33.109375 48.1875 \r\nQ 26.21875 48.1875 22.15625 43.53125 \r\nQ 18.109375 38.875 18.109375 30.90625 \r\nL 18.109375 0 \r\nL 9.078125 0 \r\nL 9.078125 54.6875 \r\nL 18.109375 54.6875 \r\nL 18.109375 46.1875 \r\nQ 21.1875 51.21875 25.484375 53.609375 \r\nQ 29.78125 56 35.6875 56 \r\nQ 41.65625 56 45.828125 52.96875 \r\nQ 50 49.953125 52 44.1875 \r\nz\r\n\" id=\"DejaVuSans-6d\"/>\r\n    </defs>\r\n    <g transform=\"translate(184.112188 16.318125)scale(0.12 -0.12)\">\r\n     <use xlink:href=\"#DejaVuSans-69\"/>\r\n     <use x=\"27.783203\" xlink:href=\"#DejaVuSans-6e\"/>\r\n     <use x=\"91.162109\" xlink:href=\"#DejaVuSans-66\"/>\r\n     <use x=\"126.367188\" xlink:href=\"#DejaVuSans-20\"/>\r\n     <use x=\"158.154297\" xlink:href=\"#DejaVuSans-6e\"/>\r\n     <use x=\"221.533203\" xlink:href=\"#DejaVuSans-75\"/>\r\n     <use x=\"284.912109\" xlink:href=\"#DejaVuSans-6d\"/>\r\n    </g>\r\n   </g>\r\n  </g>\r\n </g>\r\n <defs>\r\n  <clipPath id=\"p290a72ad0a\">\r\n   <rect height=\"217.44\" width=\"334.8\" x=\"39.65\" y=\"22.318125\"/>\r\n  </clipPath>\r\n </defs>\r\n</svg>\r\n",
      "image/png": "[encoded data removed]"
     },
     "metadata": {
      "needs_background": "light"
     }
    }
   ],
   "source": [
    "same_num_df[same_num_df['inf num']<50].hist()"
   ]
  },
  {
   "cell_type": "code",
   "execution_count": null,
   "metadata": {},
   "outputs": [],
   "source": []
  },
  {
   "cell_type": "code",
   "execution_count": null,
   "metadata": {},
   "outputs": [],
   "source": []
  },
  {
   "cell_type": "code",
   "execution_count": 209,
   "metadata": {},
   "outputs": [
    {
     "output_type": "execute_result",
     "data": {
      "text/plain": [
       "   Unnamed: 0  dynamic influencers value\n",
       "0      754032                3988.935218\n",
       "1       66915                2770.020897\n",
       "2      894465                2224.327327\n",
       "3      120521                1930.431737\n",
       "4      180228                1592.968769"
      ],
      "text/html": "<div>\n<style scoped>\n    .dataframe tbody tr th:only-of-type {\n        vertical-align: middle;\n    }\n\n    .dataframe tbody tr th {\n        vertical-align: top;\n    }\n\n    .dataframe thead th {\n        text-align: right;\n    }\n</style>\n<table border=\"1\" class=\"dataframe\">\n  <thead>\n    <tr style=\"text-align: right;\">\n      <th></th>\n      <th>Unnamed: 0</th>\n      <th>dynamic influencers value</th>\n    </tr>\n  </thead>\n  <tbody>\n    <tr>\n      <th>0</th>\n      <td>754032</td>\n      <td>3988.935218</td>\n    </tr>\n    <tr>\n      <th>1</th>\n      <td>66915</td>\n      <td>2770.020897</td>\n    </tr>\n    <tr>\n      <th>2</th>\n      <td>894465</td>\n      <td>2224.327327</td>\n    </tr>\n    <tr>\n      <th>3</th>\n      <td>120521</td>\n      <td>1930.431737</td>\n    </tr>\n    <tr>\n      <th>4</th>\n      <td>180228</td>\n      <td>1592.968769</td>\n    </tr>\n  </tbody>\n</table>\n</div>"
     },
     "metadata": {},
     "execution_count": 209
    }
   ],
   "source": [
    "dyn_value.head()"
   ]
  },
  {
   "cell_type": "code",
   "execution_count": 210,
   "metadata": {},
   "outputs": [],
   "source": [
    "dyn_value['dynamic influencers value']=dyn_value['dynamic influencers value']/10"
   ]
  },
  {
   "cell_type": "code",
   "execution_count": 215,
   "metadata": {},
   "outputs": [
    {
     "output_type": "execute_result",
     "data": {
      "text/plain": [
       "<matplotlib.axes._subplots.AxesSubplot at 0x2d9fd6d42e8>"
      ]
     },
     "metadata": {},
     "execution_count": 215
    },
    {
     "output_type": "display_data",
     "data": {
      "text/plain": "<Figure size 432x288 with 1 Axes>",
      "image/svg+xml": "<?xml version=\"1.0\" encoding=\"utf-8\" standalone=\"no\"?>\r\n<!DOCTYPE svg PUBLIC \"-//W3C//DTD SVG 1.1//EN\"\r\n  \"http://www.w3.org/Graphics/SVG/1.1/DTD/svg11.dtd\">\r\n<!-- Created with matplotlib (http://matplotlib.org/) -->\r\n<svg height=\"252.018125pt\" version=\"1.1\" viewBox=\"0 0 385.15 252.018125\" width=\"385.15pt\" xmlns=\"http://www.w3.org/2000/svg\" xmlns:xlink=\"http://www.w3.org/1999/xlink\">\r\n <defs>\r\n  <style type=\"text/css\">\r\n*{stroke-linecap:butt;stroke-linejoin:round;}\r\n  </style>\r\n </defs>\r\n <g id=\"figure_1\">\r\n  <g id=\"patch_1\">\r\n   <path d=\"M -0 252.018125 \r\nL 385.15 252.018125 \r\nL 385.15 0 \r\nL -0 0 \r\nz\r\n\" style=\"fill:none;\"/>\r\n  </g>\r\n  <g id=\"axes_1\">\r\n   <g id=\"patch_2\">\r\n    <path d=\"M 39.65 228.14 \r\nL 374.45 228.14 \r\nL 374.45 10.7 \r\nL 39.65 10.7 \r\nz\r\n\" style=\"fill:#ffffff;\"/>\r\n   </g>\r\n   <g id=\"patch_3\">\r\n    <path clip-path=\"url(#pd9f7d96f09)\" d=\"M 54.868182 228.14 \r\nL 85.304545 228.14 \r\nL 85.304545 21.054286 \r\nL 54.868182 21.054286 \r\nz\r\n\" style=\"fill:#1f77b4;\"/>\r\n   </g>\r\n   <g id=\"patch_4\">\r\n    <path clip-path=\"url(#pd9f7d96f09)\" d=\"M 85.304545 228.14 \r\nL 115.740909 228.14 \r\nL 115.740909 206.937298 \r\nL 85.304545 206.937298 \r\nz\r\n\" style=\"fill:#1f77b4;\"/>\r\n   </g>\r\n   <g id=\"patch_5\">\r\n    <path clip-path=\"url(#pd9f7d96f09)\" d=\"M 115.740909 228.14 \r\nL 146.177273 228.14 \r\nL 146.177273 220.728038 \r\nL 115.740909 220.728038 \r\nz\r\n\" style=\"fill:#1f77b4;\"/>\r\n   </g>\r\n   <g id=\"patch_6\">\r\n    <path clip-path=\"url(#pd9f7d96f09)\" d=\"M 146.177273 228.14 \r\nL 176.613636 228.14 \r\nL 176.613636 223.602981 \r\nL 146.177273 223.602981 \r\nz\r\n\" style=\"fill:#1f77b4;\"/>\r\n   </g>\r\n   <g id=\"patch_7\">\r\n    <path clip-path=\"url(#pd9f7d96f09)\" d=\"M 176.613636 228.14 \r\nL 207.05 228.14 \r\nL 207.05 225.040452 \r\nL 176.613636 225.040452 \r\nz\r\n\" style=\"fill:#1f77b4;\"/>\r\n   </g>\r\n   <g id=\"patch_8\">\r\n    <path clip-path=\"url(#pd9f7d96f09)\" d=\"M 207.05 228.14 \r\nL 237.486364 228.14 \r\nL 237.486364 226.163477 \r\nL 207.05 226.163477 \r\nz\r\n\" style=\"fill:#1f77b4;\"/>\r\n   </g>\r\n   <g id=\"patch_9\">\r\n    <path clip-path=\"url(#pd9f7d96f09)\" d=\"M 237.486364 228.14 \r\nL 267.922727 228.14 \r\nL 267.922727 226.927134 \r\nL 237.486364 226.927134 \r\nz\r\n\" style=\"fill:#1f77b4;\"/>\r\n   </g>\r\n   <g id=\"patch_10\">\r\n    <path clip-path=\"url(#pd9f7d96f09)\" d=\"M 267.922727 228.14 \r\nL 298.359091 228.14 \r\nL 298.359091 227.196659 \r\nL 267.922727 227.196659 \r\nz\r\n\" style=\"fill:#1f77b4;\"/>\r\n   </g>\r\n   <g id=\"patch_11\">\r\n    <path clip-path=\"url(#pd9f7d96f09)\" d=\"M 298.359091 228.14 \r\nL 328.795455 228.14 \r\nL 328.795455 227.511106 \r\nL 298.359091 227.511106 \r\nz\r\n\" style=\"fill:#1f77b4;\"/>\r\n   </g>\r\n   <g id=\"patch_12\">\r\n    <path clip-path=\"url(#pd9f7d96f09)\" d=\"M 328.795455 228.14 \r\nL 359.231818 228.14 \r\nL 359.231818 227.466185 \r\nL 328.795455 227.466185 \r\nz\r\n\" style=\"fill:#1f77b4;\"/>\r\n   </g>\r\n   <g id=\"matplotlib.axis_1\">\r\n    <g id=\"xtick_1\">\r\n     <g id=\"line2d_1\">\r\n      <path clip-path=\"url(#pd9f7d96f09)\" d=\"M 54.868182 228.14 \r\nL 54.868182 10.7 \r\n\" style=\"fill:none;stroke:#b0b0b0;stroke-linecap:square;stroke-width:0.8;\"/>\r\n     </g>\r\n     <g id=\"line2d_2\">\r\n      <defs>\r\n       <path d=\"M 0 0 \r\nL 0 3.5 \r\n\" id=\"ma8471db92d\" style=\"stroke:#000000;stroke-width:0.8;\"/>\r\n      </defs>\r\n      <g>\r\n       <use style=\"stroke:#000000;stroke-width:0.8;\" x=\"54.868182\" xlink:href=\"#ma8471db92d\" y=\"228.14\"/>\r\n      </g>\r\n     </g>\r\n     <g id=\"text_1\">\r\n      <!-- 0 -->\r\n      <defs>\r\n       <path d=\"M 31.78125 66.40625 \r\nQ 24.171875 66.40625 20.328125 58.90625 \r\nQ 16.5 51.421875 16.5 36.375 \r\nQ 16.5 21.390625 20.328125 13.890625 \r\nQ 24.171875 6.390625 31.78125 6.390625 \r\nQ 39.453125 6.390625 43.28125 13.890625 \r\nQ 47.125 21.390625 47.125 36.375 \r\nQ 47.125 51.421875 43.28125 58.90625 \r\nQ 39.453125 66.40625 31.78125 66.40625 \r\nz\r\nM 31.78125 74.21875 \r\nQ 44.046875 74.21875 50.515625 64.515625 \r\nQ 56.984375 54.828125 56.984375 36.375 \r\nQ 56.984375 17.96875 50.515625 8.265625 \r\nQ 44.046875 -1.421875 31.78125 -1.421875 \r\nQ 19.53125 -1.421875 13.0625 8.265625 \r\nQ 6.59375 17.96875 6.59375 36.375 \r\nQ 6.59375 54.828125 13.0625 64.515625 \r\nQ 19.53125 74.21875 31.78125 74.21875 \r\nz\r\n\" id=\"DejaVuSans-30\"/>\r\n      </defs>\r\n      <g transform=\"translate(51.686932 242.738437)scale(0.1 -0.1)\">\r\n       <use xlink:href=\"#DejaVuSans-30\"/>\r\n      </g>\r\n     </g>\r\n    </g>\r\n    <g id=\"xtick_2\">\r\n     <g id=\"line2d_3\">\r\n      <path clip-path=\"url(#pd9f7d96f09)\" d=\"M 116.821299 228.14 \r\nL 116.821299 10.7 \r\n\" style=\"fill:none;stroke:#b0b0b0;stroke-linecap:square;stroke-width:0.8;\"/>\r\n     </g>\r\n     <g id=\"line2d_4\">\r\n      <g>\r\n       <use style=\"stroke:#000000;stroke-width:0.8;\" x=\"116.821299\" xlink:href=\"#ma8471db92d\" y=\"228.14\"/>\r\n      </g>\r\n     </g>\r\n     <g id=\"text_2\">\r\n      <!-- 10 -->\r\n      <defs>\r\n       <path d=\"M 12.40625 8.296875 \r\nL 28.515625 8.296875 \r\nL 28.515625 63.921875 \r\nL 10.984375 60.40625 \r\nL 10.984375 69.390625 \r\nL 28.421875 72.90625 \r\nL 38.28125 72.90625 \r\nL 38.28125 8.296875 \r\nL 54.390625 8.296875 \r\nL 54.390625 0 \r\nL 12.40625 0 \r\nz\r\n\" id=\"DejaVuSans-31\"/>\r\n      </defs>\r\n      <g transform=\"translate(110.458799 242.738437)scale(0.1 -0.1)\">\r\n       <use xlink:href=\"#DejaVuSans-31\"/>\r\n       <use x=\"63.623047\" xlink:href=\"#DejaVuSans-30\"/>\r\n      </g>\r\n     </g>\r\n    </g>\r\n    <g id=\"xtick_3\">\r\n     <g id=\"line2d_5\">\r\n      <path clip-path=\"url(#pd9f7d96f09)\" d=\"M 178.774417 228.14 \r\nL 178.774417 10.7 \r\n\" style=\"fill:none;stroke:#b0b0b0;stroke-linecap:square;stroke-width:0.8;\"/>\r\n     </g>\r\n     <g id=\"line2d_6\">\r\n      <g>\r\n       <use style=\"stroke:#000000;stroke-width:0.8;\" x=\"178.774417\" xlink:href=\"#ma8471db92d\" y=\"228.14\"/>\r\n      </g>\r\n     </g>\r\n     <g id=\"text_3\">\r\n      <!-- 20 -->\r\n      <defs>\r\n       <path d=\"M 19.1875 8.296875 \r\nL 53.609375 8.296875 \r\nL 53.609375 0 \r\nL 7.328125 0 \r\nL 7.328125 8.296875 \r\nQ 12.9375 14.109375 22.625 23.890625 \r\nQ 32.328125 33.6875 34.8125 36.53125 \r\nQ 39.546875 41.84375 41.421875 45.53125 \r\nQ 43.3125 49.21875 43.3125 52.78125 \r\nQ 43.3125 58.59375 39.234375 62.25 \r\nQ 35.15625 65.921875 28.609375 65.921875 \r\nQ 23.96875 65.921875 18.8125 64.3125 \r\nQ 13.671875 62.703125 7.8125 59.421875 \r\nL 7.8125 69.390625 \r\nQ 13.765625 71.78125 18.9375 73 \r\nQ 24.125 74.21875 28.421875 74.21875 \r\nQ 39.75 74.21875 46.484375 68.546875 \r\nQ 53.21875 62.890625 53.21875 53.421875 \r\nQ 53.21875 48.921875 51.53125 44.890625 \r\nQ 49.859375 40.875 45.40625 35.40625 \r\nQ 44.1875 33.984375 37.640625 27.21875 \r\nQ 31.109375 20.453125 19.1875 8.296875 \r\nz\r\n\" id=\"DejaVuSans-32\"/>\r\n      </defs>\r\n      <g transform=\"translate(172.411917 242.738437)scale(0.1 -0.1)\">\r\n       <use xlink:href=\"#DejaVuSans-32\"/>\r\n       <use x=\"63.623047\" xlink:href=\"#DejaVuSans-30\"/>\r\n      </g>\r\n     </g>\r\n    </g>\r\n    <g id=\"xtick_4\">\r\n     <g id=\"line2d_7\">\r\n      <path clip-path=\"url(#pd9f7d96f09)\" d=\"M 240.727535 228.14 \r\nL 240.727535 10.7 \r\n\" style=\"fill:none;stroke:#b0b0b0;stroke-linecap:square;stroke-width:0.8;\"/>\r\n     </g>\r\n     <g id=\"line2d_8\">\r\n      <g>\r\n       <use style=\"stroke:#000000;stroke-width:0.8;\" x=\"240.727535\" xlink:href=\"#ma8471db92d\" y=\"228.14\"/>\r\n      </g>\r\n     </g>\r\n     <g id=\"text_4\">\r\n      <!-- 30 -->\r\n      <defs>\r\n       <path d=\"M 40.578125 39.3125 \r\nQ 47.65625 37.796875 51.625 33 \r\nQ 55.609375 28.21875 55.609375 21.1875 \r\nQ 55.609375 10.40625 48.1875 4.484375 \r\nQ 40.765625 -1.421875 27.09375 -1.421875 \r\nQ 22.515625 -1.421875 17.65625 -0.515625 \r\nQ 12.796875 0.390625 7.625 2.203125 \r\nL 7.625 11.71875 \r\nQ 11.71875 9.328125 16.59375 8.109375 \r\nQ 21.484375 6.890625 26.8125 6.890625 \r\nQ 36.078125 6.890625 40.9375 10.546875 \r\nQ 45.796875 14.203125 45.796875 21.1875 \r\nQ 45.796875 27.640625 41.28125 31.265625 \r\nQ 36.765625 34.90625 28.71875 34.90625 \r\nL 20.21875 34.90625 \r\nL 20.21875 43.015625 \r\nL 29.109375 43.015625 \r\nQ 36.375 43.015625 40.234375 45.921875 \r\nQ 44.09375 48.828125 44.09375 54.296875 \r\nQ 44.09375 59.90625 40.109375 62.90625 \r\nQ 36.140625 65.921875 28.71875 65.921875 \r\nQ 24.65625 65.921875 20.015625 65.03125 \r\nQ 15.375 64.15625 9.8125 62.3125 \r\nL 9.8125 71.09375 \r\nQ 15.4375 72.65625 20.34375 73.4375 \r\nQ 25.25 74.21875 29.59375 74.21875 \r\nQ 40.828125 74.21875 47.359375 69.109375 \r\nQ 53.90625 64.015625 53.90625 55.328125 \r\nQ 53.90625 49.265625 50.4375 45.09375 \r\nQ 46.96875 40.921875 40.578125 39.3125 \r\nz\r\n\" id=\"DejaVuSans-33\"/>\r\n      </defs>\r\n      <g transform=\"translate(234.365035 242.738437)scale(0.1 -0.1)\">\r\n       <use xlink:href=\"#DejaVuSans-33\"/>\r\n       <use x=\"63.623047\" xlink:href=\"#DejaVuSans-30\"/>\r\n      </g>\r\n     </g>\r\n    </g>\r\n    <g id=\"xtick_5\">\r\n     <g id=\"line2d_9\">\r\n      <path clip-path=\"url(#pd9f7d96f09)\" d=\"M 302.680652 228.14 \r\nL 302.680652 10.7 \r\n\" style=\"fill:none;stroke:#b0b0b0;stroke-linecap:square;stroke-width:0.8;\"/>\r\n     </g>\r\n     <g id=\"line2d_10\">\r\n      <g>\r\n       <use style=\"stroke:#000000;stroke-width:0.8;\" x=\"302.680652\" xlink:href=\"#ma8471db92d\" y=\"228.14\"/>\r\n      </g>\r\n     </g>\r\n     <g id=\"text_5\">\r\n      <!-- 40 -->\r\n      <defs>\r\n       <path d=\"M 37.796875 64.3125 \r\nL 12.890625 25.390625 \r\nL 37.796875 25.390625 \r\nz\r\nM 35.203125 72.90625 \r\nL 47.609375 72.90625 \r\nL 47.609375 25.390625 \r\nL 58.015625 25.390625 \r\nL 58.015625 17.1875 \r\nL 47.609375 17.1875 \r\nL 47.609375 0 \r\nL 37.796875 0 \r\nL 37.796875 17.1875 \r\nL 4.890625 17.1875 \r\nL 4.890625 26.703125 \r\nz\r\n\" id=\"DejaVuSans-34\"/>\r\n      </defs>\r\n      <g transform=\"translate(296.318152 242.738437)scale(0.1 -0.1)\">\r\n       <use xlink:href=\"#DejaVuSans-34\"/>\r\n       <use x=\"63.623047\" xlink:href=\"#DejaVuSans-30\"/>\r\n      </g>\r\n     </g>\r\n    </g>\r\n    <g id=\"xtick_6\">\r\n     <g id=\"line2d_11\">\r\n      <path clip-path=\"url(#pd9f7d96f09)\" d=\"M 364.63377 228.14 \r\nL 364.63377 10.7 \r\n\" style=\"fill:none;stroke:#b0b0b0;stroke-linecap:square;stroke-width:0.8;\"/>\r\n     </g>\r\n     <g id=\"line2d_12\">\r\n      <g>\r\n       <use style=\"stroke:#000000;stroke-width:0.8;\" x=\"364.63377\" xlink:href=\"#ma8471db92d\" y=\"228.14\"/>\r\n      </g>\r\n     </g>\r\n     <g id=\"text_6\">\r\n      <!-- 50 -->\r\n      <defs>\r\n       <path d=\"M 10.796875 72.90625 \r\nL 49.515625 72.90625 \r\nL 49.515625 64.59375 \r\nL 19.828125 64.59375 \r\nL 19.828125 46.734375 \r\nQ 21.96875 47.46875 24.109375 47.828125 \r\nQ 26.265625 48.1875 28.421875 48.1875 \r\nQ 40.625 48.1875 47.75 41.5 \r\nQ 54.890625 34.8125 54.890625 23.390625 \r\nQ 54.890625 11.625 47.5625 5.09375 \r\nQ 40.234375 -1.421875 26.90625 -1.421875 \r\nQ 22.3125 -1.421875 17.546875 -0.640625 \r\nQ 12.796875 0.140625 7.71875 1.703125 \r\nL 7.71875 11.625 \r\nQ 12.109375 9.234375 16.796875 8.0625 \r\nQ 21.484375 6.890625 26.703125 6.890625 \r\nQ 35.15625 6.890625 40.078125 11.328125 \r\nQ 45.015625 15.765625 45.015625 23.390625 \r\nQ 45.015625 31 40.078125 35.4375 \r\nQ 35.15625 39.890625 26.703125 39.890625 \r\nQ 22.75 39.890625 18.8125 39.015625 \r\nQ 14.890625 38.140625 10.796875 36.28125 \r\nz\r\n\" id=\"DejaVuSans-35\"/>\r\n      </defs>\r\n      <g transform=\"translate(358.27127 242.738437)scale(0.1 -0.1)\">\r\n       <use xlink:href=\"#DejaVuSans-35\"/>\r\n       <use x=\"63.623047\" xlink:href=\"#DejaVuSans-30\"/>\r\n      </g>\r\n     </g>\r\n    </g>\r\n   </g>\r\n   <g id=\"matplotlib.axis_2\">\r\n    <g id=\"ytick_1\">\r\n     <g id=\"line2d_13\">\r\n      <path clip-path=\"url(#pd9f7d96f09)\" d=\"M 39.65 228.14 \r\nL 374.45 228.14 \r\n\" style=\"fill:none;stroke:#b0b0b0;stroke-linecap:square;stroke-width:0.8;\"/>\r\n     </g>\r\n     <g id=\"line2d_14\">\r\n      <defs>\r\n       <path d=\"M 0 0 \r\nL -3.5 0 \r\n\" id=\"ma787da7e7f\" style=\"stroke:#000000;stroke-width:0.8;\"/>\r\n      </defs>\r\n      <g>\r\n       <use style=\"stroke:#000000;stroke-width:0.8;\" x=\"39.65\" xlink:href=\"#ma787da7e7f\" y=\"228.14\"/>\r\n      </g>\r\n     </g>\r\n     <g id=\"text_7\">\r\n      <!-- 0 -->\r\n      <g transform=\"translate(26.2875 231.939219)scale(0.1 -0.1)\">\r\n       <use xlink:href=\"#DejaVuSans-30\"/>\r\n      </g>\r\n     </g>\r\n    </g>\r\n    <g id=\"ytick_2\">\r\n     <g id=\"line2d_15\">\r\n      <path clip-path=\"url(#pd9f7d96f09)\" d=\"M 39.65 183.219021 \r\nL 374.45 183.219021 \r\n\" style=\"fill:none;stroke:#b0b0b0;stroke-linecap:square;stroke-width:0.8;\"/>\r\n     </g>\r\n     <g id=\"line2d_16\">\r\n      <g>\r\n       <use style=\"stroke:#000000;stroke-width:0.8;\" x=\"39.65\" xlink:href=\"#ma787da7e7f\" y=\"183.219021\"/>\r\n      </g>\r\n     </g>\r\n     <g id=\"text_8\">\r\n      <!-- 1000 -->\r\n      <g transform=\"translate(7.2 187.01824)scale(0.1 -0.1)\">\r\n       <use xlink:href=\"#DejaVuSans-31\"/>\r\n       <use x=\"63.623047\" xlink:href=\"#DejaVuSans-30\"/>\r\n       <use x=\"127.246094\" xlink:href=\"#DejaVuSans-30\"/>\r\n       <use x=\"190.869141\" xlink:href=\"#DejaVuSans-30\"/>\r\n      </g>\r\n     </g>\r\n    </g>\r\n    <g id=\"ytick_3\">\r\n     <g id=\"line2d_17\">\r\n      <path clip-path=\"url(#pd9f7d96f09)\" d=\"M 39.65 138.298042 \r\nL 374.45 138.298042 \r\n\" style=\"fill:none;stroke:#b0b0b0;stroke-linecap:square;stroke-width:0.8;\"/>\r\n     </g>\r\n     <g id=\"line2d_18\">\r\n      <g>\r\n       <use style=\"stroke:#000000;stroke-width:0.8;\" x=\"39.65\" xlink:href=\"#ma787da7e7f\" y=\"138.298042\"/>\r\n      </g>\r\n     </g>\r\n     <g id=\"text_9\">\r\n      <!-- 2000 -->\r\n      <g transform=\"translate(7.2 142.09726)scale(0.1 -0.1)\">\r\n       <use xlink:href=\"#DejaVuSans-32\"/>\r\n       <use x=\"63.623047\" xlink:href=\"#DejaVuSans-30\"/>\r\n       <use x=\"127.246094\" xlink:href=\"#DejaVuSans-30\"/>\r\n       <use x=\"190.869141\" xlink:href=\"#DejaVuSans-30\"/>\r\n      </g>\r\n     </g>\r\n    </g>\r\n    <g id=\"ytick_4\">\r\n     <g id=\"line2d_19\">\r\n      <path clip-path=\"url(#pd9f7d96f09)\" d=\"M 39.65 93.377062 \r\nL 374.45 93.377062 \r\n\" style=\"fill:none;stroke:#b0b0b0;stroke-linecap:square;stroke-width:0.8;\"/>\r\n     </g>\r\n     <g id=\"line2d_20\">\r\n      <g>\r\n       <use style=\"stroke:#000000;stroke-width:0.8;\" x=\"39.65\" xlink:href=\"#ma787da7e7f\" y=\"93.377062\"/>\r\n      </g>\r\n     </g>\r\n     <g id=\"text_10\">\r\n      <!-- 3000 -->\r\n      <g transform=\"translate(7.2 97.176281)scale(0.1 -0.1)\">\r\n       <use xlink:href=\"#DejaVuSans-33\"/>\r\n       <use x=\"63.623047\" xlink:href=\"#DejaVuSans-30\"/>\r\n       <use x=\"127.246094\" xlink:href=\"#DejaVuSans-30\"/>\r\n       <use x=\"190.869141\" xlink:href=\"#DejaVuSans-30\"/>\r\n      </g>\r\n     </g>\r\n    </g>\r\n    <g id=\"ytick_5\">\r\n     <g id=\"line2d_21\">\r\n      <path clip-path=\"url(#pd9f7d96f09)\" d=\"M 39.65 48.456083 \r\nL 374.45 48.456083 \r\n\" style=\"fill:none;stroke:#b0b0b0;stroke-linecap:square;stroke-width:0.8;\"/>\r\n     </g>\r\n     <g id=\"line2d_22\">\r\n      <g>\r\n       <use style=\"stroke:#000000;stroke-width:0.8;\" x=\"39.65\" xlink:href=\"#ma787da7e7f\" y=\"48.456083\"/>\r\n      </g>\r\n     </g>\r\n     <g id=\"text_11\">\r\n      <!-- 4000 -->\r\n      <g transform=\"translate(7.2 52.255302)scale(0.1 -0.1)\">\r\n       <use xlink:href=\"#DejaVuSans-34\"/>\r\n       <use x=\"63.623047\" xlink:href=\"#DejaVuSans-30\"/>\r\n       <use x=\"127.246094\" xlink:href=\"#DejaVuSans-30\"/>\r\n       <use x=\"190.869141\" xlink:href=\"#DejaVuSans-30\"/>\r\n      </g>\r\n     </g>\r\n    </g>\r\n   </g>\r\n   <g id=\"patch_13\">\r\n    <path d=\"M 39.65 228.14 \r\nL 39.65 10.7 \r\n\" style=\"fill:none;stroke:#000000;stroke-linecap:square;stroke-linejoin:miter;stroke-width:0.8;\"/>\r\n   </g>\r\n   <g id=\"patch_14\">\r\n    <path d=\"M 374.45 228.14 \r\nL 374.45 10.7 \r\n\" style=\"fill:none;stroke:#000000;stroke-linecap:square;stroke-linejoin:miter;stroke-width:0.8;\"/>\r\n   </g>\r\n   <g id=\"patch_15\">\r\n    <path d=\"M 39.65 228.14 \r\nL 374.45 228.14 \r\n\" style=\"fill:none;stroke:#000000;stroke-linecap:square;stroke-linejoin:miter;stroke-width:0.8;\"/>\r\n   </g>\r\n   <g id=\"patch_16\">\r\n    <path d=\"M 39.65 10.7 \r\nL 374.45 10.7 \r\n\" style=\"fill:none;stroke:#000000;stroke-linecap:square;stroke-linejoin:miter;stroke-width:0.8;\"/>\r\n   </g>\r\n  </g>\r\n </g>\r\n <defs>\r\n  <clipPath id=\"pd9f7d96f09\">\r\n   <rect height=\"217.44\" width=\"334.8\" x=\"39.65\" y=\"10.7\"/>\r\n  </clipPath>\r\n </defs>\r\n</svg>\r\n",
      "image/png": "[encoded data removed]"
     },
     "metadata": {
      "needs_background": "light"
     }
    }
   ],
   "source": [
    "dyn_value[dyn_value['dynamic influencers value']<50]['dynamic influencers value'].hist()"
   ]
  },
  {
   "cell_type": "code",
   "execution_count": null,
   "metadata": {},
   "outputs": [],
   "source": []
  },
  {
   "cell_type": "code",
   "execution_count": null,
   "metadata": {},
   "outputs": [],
   "source": []
  },
  {
   "cell_type": "code",
   "execution_count": 89,
   "metadata": {},
   "outputs": [],
   "source": [
    "dyn_inf_df=pd.DataFrame(pd.Series(dyn_inf_val),columns=['dynamic influencers value'])"
   ]
  },
  {
   "cell_type": "code",
   "execution_count": 91,
   "metadata": {},
   "outputs": [],
   "source": [
    "dyn_inf_df.to_csv('dynamic influencers value.csv')"
   ]
  },
  {
   "cell_type": "code",
   "execution_count": 92,
   "metadata": {},
   "outputs": [],
   "source": [
    "dyn_value=pd.read_csv('dynamic influencers value.csv')"
   ]
  },
  {
   "cell_type": "code",
   "execution_count": 146,
   "metadata": {},
   "outputs": [],
   "source": [
    "top1000_dyn_id=dyn_value.loc[:,'Unnamed: 0'].values[:1000]#dynamic influencers value前100的"
   ]
  },
  {
   "cell_type": "code",
   "execution_count": 98,
   "metadata": {},
   "outputs": [],
   "source": [
    "full=pd.read_csv('../problem3 data/full_music plus geners.csv')"
   ]
  },
  {
   "cell_type": "code",
   "execution_count": 99,
   "metadata": {},
   "outputs": [
    {
     "output_type": "execute_result",
     "data": {
      "text/plain": [
       "   Unnamed: 0           artist_names  artists_id  danceability  energy  \\\n",
       "0           0  [\"Fat Freddy's Drop\"]      178301         0.600   0.365   \n",
       "1           1  [\"Fat Freddy's Drop\"]      178301         0.874   0.326   \n",
       "2           2  [\"Fat Freddy's Drop\"]      178301         0.670   0.531   \n",
       "3           3   [\"Alexander O'Neal\"]      625201         0.761   0.702   \n",
       "4           4   [\"Alexander O'Neal\"]      625201         0.661   0.828   \n",
       "\n",
       "   valence    tempo  loudness  mode  key  ...   instrumentalness  liveness  \\\n",
       "0    0.131  130.046   -13.083     0    9  ...           0.585000    0.0921   \n",
       "1    0.179  119.620   -13.302     0   11  ...           0.148000    0.0993   \n",
       "2    0.336  139.385    -8.267     0    9  ...           0.345000    0.3060   \n",
       "3    0.850  104.773    -8.523     1    7  ...           0.000031    0.0935   \n",
       "4    0.902  115.078   -12.673     0   11  ...           0.000001    0.2870   \n",
       "\n",
       "   speechiness  explicit  duration_ms  popularity  year  release_date  \\\n",
       "0       0.0498         0       437200          54  2005          2005   \n",
       "1       0.1310         0       581008          53  2005          2005   \n",
       "2       0.0377         0       431293          55  2009      8/7/2009   \n",
       "3       0.0389         0       304427          34  1991      1/1/1991   \n",
       "4       0.0390         0       264933          37  1987     7/29/1987   \n",
       "\n",
       "                  song_title (censored) genre  \n",
       "0                                 Ernie   NaN  \n",
       "1                         Wandering Eye   NaN  \n",
       "2                              The Raft   NaN  \n",
       "3                          All True Man  R&B;  \n",
       "4  (What Can I Say) To Make You Love Me  R&B;  \n",
       "\n",
       "[5 rows x 21 columns]"
      ],
      "text/html": "<div>\n<style scoped>\n    .dataframe tbody tr th:only-of-type {\n        vertical-align: middle;\n    }\n\n    .dataframe tbody tr th {\n        vertical-align: top;\n    }\n\n    .dataframe thead th {\n        text-align: right;\n    }\n</style>\n<table border=\"1\" class=\"dataframe\">\n  <thead>\n    <tr style=\"text-align: right;\">\n      <th></th>\n      <th>Unnamed: 0</th>\n      <th>artist_names</th>\n      <th>artists_id</th>\n      <th>danceability</th>\n      <th>energy</th>\n      <th>valence</th>\n      <th>tempo</th>\n      <th>loudness</th>\n      <th>mode</th>\n      <th>key</th>\n      <th>...</th>\n      <th>instrumentalness</th>\n      <th>liveness</th>\n      <th>speechiness</th>\n      <th>explicit</th>\n      <th>duration_ms</th>\n      <th>popularity</th>\n      <th>year</th>\n      <th>release_date</th>\n      <th>song_title (censored)</th>\n      <th>genre</th>\n    </tr>\n  </thead>\n  <tbody>\n    <tr>\n      <th>0</th>\n      <td>0</td>\n      <td>[\"Fat Freddy's Drop\"]</td>\n      <td>178301</td>\n      <td>0.600</td>\n      <td>0.365</td>\n      <td>0.131</td>\n      <td>130.046</td>\n      <td>-13.083</td>\n      <td>0</td>\n      <td>9</td>\n      <td>...</td>\n      <td>0.585000</td>\n      <td>0.0921</td>\n      <td>0.0498</td>\n      <td>0</td>\n      <td>437200</td>\n      <td>54</td>\n      <td>2005</td>\n      <td>2005</td>\n      <td>Ernie</td>\n      <td>NaN</td>\n    </tr>\n    <tr>\n      <th>1</th>\n      <td>1</td>\n      <td>[\"Fat Freddy's Drop\"]</td>\n      <td>178301</td>\n      <td>0.874</td>\n      <td>0.326</td>\n      <td>0.179</td>\n      <td>119.620</td>\n      <td>-13.302</td>\n      <td>0</td>\n      <td>11</td>\n      <td>...</td>\n      <td>0.148000</td>\n      <td>0.0993</td>\n      <td>0.1310</td>\n      <td>0</td>\n      <td>581008</td>\n      <td>53</td>\n      <td>2005</td>\n      <td>2005</td>\n      <td>Wandering Eye</td>\n      <td>NaN</td>\n    </tr>\n    <tr>\n      <th>2</th>\n      <td>2</td>\n      <td>[\"Fat Freddy's Drop\"]</td>\n      <td>178301</td>\n      <td>0.670</td>\n      <td>0.531</td>\n      <td>0.336</td>\n      <td>139.385</td>\n      <td>-8.267</td>\n      <td>0</td>\n      <td>9</td>\n      <td>...</td>\n      <td>0.345000</td>\n      <td>0.3060</td>\n      <td>0.0377</td>\n      <td>0</td>\n      <td>431293</td>\n      <td>55</td>\n      <td>2009</td>\n      <td>8/7/2009</td>\n      <td>The Raft</td>\n      <td>NaN</td>\n    </tr>\n    <tr>\n      <th>3</th>\n      <td>3</td>\n      <td>[\"Alexander O'Neal\"]</td>\n      <td>625201</td>\n      <td>0.761</td>\n      <td>0.702</td>\n      <td>0.850</td>\n      <td>104.773</td>\n      <td>-8.523</td>\n      <td>1</td>\n      <td>7</td>\n      <td>...</td>\n      <td>0.000031</td>\n      <td>0.0935</td>\n      <td>0.0389</td>\n      <td>0</td>\n      <td>304427</td>\n      <td>34</td>\n      <td>1991</td>\n      <td>1/1/1991</td>\n      <td>All True Man</td>\n      <td>R&amp;B;</td>\n    </tr>\n    <tr>\n      <th>4</th>\n      <td>4</td>\n      <td>[\"Alexander O'Neal\"]</td>\n      <td>625201</td>\n      <td>0.661</td>\n      <td>0.828</td>\n      <td>0.902</td>\n      <td>115.078</td>\n      <td>-12.673</td>\n      <td>0</td>\n      <td>11</td>\n      <td>...</td>\n      <td>0.000001</td>\n      <td>0.2870</td>\n      <td>0.0390</td>\n      <td>0</td>\n      <td>264933</td>\n      <td>37</td>\n      <td>1987</td>\n      <td>7/29/1987</td>\n      <td>(What Can I Say) To Make You Love Me</td>\n      <td>R&amp;B;</td>\n    </tr>\n  </tbody>\n</table>\n<p>5 rows × 21 columns</p>\n</div>"
     },
     "metadata": {},
     "execution_count": 99
    }
   ],
   "source": [
    "full.head()"
   ]
  },
  {
   "cell_type": "code",
   "execution_count": 108,
   "metadata": {},
   "outputs": [
    {
     "output_type": "execute_result",
     "data": {
      "text/plain": [
       "Empty DataFrame\n",
       "Columns: [Unnamed: 0, artist_names, artists_id, danceability, energy, valence, tempo, loudness, mode, key, acousticness, instrumentalness, liveness, speechiness, explicit, duration_ms, popularity, year, release_date, song_title (censored), genre]\n",
       "Index: []\n",
       "\n",
       "[0 rows x 21 columns]"
      ],
      "text/html": "<div>\n<style scoped>\n    .dataframe tbody tr th:only-of-type {\n        vertical-align: middle;\n    }\n\n    .dataframe tbody tr th {\n        vertical-align: top;\n    }\n\n    .dataframe thead th {\n        text-align: right;\n    }\n</style>\n<table border=\"1\" class=\"dataframe\">\n  <thead>\n    <tr style=\"text-align: right;\">\n      <th></th>\n      <th>Unnamed: 0</th>\n      <th>artist_names</th>\n      <th>artists_id</th>\n      <th>danceability</th>\n      <th>energy</th>\n      <th>valence</th>\n      <th>tempo</th>\n      <th>loudness</th>\n      <th>mode</th>\n      <th>key</th>\n      <th>...</th>\n      <th>instrumentalness</th>\n      <th>liveness</th>\n      <th>speechiness</th>\n      <th>explicit</th>\n      <th>duration_ms</th>\n      <th>popularity</th>\n      <th>year</th>\n      <th>release_date</th>\n      <th>song_title (censored)</th>\n      <th>genre</th>\n    </tr>\n  </thead>\n  <tbody>\n  </tbody>\n</table>\n<p>0 rows × 21 columns</p>\n</div>"
     },
     "metadata": {},
     "execution_count": 108
    }
   ],
   "source": [
    "full[full['artists_id']==792953]"
   ]
  },
  {
   "cell_type": "code",
   "execution_count": 148,
   "metadata": {},
   "outputs": [],
   "source": [
    "top1000_dyn_id=np.delete(top1000_dyn_id,60)"
   ]
  },
  {
   "cell_type": "code",
   "execution_count": 149,
   "metadata": {},
   "outputs": [
    {
     "output_type": "error",
     "ename": "IndexError",
     "evalue": "index 0 is out of bounds for axis 0 with size 0",
     "traceback": [
      "\u001b[1;31m---------------------------------------------------------------------------\u001b[0m",
      "\u001b[1;31mIndexError\u001b[0m                                Traceback (most recent call last)",
      "\u001b[1;32m<ipython-input-149-5757f918e21d>\u001b[0m in \u001b[0;36m<module>\u001b[1;34m\u001b[0m\n\u001b[0;32m      2\u001b[0m \u001b[0mtop1000_field_name\u001b[0m\u001b[1;33m=\u001b[0m\u001b[1;33m[\u001b[0m\u001b[1;33m]\u001b[0m\u001b[1;33m\u001b[0m\u001b[0m\n\u001b[0;32m      3\u001b[0m \u001b[1;32mfor\u001b[0m \u001b[0mi\u001b[0m \u001b[1;32min\u001b[0m \u001b[0mtop1000_dyn_id\u001b[0m\u001b[1;33m:\u001b[0m\u001b[1;33m\u001b[0m\u001b[0m\n\u001b[1;32m----> 4\u001b[1;33m     \u001b[0mtop1000_field_list\u001b[0m\u001b[1;33m.\u001b[0m\u001b[0mappend\u001b[0m\u001b[1;33m(\u001b[0m\u001b[0mfull\u001b[0m\u001b[1;33m[\u001b[0m\u001b[0mfull\u001b[0m\u001b[1;33m[\u001b[0m\u001b[1;34m'artists_id'\u001b[0m\u001b[1;33m]\u001b[0m\u001b[1;33m==\u001b[0m\u001b[0mi\u001b[0m\u001b[1;33m]\u001b[0m\u001b[1;33m[\u001b[0m\u001b[1;34m'genre'\u001b[0m\u001b[1;33m]\u001b[0m\u001b[1;33m.\u001b[0m\u001b[0mvalues\u001b[0m\u001b[1;33m[\u001b[0m\u001b[1;36m0\u001b[0m\u001b[1;33m]\u001b[0m\u001b[1;33m)\u001b[0m\u001b[1;33m\u001b[0m\u001b[0m\n\u001b[0m\u001b[0;32m      5\u001b[0m     \u001b[0mtop1000_field_name\u001b[0m\u001b[1;33m.\u001b[0m\u001b[0mappend\u001b[0m\u001b[1;33m(\u001b[0m\u001b[0mfull\u001b[0m\u001b[1;33m[\u001b[0m\u001b[0mfull\u001b[0m\u001b[1;33m[\u001b[0m\u001b[1;34m'artists_id'\u001b[0m\u001b[1;33m]\u001b[0m\u001b[1;33m==\u001b[0m\u001b[0mi\u001b[0m\u001b[1;33m]\u001b[0m\u001b[1;33m[\u001b[0m\u001b[1;34m'artist_names'\u001b[0m\u001b[1;33m]\u001b[0m\u001b[1;33m.\u001b[0m\u001b[0mvalues\u001b[0m\u001b[1;33m[\u001b[0m\u001b[1;33m-\u001b[0m\u001b[1;36m1\u001b[0m\u001b[1;33m]\u001b[0m\u001b[1;33m)\u001b[0m\u001b[1;33m\u001b[0m\u001b[0m\n",
      "\u001b[1;31mIndexError\u001b[0m: index 0 is out of bounds for axis 0 with size 0"
     ]
    }
   ],
   "source": [
    "top1000_field_list=[]\n",
    "top1000_field_name=[]\n",
    "for i in top1000_dyn_id:\n",
    "    top1000_field_list.append(full[full['artists_id']==i]['genre'].values[0])\n",
    "    top1000_field_name.append(full[full['artists_id']==i]['artist_names'].values[-1])"
   ]
  },
  {
   "cell_type": "code",
   "execution_count": 138,
   "metadata": {},
   "outputs": [
    {
     "output_type": "execute_result",
     "data": {
      "text/plain": [
       "99"
      ]
     },
     "metadata": {},
     "execution_count": 138
    }
   ],
   "source": [
    "len(top100_field_name)"
   ]
  },
  {
   "cell_type": "code",
   "execution_count": 140,
   "metadata": {},
   "outputs": [
    {
     "output_type": "stream",
     "name": "stdout",
     "text": [
      "[\"['The Beatles']\", \"['Bob Dylan']\", \"['The Rolling Stones']\", \"['Chuck Berry']\", \"['Elvis Presley']\", \"['Jimi Hendrix']\", \"['The Velvet Underground']\", \"['Hank Williams']\", \"['The Kinks']\", \"['Little Richard']\", \"['The Who']\", \"['David Bowie']\", \"['James Brown']\", \"['Led Zeppelin']\", \"['Sex Pistols']\", \"['Buddy Holly']\", \"['The Stooges']\", \"['Muddy Waters']\", \"['The Beach Boys']\", \"['Bo Diddley']\", \"['The Yardbirds']\", \"['Sam Cooke']\", '[\"Howlin\\' Wolf\"]', \"['Smokey Robinson']\", \"['Black Sabbath']\", \"['Ray Charles']\", \"['The Byrds']\", \"['Marvin Gaye']\", \"['Pink Floyd']\", \"['Cream']\", \"['Miles Davis']\", \"['The Ramones']\", \"['Woody Guthrie']\", \"['Brian Eno']\", \"['Jimmy Reed']\", \"['Johnny Cash']\", \"['The Clash']\", \"['The Everly Brothers']\", \"['Neil Young']\", \"['Billie Holiday']\", \"['Roxy Music']\", \"['Jerry Lee Lewis']\", \"['Kraftwerk']\", \"['Jackie Wilson']\", \"['John Coltrane']\", \"['The Band']\", \"['Otis Redding']\", \"['Stevie Wonder']\", \"['The Isley Brothers']\", \"['Fats Domino']\", \"['MC5']\", \"['John Lee Hooker']\", \"['Elmore James']\", \"['Black Flag']\", \"['Nat King Cole']\", \"['Bill Monroe']\", \"['Willie Dixon']\", \"['Roy Orbison']\", \"['The Doors']\", \"['T. Rex']\", \"['Deep Purple']\", \"['The Shadows']\", \"['New York Dolls']\", \"['Eddie Cochran']\", \"['Roy Acuff']\", \"['Joni Mitchell']\", \"['Hank Snow']\", \"['Carole King']\", \"['Kiss']\", \"['Louis Jordan']\", \"['Buck Owens']\", \"['Little Willie John']\", \"['Johnny Kidd & the Pirates']\", \"['Pete Seeger']\", \"['Aretha Franklin']\", \"['Alice Cooper']\", \"['Ernest Tubb']\", \"['Roy Brown']\", \"['Sly & the Family Stone']\", \"['Iggy Pop']\", \"['Merle Haggard']\", \"['The Drifters']\", \"['T-Bone Walker']\", \"['Slim Harpo']\", \"['Lefty Frizzell']\", \"['Gene Vincent']\", \"['Charlie Parker']\", \"['Ravi Shankar']\", \"['Curtis Mayfield']\", \"['Bob Wills']\", \"['Big Star']\", \"['Joy Division']\", \"['Buddy Guy']\", \"['The Fugs']\", \"['Al Green']\", \"['John Mayall']\", \"['George Jones']\", \"['Dizzy Gillespie']\", \"['The Supremes']\"]\n"
     ]
    }
   ],
   "source": [
    "print(top100_field_name)"
   ]
  },
  {
   "cell_type": "code",
   "execution_count": 216,
   "metadata": {},
   "outputs": [
    {
     "output_type": "stream",
     "name": "stdout",
     "text": [
      "['Pop/Rock', 'Pop/Rock', 'Pop/Rock', 'Pop/Rock', 'Pop/Rock', 'Pop/Rock', 'Pop/Rock', 'Country', 'Pop/Rock', 'Pop/Rock', 'Pop/Rock', 'Pop/Rock', 'R&B;', 'Pop/Rock', 'Pop/Rock']\n"
     ]
    }
   ],
   "source": [
    "print(top100_field_list[:15])"
   ]
  },
  {
   "cell_type": "code",
   "execution_count": 144,
   "metadata": {},
   "outputs": [
    {
     "output_type": "stream",
     "name": "stdout",
     "text": [
      "Counter({'Pop/Rock': 49, 'R&B;': 18, 'Blues': 10, 'Country': 8, 'Jazz': 6, nan: 5, 'Vocal': 1, 'Electronic': 1, 'Folk': 1})\n"
     ]
    }
   ],
   "source": [
    "from collections import Counter\n",
    "result = Counter(top100_field_list)\n",
    "print(result)"
   ]
  },
  {
   "cell_type": "code",
   "execution_count": 208,
   "metadata": {},
   "outputs": [
    {
     "output_type": "stream",
     "name": "stdout",
     "text": [
      "398.89352176847785\n277.0020896958038\n222.43273273273275\n193.04317371202112\n159.29687690742625\n149.79682694438287\n149.7807059855295\n142.720301065308\n141.4990349847382\n140.1922561112357\n135.95287494010543\n135.93832282471627\n127.43102603763857\n116.69969084423306\n115.11207492795388\n"
     ]
    }
   ],
   "source": [
    "for i in top1000_dyn_id[:15]:\n",
    "    print(dyn_inf_val[i]/10)"
   ]
  },
  {
   "cell_type": "code",
   "execution_count": null,
   "metadata": {},
   "outputs": [],
   "source": []
  },
  {
   "source": [
    "## 统计查找RB的dynamic influencers指标"
   ],
   "cell_type": "markdown",
   "metadata": {}
  },
  {
   "cell_type": "code",
   "execution_count": 151,
   "metadata": {},
   "outputs": [
    {
     "output_type": "execute_result",
     "data": {
      "text/plain": [
       "   Unnamed: 0          artist_names  artists_id  danceability  energy  \\\n",
       "3           3  [\"Alexander O'Neal\"]      625201         0.761   0.702   \n",
       "4           4  [\"Alexander O'Neal\"]      625201         0.661   0.828   \n",
       "5           5  [\"Alexander O'Neal\"]      625201         0.719   0.650   \n",
       "6           6  [\"Alexander O'Neal\"]      625201         0.649   0.245   \n",
       "7           7  [\"Alexander O'Neal\"]      625201         0.701   0.715   \n",
       "\n",
       "   valence    tempo  loudness  mode  key  ...   instrumentalness  liveness  \\\n",
       "3    0.850  104.773    -8.523     1    7  ...           0.000031    0.0935   \n",
       "4    0.902  115.078   -12.673     0   11  ...           0.000001    0.2870   \n",
       "5    0.953  105.141   -12.947     0    7  ...           0.000044    0.1330   \n",
       "6    0.273  112.709   -17.585     1   11  ...           0.000000    0.1740   \n",
       "7    0.735  101.515   -14.999     0   11  ...           0.000000    0.3540   \n",
       "\n",
       "   speechiness  explicit  duration_ms  popularity  year  release_date  \\\n",
       "3       0.0389         0       304427          34  1991      1/1/1991   \n",
       "4       0.0390         0       264933          37  1987     7/29/1987   \n",
       "5       0.0265         0       277773          34  1987     7/29/1987   \n",
       "6       0.0286         0       312733          29  1987     7/29/1987   \n",
       "7       0.0291         0       241107          32  1987     7/29/1987   \n",
       "\n",
       "                  song_title (censored) genre  \n",
       "3                          All True Man  R&B;  \n",
       "4  (What Can I Say) To Make You Love Me  R&B;  \n",
       "5                            The Lovers  R&B;  \n",
       "6                       Crying Overtime  R&B;  \n",
       "7                               Hearsay  R&B;  \n",
       "\n",
       "[5 rows x 21 columns]"
      ],
      "text/html": "<div>\n<style scoped>\n    .dataframe tbody tr th:only-of-type {\n        vertical-align: middle;\n    }\n\n    .dataframe tbody tr th {\n        vertical-align: top;\n    }\n\n    .dataframe thead th {\n        text-align: right;\n    }\n</style>\n<table border=\"1\" class=\"dataframe\">\n  <thead>\n    <tr style=\"text-align: right;\">\n      <th></th>\n      <th>Unnamed: 0</th>\n      <th>artist_names</th>\n      <th>artists_id</th>\n      <th>danceability</th>\n      <th>energy</th>\n      <th>valence</th>\n      <th>tempo</th>\n      <th>loudness</th>\n      <th>mode</th>\n      <th>key</th>\n      <th>...</th>\n      <th>instrumentalness</th>\n      <th>liveness</th>\n      <th>speechiness</th>\n      <th>explicit</th>\n      <th>duration_ms</th>\n      <th>popularity</th>\n      <th>year</th>\n      <th>release_date</th>\n      <th>song_title (censored)</th>\n      <th>genre</th>\n    </tr>\n  </thead>\n  <tbody>\n    <tr>\n      <th>3</th>\n      <td>3</td>\n      <td>[\"Alexander O'Neal\"]</td>\n      <td>625201</td>\n      <td>0.761</td>\n      <td>0.702</td>\n      <td>0.850</td>\n      <td>104.773</td>\n      <td>-8.523</td>\n      <td>1</td>\n      <td>7</td>\n      <td>...</td>\n      <td>0.000031</td>\n      <td>0.0935</td>\n      <td>0.0389</td>\n      <td>0</td>\n      <td>304427</td>\n      <td>34</td>\n      <td>1991</td>\n      <td>1/1/1991</td>\n      <td>All True Man</td>\n      <td>R&amp;B;</td>\n    </tr>\n    <tr>\n      <th>4</th>\n      <td>4</td>\n      <td>[\"Alexander O'Neal\"]</td>\n      <td>625201</td>\n      <td>0.661</td>\n      <td>0.828</td>\n      <td>0.902</td>\n      <td>115.078</td>\n      <td>-12.673</td>\n      <td>0</td>\n      <td>11</td>\n      <td>...</td>\n      <td>0.000001</td>\n      <td>0.2870</td>\n      <td>0.0390</td>\n      <td>0</td>\n      <td>264933</td>\n      <td>37</td>\n      <td>1987</td>\n      <td>7/29/1987</td>\n      <td>(What Can I Say) To Make You Love Me</td>\n      <td>R&amp;B;</td>\n    </tr>\n    <tr>\n      <th>5</th>\n      <td>5</td>\n      <td>[\"Alexander O'Neal\"]</td>\n      <td>625201</td>\n      <td>0.719</td>\n      <td>0.650</td>\n      <td>0.953</td>\n      <td>105.141</td>\n      <td>-12.947</td>\n      <td>0</td>\n      <td>7</td>\n      <td>...</td>\n      <td>0.000044</td>\n      <td>0.1330</td>\n      <td>0.0265</td>\n      <td>0</td>\n      <td>277773</td>\n      <td>34</td>\n      <td>1987</td>\n      <td>7/29/1987</td>\n      <td>The Lovers</td>\n      <td>R&amp;B;</td>\n    </tr>\n    <tr>\n      <th>6</th>\n      <td>6</td>\n      <td>[\"Alexander O'Neal\"]</td>\n      <td>625201</td>\n      <td>0.649</td>\n      <td>0.245</td>\n      <td>0.273</td>\n      <td>112.709</td>\n      <td>-17.585</td>\n      <td>1</td>\n      <td>11</td>\n      <td>...</td>\n      <td>0.000000</td>\n      <td>0.1740</td>\n      <td>0.0286</td>\n      <td>0</td>\n      <td>312733</td>\n      <td>29</td>\n      <td>1987</td>\n      <td>7/29/1987</td>\n      <td>Crying Overtime</td>\n      <td>R&amp;B;</td>\n    </tr>\n    <tr>\n      <th>7</th>\n      <td>7</td>\n      <td>[\"Alexander O'Neal\"]</td>\n      <td>625201</td>\n      <td>0.701</td>\n      <td>0.715</td>\n      <td>0.735</td>\n      <td>101.515</td>\n      <td>-14.999</td>\n      <td>0</td>\n      <td>11</td>\n      <td>...</td>\n      <td>0.000000</td>\n      <td>0.3540</td>\n      <td>0.0291</td>\n      <td>0</td>\n      <td>241107</td>\n      <td>32</td>\n      <td>1987</td>\n      <td>7/29/1987</td>\n      <td>Hearsay</td>\n      <td>R&amp;B;</td>\n    </tr>\n  </tbody>\n</table>\n<p>5 rows × 21 columns</p>\n</div>"
     },
     "metadata": {},
     "execution_count": 151
    }
   ],
   "source": [
    "rb_full=full[full['genre']=='R&B;']\n",
    "rb_full.head()"
   ]
  },
  {
   "cell_type": "code",
   "execution_count": 154,
   "metadata": {},
   "outputs": [],
   "source": [
    "rb_id=rb_full['artists_id'].unique()#rb领域的艺术家id"
   ]
  },
  {
   "cell_type": "code",
   "execution_count": 155,
   "metadata": {},
   "outputs": [],
   "source": [
    "rf_dyn_if_df=pd.DataFrame()"
   ]
  },
  {
   "cell_type": "code",
   "execution_count": 156,
   "metadata": {},
   "outputs": [],
   "source": [
    "rf_dyn_if_df['id']=rb_id"
   ]
  },
  {
   "cell_type": "code",
   "execution_count": 159,
   "metadata": {},
   "outputs": [],
   "source": [
    "inf_id=inf_data['influencer_id'].unique()#influencer_id\n",
    "fol_id=[]#follower_id\n",
    "for ida in inf_data['follower_id'].unique():\n",
    "    if ida not in inf_id:\n",
    "        fol_id.append(ida)"
   ]
  },
  {
   "cell_type": "code",
   "execution_count": 161,
   "metadata": {},
   "outputs": [],
   "source": [
    "year_dict={}#记录各个歌手开始活跃的年份\n",
    "for ida in rb_id:\n",
    "    if ida in inf_id:\n",
    "        year_dict[ida]=inf_data[inf_data['influencer_id']==ida]['influencer_active_start'].values[0]\n",
    "    elif ida in fol_id:\n",
    "        year_dict[ida]=inf_data[inf_data['follower_id']==ida]['follower_active_start'].values[0]\n",
    "    else:\n",
    "        continue"
   ]
  },
  {
   "cell_type": "code",
   "execution_count": 157,
   "metadata": {},
   "outputs": [
    {
     "output_type": "execute_result",
     "data": {
      "text/plain": [
       "   influencer_id influencer_name influencer_main_genre  \\\n",
       "0         759491   The Exploited              Pop/Rock   \n",
       "1          25462          Tricky            Electronic   \n",
       "2          66915       Bob Dylan              Pop/Rock   \n",
       "3          71209   Leonard Cohen              Pop/Rock   \n",
       "4          91438    The Gun Club              Pop/Rock   \n",
       "\n",
       "   influencer_active_start  follower_id   follower_name follower_main_genre  \\\n",
       "0                     1980           74  Special Duties            Pop/Rock   \n",
       "1                     1990          335       PJ Harvey            Pop/Rock   \n",
       "2                     1960          335       PJ Harvey            Pop/Rock   \n",
       "3                     1950          335       PJ Harvey            Pop/Rock   \n",
       "4                     1980          335       PJ Harvey            Pop/Rock   \n",
       "\n",
       "   follower_active_start  \n",
       "0                   1980  \n",
       "1                   1990  \n",
       "2                   1990  \n",
       "3                   1990  \n",
       "4                   1990  "
      ],
      "text/html": "<div>\n<style scoped>\n    .dataframe tbody tr th:only-of-type {\n        vertical-align: middle;\n    }\n\n    .dataframe tbody tr th {\n        vertical-align: top;\n    }\n\n    .dataframe thead th {\n        text-align: right;\n    }\n</style>\n<table border=\"1\" class=\"dataframe\">\n  <thead>\n    <tr style=\"text-align: right;\">\n      <th></th>\n      <th>influencer_id</th>\n      <th>influencer_name</th>\n      <th>influencer_main_genre</th>\n      <th>influencer_active_start</th>\n      <th>follower_id</th>\n      <th>follower_name</th>\n      <th>follower_main_genre</th>\n      <th>follower_active_start</th>\n    </tr>\n  </thead>\n  <tbody>\n    <tr>\n      <th>0</th>\n      <td>759491</td>\n      <td>The Exploited</td>\n      <td>Pop/Rock</td>\n      <td>1980</td>\n      <td>74</td>\n      <td>Special Duties</td>\n      <td>Pop/Rock</td>\n      <td>1980</td>\n    </tr>\n    <tr>\n      <th>1</th>\n      <td>25462</td>\n      <td>Tricky</td>\n      <td>Electronic</td>\n      <td>1990</td>\n      <td>335</td>\n      <td>PJ Harvey</td>\n      <td>Pop/Rock</td>\n      <td>1990</td>\n    </tr>\n    <tr>\n      <th>2</th>\n      <td>66915</td>\n      <td>Bob Dylan</td>\n      <td>Pop/Rock</td>\n      <td>1960</td>\n      <td>335</td>\n      <td>PJ Harvey</td>\n      <td>Pop/Rock</td>\n      <td>1990</td>\n    </tr>\n    <tr>\n      <th>3</th>\n      <td>71209</td>\n      <td>Leonard Cohen</td>\n      <td>Pop/Rock</td>\n      <td>1950</td>\n      <td>335</td>\n      <td>PJ Harvey</td>\n      <td>Pop/Rock</td>\n      <td>1990</td>\n    </tr>\n    <tr>\n      <th>4</th>\n      <td>91438</td>\n      <td>The Gun Club</td>\n      <td>Pop/Rock</td>\n      <td>1980</td>\n      <td>335</td>\n      <td>PJ Harvey</td>\n      <td>Pop/Rock</td>\n      <td>1990</td>\n    </tr>\n  </tbody>\n</table>\n</div>"
     },
     "metadata": {},
     "execution_count": 157
    }
   ],
   "source": [
    "inf_data.head()"
   ]
  },
  {
   "cell_type": "code",
   "execution_count": 166,
   "metadata": {},
   "outputs": [],
   "source": [
    "dyn_inf_dict={}#记录各个歌手的dynamic influencers指标\n",
    "for key in year_dict.keys():\n",
    "    dyn_inf_dict[key]=same_value[key]"
   ]
  },
  {
   "cell_type": "code",
   "execution_count": 168,
   "metadata": {},
   "outputs": [],
   "source": [
    "ser1=pd.Series(year_dict)\n",
    "ser2=pd.Series(dyn_inf_dict)"
   ]
  },
  {
   "cell_type": "code",
   "execution_count": 179,
   "metadata": {},
   "outputs": [],
   "source": [
    "dyn_inf_df=pd.DataFrame()"
   ]
  },
  {
   "cell_type": "code",
   "execution_count": 187,
   "metadata": {},
   "outputs": [],
   "source": [
    "year_list=year_dict.values()\n",
    "dyn_inf_list=dyn_inf_dict.values()\n",
    "id_list=year_dict.keys()"
   ]
  },
  {
   "cell_type": "code",
   "execution_count": 188,
   "metadata": {},
   "outputs": [],
   "source": [
    "dyn_inf_df['year']=year_list\n",
    "dyn_inf_df['dynamic influencers value']=dyn_inf_list\n",
    "dyn_inf_df['id']=id_list"
   ]
  },
  {
   "cell_type": "code",
   "execution_count": 194,
   "metadata": {},
   "outputs": [
    {
     "output_type": "execute_result",
     "data": {
      "text/plain": [
       "array([  2.33829787,  34.67210658, 194.94935577, 273.2424843 ,\n",
       "       167.9745054 , 142.02935254, 213.95613975, 107.875     ,\n",
       "         9.66666667])"
      ]
     },
     "metadata": {},
     "execution_count": 194
    }
   ],
   "source": [
    "dyn_inf_df.groupby('year').sum()['dynamic influencers value'].values#各个年份对应的dynamic influencers value之和"
   ]
  },
  {
   "cell_type": "code",
   "execution_count": 195,
   "metadata": {},
   "outputs": [
    {
     "output_type": "execute_result",
     "data": {
      "text/plain": [
       "Int64Index([1930, 1940, 1950, 1960, 1970, 1980, 1990, 2000, 2010], dtype='int64', name='year')"
      ]
     },
     "metadata": {},
     "execution_count": 195
    }
   ],
   "source": [
    "dyn_inf_df.groupby('year').sum().index"
   ]
  },
  {
   "cell_type": "code",
   "execution_count": 197,
   "metadata": {},
   "outputs": [
    {
     "output_type": "execute_result",
     "data": {
      "text/plain": [
       "array([  1,  15,  75, 112,  85,  71, 109,  75,  41], dtype=int64)"
      ]
     },
     "metadata": {},
     "execution_count": 197
    }
   ],
   "source": [
    "dyn_inf_df.groupby('year').count()['dynamic influencers value'].values#各个年份对应的人数"
   ]
  },
  {
   "cell_type": "code",
   "execution_count": 217,
   "metadata": {},
   "outputs": [],
   "source": [
    "target_df=inf_data[inf_data['influencer_active_start']>=1970]\n",
    "target_df=target_df[target_df['influencer_active_start']<=1980]\n",
    "target_df=target_df[target_df['influencer_main_genre']=='R&B;']"
   ]
  },
  {
   "cell_type": "code",
   "execution_count": 220,
   "metadata": {},
   "outputs": [
    {
     "output_type": "execute_result",
     "data": {
      "text/plain": [
       "array([208774, 262255, 820434, 661524, 279337, 361393, 614823, 816701,\n",
       "        41420, 101953, 118289, 509356, 664849, 746666, 865016, 894847,\n",
       "       803242, 137084, 302106, 790833, 107139, 191947, 798792,  92942,\n",
       "        18258, 127063, 651156, 767016,  47421,  61044,  96379, 572579,\n",
       "       944349, 305501, 140816,  35076, 161920, 131624,  61226, 607773,\n",
       "       299668, 921002, 267814,  20278, 160638, 799081, 884962, 743968,\n",
       "       628684, 772721, 935330,  18176, 816517, 930642, 180449, 208076,\n",
       "       243474, 517074, 361973, 402249, 680374, 583935, 790667, 898188,\n",
       "        35338, 167386, 193025, 330453,  30928, 788937, 869409, 317108,\n",
       "       625201, 756291, 596451, 359559, 190531, 333573, 755570, 755792,\n",
       "       767095,  17877, 401114, 152228, 399437, 165345, 108124, 221894,\n",
       "       411830, 806507, 253734, 314505, 241004, 649435, 118128, 276381,\n",
       "       380235, 333447, 293897, 795841, 367417, 247824,  59503,  25778,\n",
       "       793664,  49367, 147082, 574483, 147294, 107249, 818254,  38805,\n",
       "        98819, 919812, 494746, 667622, 299840, 552576, 202344, 841950,\n",
       "       819946,  89058,  48757, 146796, 787940,  28619, 960874, 340364,\n",
       "       565521, 115544, 125569, 778656,  84886, 508391,  39828, 181817],\n",
       "      dtype=int64)"
      ]
     },
     "metadata": {},
     "execution_count": 220
    }
   ],
   "source": [
    "target_df['influencer_id'].unique()"
   ]
  },
  {
   "cell_type": "code",
   "execution_count": 221,
   "metadata": {},
   "outputs": [],
   "source": [
    "target_dict_inf_value={}\n",
    "for ida in target_df['influencer_id'].unique():\n",
    "    target_dict_inf_value[ida]=dyn_inf_val[ida]"
   ]
  },
  {
   "cell_type": "code",
   "execution_count": 222,
   "metadata": {},
   "outputs": [],
   "source": [
    "line1=target_dict_inf_value.values()\n",
    "line2=target_dict_inf_value.keys()\n"
   ]
  },
  {
   "cell_type": "code",
   "execution_count": 223,
   "metadata": {},
   "outputs": [],
   "source": [
    "target2_df=pd.DataFrame()\n",
    "target2_df['id']=line2\n",
    "target2_df['value']=line1"
   ]
  },
  {
   "cell_type": "code",
   "execution_count": 226,
   "metadata": {},
   "outputs": [
    {
     "output_type": "execute_result",
     "data": {
      "text/plain": [
       "        id       value\n",
       "23   92942  333.014201\n",
       "5   361393  293.848684\n",
       "0   208774  216.645217\n",
       "3   661524  178.875197\n",
       "55  208076  171.205732"
      ],
      "text/html": "<div>\n<style scoped>\n    .dataframe tbody tr th:only-of-type {\n        vertical-align: middle;\n    }\n\n    .dataframe tbody tr th {\n        vertical-align: top;\n    }\n\n    .dataframe thead th {\n        text-align: right;\n    }\n</style>\n<table border=\"1\" class=\"dataframe\">\n  <thead>\n    <tr style=\"text-align: right;\">\n      <th></th>\n      <th>id</th>\n      <th>value</th>\n    </tr>\n  </thead>\n  <tbody>\n    <tr>\n      <th>23</th>\n      <td>92942</td>\n      <td>333.014201</td>\n    </tr>\n    <tr>\n      <th>5</th>\n      <td>361393</td>\n      <td>293.848684</td>\n    </tr>\n    <tr>\n      <th>0</th>\n      <td>208774</td>\n      <td>216.645217</td>\n    </tr>\n    <tr>\n      <th>3</th>\n      <td>661524</td>\n      <td>178.875197</td>\n    </tr>\n    <tr>\n      <th>55</th>\n      <td>208076</td>\n      <td>171.205732</td>\n    </tr>\n  </tbody>\n</table>\n</div>"
     },
     "metadata": {},
     "execution_count": 226
    }
   ],
   "source": [
    "target2_df.sort_values(by=\"value\" , ascending=False) .head()"
   ]
  },
  {
   "cell_type": "code",
   "execution_count": 231,
   "metadata": {},
   "outputs": [],
   "source": [
    "lista=target2_df.sort_values(by=\"value\" , ascending=False) .loc[:15,'id'].values"
   ]
  },
  {
   "cell_type": "code",
   "execution_count": 232,
   "metadata": {},
   "outputs": [
    {
     "output_type": "execute_result",
     "data": {
      "text/plain": [
       "array([ 92942, 361393, 208774, 661524, 208076,  20278, 820434, 107139,\n",
       "        61044, 262255, 865016, 798792,  18258, 756291, 572579, 191947,\n",
       "       767016, 118289, 279337, 894847], dtype=int64)"
      ]
     },
     "metadata": {},
     "execution_count": 232
    }
   ],
   "source": [
    "lista"
   ]
  },
  {
   "cell_type": "code",
   "execution_count": 239,
   "metadata": {},
   "outputs": [
    {
     "output_type": "execute_result",
     "data": {
      "text/plain": [
       "       influencer_id influencer_name influencer_main_genre  \\\n",
       "123           208774   Janet Jackson                  R&B;   \n",
       "191           208774   Janet Jackson                  R&B;   \n",
       "207           208774   Janet Jackson                  R&B;   \n",
       "414           208774   Janet Jackson                  R&B;   \n",
       "543           208774   Janet Jackson                  R&B;   \n",
       "1891          208774   Janet Jackson                  R&B;   \n",
       "2156          208774   Janet Jackson                  R&B;   \n",
       "2752          208774   Janet Jackson                  R&B;   \n",
       "3875          208774   Janet Jackson                  R&B;   \n",
       "4807          208774   Janet Jackson                  R&B;   \n",
       "5653          208774   Janet Jackson                  R&B;   \n",
       "6072          208774   Janet Jackson                  R&B;   \n",
       "6726          208774   Janet Jackson                  R&B;   \n",
       "7986          208774   Janet Jackson                  R&B;   \n",
       "8542          208774   Janet Jackson                  R&B;   \n",
       "10118         208774   Janet Jackson                  R&B;   \n",
       "10426         208774   Janet Jackson                  R&B;   \n",
       "12550         208774   Janet Jackson                  R&B;   \n",
       "13126         208774   Janet Jackson                  R&B;   \n",
       "13359         208774   Janet Jackson                  R&B;   \n",
       "13552         208774   Janet Jackson                  R&B;   \n",
       "13837         208774   Janet Jackson                  R&B;   \n",
       "14708         208774   Janet Jackson                  R&B;   \n",
       "16188         208774   Janet Jackson                  R&B;   \n",
       "16957         208774   Janet Jackson                  R&B;   \n",
       "17016         208774   Janet Jackson                  R&B;   \n",
       "17123         208774   Janet Jackson                  R&B;   \n",
       "17737         208774   Janet Jackson                  R&B;   \n",
       "18071         208774   Janet Jackson                  R&B;   \n",
       "18255         208774   Janet Jackson                  R&B;   \n",
       "20217         208774   Janet Jackson                  R&B;   \n",
       "21054         208774   Janet Jackson                  R&B;   \n",
       "21718         208774   Janet Jackson                  R&B;   \n",
       "22432         208774   Janet Jackson                  R&B;   \n",
       "22881         208774   Janet Jackson                  R&B;   \n",
       "23255         208774   Janet Jackson                  R&B;   \n",
       "23501         208774   Janet Jackson                  R&B;   \n",
       "23594         208774   Janet Jackson                  R&B;   \n",
       "23642         208774   Janet Jackson                  R&B;   \n",
       "26044         208774   Janet Jackson                  R&B;   \n",
       "27062         208774   Janet Jackson                  R&B;   \n",
       "27553         208774   Janet Jackson                  R&B;   \n",
       "27851         208774   Janet Jackson                  R&B;   \n",
       "29269         208774   Janet Jackson                  R&B;   \n",
       "31569         208774   Janet Jackson                  R&B;   \n",
       "31971         208774   Janet Jackson                  R&B;   \n",
       "32863         208774   Janet Jackson                  R&B;   \n",
       "33142         208774   Janet Jackson                  R&B;   \n",
       "34668         208774   Janet Jackson                  R&B;   \n",
       "35463         208774   Janet Jackson                  R&B;   \n",
       "36899         208774   Janet Jackson                  R&B;   \n",
       "37515         208774   Janet Jackson                  R&B;   \n",
       "39071         208774   Janet Jackson                  R&B;   \n",
       "39205         208774   Janet Jackson                  R&B;   \n",
       "39425         208774   Janet Jackson                  R&B;   \n",
       "39510         208774   Janet Jackson                  R&B;   \n",
       "41458         208774   Janet Jackson                  R&B;   \n",
       "42242         208774   Janet Jackson                  R&B;   \n",
       "42528         208774   Janet Jackson                  R&B;   \n",
       "\n",
       "       influencer_active_start  follower_id       follower_name  \\\n",
       "123                       1970         2750               Total   \n",
       "191                       1970         4852              Selena   \n",
       "207                       1970         5307         Alicia Keys   \n",
       "414                       1970         7689                 TLC   \n",
       "543                       1970         8828         Spice Girls   \n",
       "1891                      1970        27136       Paulina Rubio   \n",
       "2156                      1970        31380         Paula Abdul   \n",
       "2752                      1970        38805         Angie Stone   \n",
       "3875                      1970        57151           B*Witched   \n",
       "4807                      1970        73682       Kelly Rowland   \n",
       "5653                      1970        85397               Kelis   \n",
       "6072                      1970        92107        Keyshia Cole   \n",
       "6726                      1970       101072  The Pussycat Dolls   \n",
       "7986                      1970       126168    Christina Milian   \n",
       "8542                      1970       133177       Tamar Braxton   \n",
       "10118                     1970       160690            En Vogue   \n",
       "10426                     1970       164053         Faith Evans   \n",
       "12550                     1970       193305              Cassie   \n",
       "13126                     1970       202089     Charles & Eddie   \n",
       "13359                     1970       206668             Des'ree   \n",
       "13552                     1970       210991     Destiny's Child   \n",
       "13837                     1970       215513               Ciara   \n",
       "14708                     1970       232869           Macy Gray   \n",
       "16188                     1970       262255        Mariah Carey   \n",
       "16957                     1970       286572          Joss Stone   \n",
       "17016                     1970       287407     Jessica Simpson   \n",
       "17123                     1970       289685               Robyn   \n",
       "17737                     1970       303506               Usher   \n",
       "18071                     1970       312890   Justin Timberlake   \n",
       "18255                     1970       317865      Jennifer Lopez   \n",
       "20217                     1970       376204       Mary J. Blige   \n",
       "21054                     1970       398020   Michelle Williams   \n",
       "21718                     1970       422891               Nivea   \n",
       "22432                     1970       476744                 3LW   \n",
       "22881                     1970       485689           MoKenStef   \n",
       "23255                     1970       490738              Monica   \n",
       "23501                     1970       495338         Ace of Base   \n",
       "23594                     1970       497236        Adina Howard   \n",
       "23642                     1970       498987                 SWV   \n",
       "26044                     1970       578999             Aaliyah   \n",
       "27062                     1970       608945              Brandy   \n",
       "27553                     1970       621112                 Mya   \n",
       "27851                     1970       628467      Britney Spears   \n",
       "29269                     1970       673933         Mandy Moore   \n",
       "31569                     1970       757093     Syleena Johnson   \n",
       "31971                     1970       761179            Beyonc脙漏   \n",
       "32863                     1970       775494             Cherish   \n",
       "33142                     1970       780258  Christina Aguilera   \n",
       "34668                     1970       803469               Dream   \n",
       "35463                     1970       814387         John Legend   \n",
       "36899                     1970       852656              RuPaul   \n",
       "37515                     1970       866491             Maxwell   \n",
       "39071                     1970       926021             Monifah   \n",
       "39205                     1970       927650             Tiffany   \n",
       "39425                     1970       933898             Ashanti   \n",
       "39510                     1970       935330        Toni Braxton   \n",
       "41458                     1970      1878899                P!nk   \n",
       "42242                     1970      3052730               A*M*E   \n",
       "42528                     1970      3359519     Natalie La Rose   \n",
       "\n",
       "      follower_main_genre  follower_active_start  \n",
       "123                  R&B;                   1990  \n",
       "191                 Latin                   1980  \n",
       "207                  R&B;                   1990  \n",
       "414                  R&B;                   1990  \n",
       "543              Pop/Rock                   1990  \n",
       "1891                Latin                   1980  \n",
       "2156             Pop/Rock                   1980  \n",
       "2752                 R&B;                   1970  \n",
       "3875             Pop/Rock                   1990  \n",
       "4807                 R&B;                   1990  \n",
       "5653                 R&B;                   1990  \n",
       "6072                 R&B;                   2000  \n",
       "6726             Pop/Rock                   2000  \n",
       "7986                 R&B;                   1990  \n",
       "8542                 R&B;                   1980  \n",
       "10118                R&B;                   1990  \n",
       "10426                R&B;                   1990  \n",
       "12550                R&B;                   2000  \n",
       "13126                R&B;                   1990  \n",
       "13359                R&B;                   1990  \n",
       "13552                R&B;                   1990  \n",
       "13837                R&B;                   2000  \n",
       "14708                R&B;                   1990  \n",
       "16188                R&B;                   1980  \n",
       "16957            Pop/Rock                   2000  \n",
       "17016            Pop/Rock                   1990  \n",
       "17123            Pop/Rock                   1990  \n",
       "17737                R&B;                   1990  \n",
       "18071            Pop/Rock                   1990  \n",
       "18255            Pop/Rock                   1990  \n",
       "20217                R&B;                   1990  \n",
       "21054           Religious                   1990  \n",
       "21718                R&B;                   2000  \n",
       "22432            Pop/Rock                   1990  \n",
       "22881                R&B;                   1990  \n",
       "23255                R&B;                   1990  \n",
       "23501            Pop/Rock                   1990  \n",
       "23594                R&B;                   1990  \n",
       "23642                R&B;                   1990  \n",
       "26044                R&B;                   1990  \n",
       "27062                R&B;                   1990  \n",
       "27553                R&B;                   1990  \n",
       "27851            Pop/Rock                   1990  \n",
       "29269            Pop/Rock                   1990  \n",
       "31569                R&B;                   2000  \n",
       "31971                R&B;                   1990  \n",
       "32863                R&B;                   2000  \n",
       "33142            Pop/Rock                   1990  \n",
       "34668            Pop/Rock                   1990  \n",
       "35463                R&B;                   2000  \n",
       "36899            Pop/Rock                   1980  \n",
       "37515                R&B;                   1990  \n",
       "39071                R&B;                   1990  \n",
       "39205            Pop/Rock                   1980  \n",
       "39425                R&B;                   1990  \n",
       "39510                R&B;                   1980  \n",
       "41458            Pop/Rock                   1990  \n",
       "42242            Pop/Rock                   2010  \n",
       "42528                R&B;                   2010  "
      ],
      "text/html": "<div>\n<style scoped>\n    .dataframe tbody tr th:only-of-type {\n        vertical-align: middle;\n    }\n\n    .dataframe tbody tr th {\n        vertical-align: top;\n    }\n\n    .dataframe thead th {\n        text-align: right;\n    }\n</style>\n<table border=\"1\" class=\"dataframe\">\n  <thead>\n    <tr style=\"text-align: right;\">\n      <th></th>\n      <th>influencer_id</th>\n      <th>influencer_name</th>\n      <th>influencer_main_genre</th>\n      <th>influencer_active_start</th>\n      <th>follower_id</th>\n      <th>follower_name</th>\n      <th>follower_main_genre</th>\n      <th>follower_active_start</th>\n    </tr>\n  </thead>\n  <tbody>\n    <tr>\n      <th>123</th>\n      <td>208774</td>\n      <td>Janet Jackson</td>\n      <td>R&amp;B;</td>\n      <td>1970</td>\n      <td>2750</td>\n      <td>Total</td>\n      <td>R&amp;B;</td>\n      <td>1990</td>\n    </tr>\n    <tr>\n      <th>191</th>\n      <td>208774</td>\n      <td>Janet Jackson</td>\n      <td>R&amp;B;</td>\n      <td>1970</td>\n      <td>4852</td>\n      <td>Selena</td>\n      <td>Latin</td>\n      <td>1980</td>\n    </tr>\n    <tr>\n      <th>207</th>\n      <td>208774</td>\n      <td>Janet Jackson</td>\n      <td>R&amp;B;</td>\n      <td>1970</td>\n      <td>5307</td>\n      <td>Alicia Keys</td>\n      <td>R&amp;B;</td>\n      <td>1990</td>\n    </tr>\n    <tr>\n      <th>414</th>\n      <td>208774</td>\n      <td>Janet Jackson</td>\n      <td>R&amp;B;</td>\n      <td>1970</td>\n      <td>7689</td>\n      <td>TLC</td>\n      <td>R&amp;B;</td>\n      <td>1990</td>\n    </tr>\n    <tr>\n      <th>543</th>\n      <td>208774</td>\n      <td>Janet Jackson</td>\n      <td>R&amp;B;</td>\n      <td>1970</td>\n      <td>8828</td>\n      <td>Spice Girls</td>\n      <td>Pop/Rock</td>\n      <td>1990</td>\n    </tr>\n    <tr>\n      <th>1891</th>\n      <td>208774</td>\n      <td>Janet Jackson</td>\n      <td>R&amp;B;</td>\n      <td>1970</td>\n      <td>27136</td>\n      <td>Paulina Rubio</td>\n      <td>Latin</td>\n      <td>1980</td>\n    </tr>\n    <tr>\n      <th>2156</th>\n      <td>208774</td>\n      <td>Janet Jackson</td>\n      <td>R&amp;B;</td>\n      <td>1970</td>\n      <td>31380</td>\n      <td>Paula Abdul</td>\n      <td>Pop/Rock</td>\n      <td>1980</td>\n    </tr>\n    <tr>\n      <th>2752</th>\n      <td>208774</td>\n      <td>Janet Jackson</td>\n      <td>R&amp;B;</td>\n      <td>1970</td>\n      <td>38805</td>\n      <td>Angie Stone</td>\n      <td>R&amp;B;</td>\n      <td>1970</td>\n    </tr>\n    <tr>\n      <th>3875</th>\n      <td>208774</td>\n      <td>Janet Jackson</td>\n      <td>R&amp;B;</td>\n      <td>1970</td>\n      <td>57151</td>\n      <td>B*Witched</td>\n      <td>Pop/Rock</td>\n      <td>1990</td>\n    </tr>\n    <tr>\n      <th>4807</th>\n      <td>208774</td>\n      <td>Janet Jackson</td>\n      <td>R&amp;B;</td>\n      <td>1970</td>\n      <td>73682</td>\n      <td>Kelly Rowland</td>\n      <td>R&amp;B;</td>\n      <td>1990</td>\n    </tr>\n    <tr>\n      <th>5653</th>\n      <td>208774</td>\n      <td>Janet Jackson</td>\n      <td>R&amp;B;</td>\n      <td>1970</td>\n      <td>85397</td>\n      <td>Kelis</td>\n      <td>R&amp;B;</td>\n      <td>1990</td>\n    </tr>\n    <tr>\n      <th>6072</th>\n      <td>208774</td>\n      <td>Janet Jackson</td>\n      <td>R&amp;B;</td>\n      <td>1970</td>\n      <td>92107</td>\n      <td>Keyshia Cole</td>\n      <td>R&amp;B;</td>\n      <td>2000</td>\n    </tr>\n    <tr>\n      <th>6726</th>\n      <td>208774</td>\n      <td>Janet Jackson</td>\n      <td>R&amp;B;</td>\n      <td>1970</td>\n      <td>101072</td>\n      <td>The Pussycat Dolls</td>\n      <td>Pop/Rock</td>\n      <td>2000</td>\n    </tr>\n    <tr>\n      <th>7986</th>\n      <td>208774</td>\n      <td>Janet Jackson</td>\n      <td>R&amp;B;</td>\n      <td>1970</td>\n      <td>126168</td>\n      <td>Christina Milian</td>\n      <td>R&amp;B;</td>\n      <td>1990</td>\n    </tr>\n    <tr>\n      <th>8542</th>\n      <td>208774</td>\n      <td>Janet Jackson</td>\n      <td>R&amp;B;</td>\n      <td>1970</td>\n      <td>133177</td>\n      <td>Tamar Braxton</td>\n      <td>R&amp;B;</td>\n      <td>1980</td>\n    </tr>\n    <tr>\n      <th>10118</th>\n      <td>208774</td>\n      <td>Janet Jackson</td>\n      <td>R&amp;B;</td>\n      <td>1970</td>\n      <td>160690</td>\n      <td>En Vogue</td>\n      <td>R&amp;B;</td>\n      <td>1990</td>\n    </tr>\n    <tr>\n      <th>10426</th>\n      <td>208774</td>\n      <td>Janet Jackson</td>\n      <td>R&amp;B;</td>\n      <td>1970</td>\n      <td>164053</td>\n      <td>Faith Evans</td>\n      <td>R&amp;B;</td>\n      <td>1990</td>\n    </tr>\n    <tr>\n      <th>12550</th>\n      <td>208774</td>\n      <td>Janet Jackson</td>\n      <td>R&amp;B;</td>\n      <td>1970</td>\n      <td>193305</td>\n      <td>Cassie</td>\n      <td>R&amp;B;</td>\n      <td>2000</td>\n    </tr>\n    <tr>\n      <th>13126</th>\n      <td>208774</td>\n      <td>Janet Jackson</td>\n      <td>R&amp;B;</td>\n      <td>1970</td>\n      <td>202089</td>\n      <td>Charles &amp; Eddie</td>\n      <td>R&amp;B;</td>\n      <td>1990</td>\n    </tr>\n    <tr>\n      <th>13359</th>\n      <td>208774</td>\n      <td>Janet Jackson</td>\n      <td>R&amp;B;</td>\n      <td>1970</td>\n      <td>206668</td>\n      <td>Des'ree</td>\n      <td>R&amp;B;</td>\n      <td>1990</td>\n    </tr>\n    <tr>\n      <th>13552</th>\n      <td>208774</td>\n      <td>Janet Jackson</td>\n      <td>R&amp;B;</td>\n      <td>1970</td>\n      <td>210991</td>\n      <td>Destiny's Child</td>\n      <td>R&amp;B;</td>\n      <td>1990</td>\n    </tr>\n    <tr>\n      <th>13837</th>\n      <td>208774</td>\n      <td>Janet Jackson</td>\n      <td>R&amp;B;</td>\n      <td>1970</td>\n      <td>215513</td>\n      <td>Ciara</td>\n      <td>R&amp;B;</td>\n      <td>2000</td>\n    </tr>\n    <tr>\n      <th>14708</th>\n      <td>208774</td>\n      <td>Janet Jackson</td>\n      <td>R&amp;B;</td>\n      <td>1970</td>\n      <td>232869</td>\n      <td>Macy Gray</td>\n      <td>R&amp;B;</td>\n      <td>1990</td>\n    </tr>\n    <tr>\n      <th>16188</th>\n      <td>208774</td>\n      <td>Janet Jackson</td>\n      <td>R&amp;B;</td>\n      <td>1970</td>\n      <td>262255</td>\n      <td>Mariah Carey</td>\n      <td>R&amp;B;</td>\n      <td>1980</td>\n    </tr>\n    <tr>\n      <th>16957</th>\n      <td>208774</td>\n      <td>Janet Jackson</td>\n      <td>R&amp;B;</td>\n      <td>1970</td>\n      <td>286572</td>\n      <td>Joss Stone</td>\n      <td>Pop/Rock</td>\n      <td>2000</td>\n    </tr>\n    <tr>\n      <th>17016</th>\n      <td>208774</td>\n      <td>Janet Jackson</td>\n      <td>R&amp;B;</td>\n      <td>1970</td>\n      <td>287407</td>\n      <td>Jessica Simpson</td>\n      <td>Pop/Rock</td>\n      <td>1990</td>\n    </tr>\n    <tr>\n      <th>17123</th>\n      <td>208774</td>\n      <td>Janet Jackson</td>\n      <td>R&amp;B;</td>\n      <td>1970</td>\n      <td>289685</td>\n      <td>Robyn</td>\n      <td>Pop/Rock</td>\n      <td>1990</td>\n    </tr>\n    <tr>\n      <th>17737</th>\n      <td>208774</td>\n      <td>Janet Jackson</td>\n      <td>R&amp;B;</td>\n      <td>1970</td>\n      <td>303506</td>\n      <td>Usher</td>\n      <td>R&amp;B;</td>\n      <td>1990</td>\n    </tr>\n    <tr>\n      <th>18071</th>\n      <td>208774</td>\n      <td>Janet Jackson</td>\n      <td>R&amp;B;</td>\n      <td>1970</td>\n      <td>312890</td>\n      <td>Justin Timberlake</td>\n      <td>Pop/Rock</td>\n      <td>1990</td>\n    </tr>\n    <tr>\n      <th>18255</th>\n      <td>208774</td>\n      <td>Janet Jackson</td>\n      <td>R&amp;B;</td>\n      <td>1970</td>\n      <td>317865</td>\n      <td>Jennifer Lopez</td>\n      <td>Pop/Rock</td>\n      <td>1990</td>\n    </tr>\n    <tr>\n      <th>20217</th>\n      <td>208774</td>\n      <td>Janet Jackson</td>\n      <td>R&amp;B;</td>\n      <td>1970</td>\n      <td>376204</td>\n      <td>Mary J. Blige</td>\n      <td>R&amp;B;</td>\n      <td>1990</td>\n    </tr>\n    <tr>\n      <th>21054</th>\n      <td>208774</td>\n      <td>Janet Jackson</td>\n      <td>R&amp;B;</td>\n      <td>1970</td>\n      <td>398020</td>\n      <td>Michelle Williams</td>\n      <td>Religious</td>\n      <td>1990</td>\n    </tr>\n    <tr>\n      <th>21718</th>\n      <td>208774</td>\n      <td>Janet Jackson</td>\n      <td>R&amp;B;</td>\n      <td>1970</td>\n      <td>422891</td>\n      <td>Nivea</td>\n      <td>R&amp;B;</td>\n      <td>2000</td>\n    </tr>\n    <tr>\n      <th>22432</th>\n      <td>208774</td>\n      <td>Janet Jackson</td>\n      <td>R&amp;B;</td>\n      <td>1970</td>\n      <td>476744</td>\n      <td>3LW</td>\n      <td>Pop/Rock</td>\n      <td>1990</td>\n    </tr>\n    <tr>\n      <th>22881</th>\n      <td>208774</td>\n      <td>Janet Jackson</td>\n      <td>R&amp;B;</td>\n      <td>1970</td>\n      <td>485689</td>\n      <td>MoKenStef</td>\n      <td>R&amp;B;</td>\n      <td>1990</td>\n    </tr>\n    <tr>\n      <th>23255</th>\n      <td>208774</td>\n      <td>Janet Jackson</td>\n      <td>R&amp;B;</td>\n      <td>1970</td>\n      <td>490738</td>\n      <td>Monica</td>\n      <td>R&amp;B;</td>\n      <td>1990</td>\n    </tr>\n    <tr>\n      <th>23501</th>\n      <td>208774</td>\n      <td>Janet Jackson</td>\n      <td>R&amp;B;</td>\n      <td>1970</td>\n      <td>495338</td>\n      <td>Ace of Base</td>\n      <td>Pop/Rock</td>\n      <td>1990</td>\n    </tr>\n    <tr>\n      <th>23594</th>\n      <td>208774</td>\n      <td>Janet Jackson</td>\n      <td>R&amp;B;</td>\n      <td>1970</td>\n      <td>497236</td>\n      <td>Adina Howard</td>\n      <td>R&amp;B;</td>\n      <td>1990</td>\n    </tr>\n    <tr>\n      <th>23642</th>\n      <td>208774</td>\n      <td>Janet Jackson</td>\n      <td>R&amp;B;</td>\n      <td>1970</td>\n      <td>498987</td>\n      <td>SWV</td>\n      <td>R&amp;B;</td>\n      <td>1990</td>\n    </tr>\n    <tr>\n      <th>26044</th>\n      <td>208774</td>\n      <td>Janet Jackson</td>\n      <td>R&amp;B;</td>\n      <td>1970</td>\n      <td>578999</td>\n      <td>Aaliyah</td>\n      <td>R&amp;B;</td>\n      <td>1990</td>\n    </tr>\n    <tr>\n      <th>27062</th>\n      <td>208774</td>\n      <td>Janet Jackson</td>\n      <td>R&amp;B;</td>\n      <td>1970</td>\n      <td>608945</td>\n      <td>Brandy</td>\n      <td>R&amp;B;</td>\n      <td>1990</td>\n    </tr>\n    <tr>\n      <th>27553</th>\n      <td>208774</td>\n      <td>Janet Jackson</td>\n      <td>R&amp;B;</td>\n      <td>1970</td>\n      <td>621112</td>\n      <td>Mya</td>\n      <td>R&amp;B;</td>\n      <td>1990</td>\n    </tr>\n    <tr>\n      <th>27851</th>\n      <td>208774</td>\n      <td>Janet Jackson</td>\n      <td>R&amp;B;</td>\n      <td>1970</td>\n      <td>628467</td>\n      <td>Britney Spears</td>\n      <td>Pop/Rock</td>\n      <td>1990</td>\n    </tr>\n    <tr>\n      <th>29269</th>\n      <td>208774</td>\n      <td>Janet Jackson</td>\n      <td>R&amp;B;</td>\n      <td>1970</td>\n      <td>673933</td>\n      <td>Mandy Moore</td>\n      <td>Pop/Rock</td>\n      <td>1990</td>\n    </tr>\n    <tr>\n      <th>31569</th>\n      <td>208774</td>\n      <td>Janet Jackson</td>\n      <td>R&amp;B;</td>\n      <td>1970</td>\n      <td>757093</td>\n      <td>Syleena Johnson</td>\n      <td>R&amp;B;</td>\n      <td>2000</td>\n    </tr>\n    <tr>\n      <th>31971</th>\n      <td>208774</td>\n      <td>Janet Jackson</td>\n      <td>R&amp;B;</td>\n      <td>1970</td>\n      <td>761179</td>\n      <td>Beyonc脙漏</td>\n      <td>R&amp;B;</td>\n      <td>1990</td>\n    </tr>\n    <tr>\n      <th>32863</th>\n      <td>208774</td>\n      <td>Janet Jackson</td>\n      <td>R&amp;B;</td>\n      <td>1970</td>\n      <td>775494</td>\n      <td>Cherish</td>\n      <td>R&amp;B;</td>\n      <td>2000</td>\n    </tr>\n    <tr>\n      <th>33142</th>\n      <td>208774</td>\n      <td>Janet Jackson</td>\n      <td>R&amp;B;</td>\n      <td>1970</td>\n      <td>780258</td>\n      <td>Christina Aguilera</td>\n      <td>Pop/Rock</td>\n      <td>1990</td>\n    </tr>\n    <tr>\n      <th>34668</th>\n      <td>208774</td>\n      <td>Janet Jackson</td>\n      <td>R&amp;B;</td>\n      <td>1970</td>\n      <td>803469</td>\n      <td>Dream</td>\n      <td>Pop/Rock</td>\n      <td>1990</td>\n    </tr>\n    <tr>\n      <th>35463</th>\n      <td>208774</td>\n      <td>Janet Jackson</td>\n      <td>R&amp;B;</td>\n      <td>1970</td>\n      <td>814387</td>\n      <td>John Legend</td>\n      <td>R&amp;B;</td>\n      <td>2000</td>\n    </tr>\n    <tr>\n      <th>36899</th>\n      <td>208774</td>\n      <td>Janet Jackson</td>\n      <td>R&amp;B;</td>\n      <td>1970</td>\n      <td>852656</td>\n      <td>RuPaul</td>\n      <td>Pop/Rock</td>\n      <td>1980</td>\n    </tr>\n    <tr>\n      <th>37515</th>\n      <td>208774</td>\n      <td>Janet Jackson</td>\n      <td>R&amp;B;</td>\n      <td>1970</td>\n      <td>866491</td>\n      <td>Maxwell</td>\n      <td>R&amp;B;</td>\n      <td>1990</td>\n    </tr>\n    <tr>\n      <th>39071</th>\n      <td>208774</td>\n      <td>Janet Jackson</td>\n      <td>R&amp;B;</td>\n      <td>1970</td>\n      <td>926021</td>\n      <td>Monifah</td>\n      <td>R&amp;B;</td>\n      <td>1990</td>\n    </tr>\n    <tr>\n      <th>39205</th>\n      <td>208774</td>\n      <td>Janet Jackson</td>\n      <td>R&amp;B;</td>\n      <td>1970</td>\n      <td>927650</td>\n      <td>Tiffany</td>\n      <td>Pop/Rock</td>\n      <td>1980</td>\n    </tr>\n    <tr>\n      <th>39425</th>\n      <td>208774</td>\n      <td>Janet Jackson</td>\n      <td>R&amp;B;</td>\n      <td>1970</td>\n      <td>933898</td>\n      <td>Ashanti</td>\n      <td>R&amp;B;</td>\n      <td>1990</td>\n    </tr>\n    <tr>\n      <th>39510</th>\n      <td>208774</td>\n      <td>Janet Jackson</td>\n      <td>R&amp;B;</td>\n      <td>1970</td>\n      <td>935330</td>\n      <td>Toni Braxton</td>\n      <td>R&amp;B;</td>\n      <td>1980</td>\n    </tr>\n    <tr>\n      <th>41458</th>\n      <td>208774</td>\n      <td>Janet Jackson</td>\n      <td>R&amp;B;</td>\n      <td>1970</td>\n      <td>1878899</td>\n      <td>P!nk</td>\n      <td>Pop/Rock</td>\n      <td>1990</td>\n    </tr>\n    <tr>\n      <th>42242</th>\n      <td>208774</td>\n      <td>Janet Jackson</td>\n      <td>R&amp;B;</td>\n      <td>1970</td>\n      <td>3052730</td>\n      <td>A*M*E</td>\n      <td>Pop/Rock</td>\n      <td>2010</td>\n    </tr>\n    <tr>\n      <th>42528</th>\n      <td>208774</td>\n      <td>Janet Jackson</td>\n      <td>R&amp;B;</td>\n      <td>1970</td>\n      <td>3359519</td>\n      <td>Natalie La Rose</td>\n      <td>R&amp;B;</td>\n      <td>2010</td>\n    </tr>\n  </tbody>\n</table>\n</div>"
     },
     "metadata": {},
     "execution_count": 239
    }
   ],
   "source": [
    "inf_data[inf_data['influencer_id'] ==208774]"
   ]
  },
  {
   "cell_type": "code",
   "execution_count": null,
   "metadata": {},
   "outputs": [],
   "source": []
  },
  {
   "cell_type": "code",
   "execution_count": null,
   "metadata": {},
   "outputs": [],
   "source": []
  }
 ]
}