{
 "metadata": {
  "language_info": {
   "codemirror_mode": {
    "name": "ipython",
    "version": 3
   },
   "file_extension": ".py",
   "mimetype": "text/x-python",
   "name": "python",
   "nbconvert_exporter": "python",
   "pygments_lexer": "ipython3",
   "version": "3.7.0-final"
  },
  "orig_nbformat": 2,
  "kernelspec": {
   "name": "python3",
   "display_name": "Python 3",
   "language": "python"
  }
 },
 "nbformat": 4,
 "nbformat_minor": 2,
 "cells": [
  {
   "source": [
    "# 评价特征\n",
    "+\t重要性（ 出度中心性、介数中心性、紧密中心性）\n",
    "\n",
    "这个参考14论文\n",
    "\n",
    "+\t所在领域竞争力（所在领域的艺术家人数，所在领域人数越多，影响力越大）\n",
    "\n",
    "举例说明：同一水平的英文作家的影响力肯定比祖鲁语作家的影响力高，可以理解为作品类型本身的传播能力\n",
    "\n",
    "+\t所在领域年份人数\n",
    "\n",
    "举例说明：百家争鸣时代的普通天才往往能在星光黯淡的时代大放异彩，可以理解为艺术在所在领域在艺术家活跃期间获取影响力的难度\n",
    "\n",
    "+\t所在领域年份影响力排名（先筛选出艺术家所在领域此年份的所有人，然后根据影响人数进行排名）（排名越小，影响力越大）\n",
    "\n",
    "很直观的指标\n",
    "\n",
    "+\t所在年份竞争力（这一年份的所有领域的艺术家总人数）（竞争力越大，影响力越大）\n",
    "\n",
    "艺术家瓜分影响力这块蛋糕的难度（45用相关性分析后续再决定选择）\n",
    "\n",
    "+\t当前年代追随者数目\n",
    "\n",
    "直观\n",
    "\n",
    "+\t（非当前年代追随者数目）\n",
    "\n",
    "艺术家在创作生涯结束后对未来时代的影响力衡量\n",
    "\n",
    "+\t追随者跨的领域数目\n",
    "\n",
    "艺术家作品对非本领域艺术家的吸引程度，也可以说是艺术家作品所含的纯粹的艺术性的度量"
   ],
   "cell_type": "markdown",
   "metadata": {}
  },
  {
   "cell_type": "code",
   "execution_count": 1,
   "metadata": {},
   "outputs": [],
   "source": [
    "import pandas as pd\n",
    "from bs4 import BeautifulSoup\n",
    "import string\n",
    "import pandas as pd \n",
    "import numpy as np\n",
    "from mpl_toolkits.mplot3d import Axes3D\n",
    "import matplotlib.pyplot as plt\n",
    "import networkx as nx  \n"
   ]
  },
  {
   "cell_type": "code",
   "execution_count": 2,
   "metadata": {},
   "outputs": [],
   "source": [
    "data=pd.read_csv('./2021_ICM_Problem_D_Data/influence_data.csv',encoding='gbk')"
   ]
  },
  {
   "cell_type": "code",
   "execution_count": 3,
   "metadata": {},
   "outputs": [
    {
     "output_type": "execute_result",
     "data": {
      "text/plain": [
       "   influencer_id influencer_name influencer_main_genre  \\\n",
       "0         759491   The Exploited              Pop/Rock   \n",
       "1          25462          Tricky            Electronic   \n",
       "2          66915       Bob Dylan              Pop/Rock   \n",
       "3          71209   Leonard Cohen              Pop/Rock   \n",
       "4          91438    The Gun Club              Pop/Rock   \n",
       "\n",
       "   influencer_active_start  follower_id   follower_name follower_main_genre  \\\n",
       "0                     1980           74  Special Duties            Pop/Rock   \n",
       "1                     1990          335       PJ Harvey            Pop/Rock   \n",
       "2                     1960          335       PJ Harvey            Pop/Rock   \n",
       "3                     1950          335       PJ Harvey            Pop/Rock   \n",
       "4                     1980          335       PJ Harvey            Pop/Rock   \n",
       "\n",
       "   follower_active_start  \n",
       "0                   1980  \n",
       "1                   1990  \n",
       "2                   1990  \n",
       "3                   1990  \n",
       "4                   1990  "
      ],
      "text/html": "<div>\n<style scoped>\n    .dataframe tbody tr th:only-of-type {\n        vertical-align: middle;\n    }\n\n    .dataframe tbody tr th {\n        vertical-align: top;\n    }\n\n    .dataframe thead th {\n        text-align: right;\n    }\n</style>\n<table border=\"1\" class=\"dataframe\">\n  <thead>\n    <tr style=\"text-align: right;\">\n      <th></th>\n      <th>influencer_id</th>\n      <th>influencer_name</th>\n      <th>influencer_main_genre</th>\n      <th>influencer_active_start</th>\n      <th>follower_id</th>\n      <th>follower_name</th>\n      <th>follower_main_genre</th>\n      <th>follower_active_start</th>\n    </tr>\n  </thead>\n  <tbody>\n    <tr>\n      <th>0</th>\n      <td>759491</td>\n      <td>The Exploited</td>\n      <td>Pop/Rock</td>\n      <td>1980</td>\n      <td>74</td>\n      <td>Special Duties</td>\n      <td>Pop/Rock</td>\n      <td>1980</td>\n    </tr>\n    <tr>\n      <th>1</th>\n      <td>25462</td>\n      <td>Tricky</td>\n      <td>Electronic</td>\n      <td>1990</td>\n      <td>335</td>\n      <td>PJ Harvey</td>\n      <td>Pop/Rock</td>\n      <td>1990</td>\n    </tr>\n    <tr>\n      <th>2</th>\n      <td>66915</td>\n      <td>Bob Dylan</td>\n      <td>Pop/Rock</td>\n      <td>1960</td>\n      <td>335</td>\n      <td>PJ Harvey</td>\n      <td>Pop/Rock</td>\n      <td>1990</td>\n    </tr>\n    <tr>\n      <th>3</th>\n      <td>71209</td>\n      <td>Leonard Cohen</td>\n      <td>Pop/Rock</td>\n      <td>1950</td>\n      <td>335</td>\n      <td>PJ Harvey</td>\n      <td>Pop/Rock</td>\n      <td>1990</td>\n    </tr>\n    <tr>\n      <th>4</th>\n      <td>91438</td>\n      <td>The Gun Club</td>\n      <td>Pop/Rock</td>\n      <td>1980</td>\n      <td>335</td>\n      <td>PJ Harvey</td>\n      <td>Pop/Rock</td>\n      <td>1990</td>\n    </tr>\n  </tbody>\n</table>\n</div>"
     },
     "metadata": {},
     "execution_count": 3
    }
   ],
   "source": [
    "data.head()"
   ]
  },
  {
   "source": [
    "# 异常值检测和处理"
   ],
   "cell_type": "markdown",
   "metadata": {}
  },
  {
   "cell_type": "code",
   "execution_count": 11,
   "metadata": {},
   "outputs": [
    {
     "output_type": "execute_result",
     "data": {
      "text/plain": [
       "     influencer_id influencer_name influencer_main_genre  \\\n",
       "190         145443   Fito Olivares                 Latin   \n",
       "320         752945    Paul van Dyk            Electronic   \n",
       "358         172642      Joe Mooney                 Vocal   \n",
       "362         212612  Johnny Hartman                 Vocal   \n",
       "390         307135    Rick Nielsen              Pop/Rock   \n",
       "\n",
       "     influencer_active_start  follower_id follower_name follower_main_genre  \\\n",
       "190                     1990         4852        Selena               Latin   \n",
       "320                     1990         6232  Robert Miles          Electronic   \n",
       "358                     1950         6334  Tony Bennett               Vocal   \n",
       "362                     1950         6334  Tony Bennett               Vocal   \n",
       "390                     1970         7230     Brian May            Pop/Rock   \n",
       "\n",
       "     follower_active_start  \n",
       "190                   1980  \n",
       "320                   1980  \n",
       "358                   1940  \n",
       "362                   1940  \n",
       "390                   1960  "
      ],
      "text/html": "<div>\n<style scoped>\n    .dataframe tbody tr th:only-of-type {\n        vertical-align: middle;\n    }\n\n    .dataframe tbody tr th {\n        vertical-align: top;\n    }\n\n    .dataframe thead th {\n        text-align: right;\n    }\n</style>\n<table border=\"1\" class=\"dataframe\">\n  <thead>\n    <tr style=\"text-align: right;\">\n      <th></th>\n      <th>influencer_id</th>\n      <th>influencer_name</th>\n      <th>influencer_main_genre</th>\n      <th>influencer_active_start</th>\n      <th>follower_id</th>\n      <th>follower_name</th>\n      <th>follower_main_genre</th>\n      <th>follower_active_start</th>\n    </tr>\n  </thead>\n  <tbody>\n    <tr>\n      <th>190</th>\n      <td>145443</td>\n      <td>Fito Olivares</td>\n      <td>Latin</td>\n      <td>1990</td>\n      <td>4852</td>\n      <td>Selena</td>\n      <td>Latin</td>\n      <td>1980</td>\n    </tr>\n    <tr>\n      <th>320</th>\n      <td>752945</td>\n      <td>Paul van Dyk</td>\n      <td>Electronic</td>\n      <td>1990</td>\n      <td>6232</td>\n      <td>Robert Miles</td>\n      <td>Electronic</td>\n      <td>1980</td>\n    </tr>\n    <tr>\n      <th>358</th>\n      <td>172642</td>\n      <td>Joe Mooney</td>\n      <td>Vocal</td>\n      <td>1950</td>\n      <td>6334</td>\n      <td>Tony Bennett</td>\n      <td>Vocal</td>\n      <td>1940</td>\n    </tr>\n    <tr>\n      <th>362</th>\n      <td>212612</td>\n      <td>Johnny Hartman</td>\n      <td>Vocal</td>\n      <td>1950</td>\n      <td>6334</td>\n      <td>Tony Bennett</td>\n      <td>Vocal</td>\n      <td>1940</td>\n    </tr>\n    <tr>\n      <th>390</th>\n      <td>307135</td>\n      <td>Rick Nielsen</td>\n      <td>Pop/Rock</td>\n      <td>1970</td>\n      <td>7230</td>\n      <td>Brian May</td>\n      <td>Pop/Rock</td>\n      <td>1960</td>\n    </tr>\n  </tbody>\n</table>\n</div>"
     },
     "metadata": {},
     "execution_count": 11
    }
   ],
   "source": [
    "data[data['influencer_active_start']>data['follower_active_start']].head()#不将这些influencer比follewer晚的作为异常值\n",
    "#由此可以证明艺术家创作活跃时间有限"
   ]
  },
  {
   "source": [
    "# 制作networkx 有向图对象"
   ],
   "cell_type": "markdown",
   "metadata": {}
  },
  {
   "cell_type": "code",
   "execution_count": 4,
   "metadata": {},
   "outputs": [],
   "source": [
    "G=nx.DiGraph()"
   ]
  },
  {
   "cell_type": "code",
   "execution_count": 5,
   "metadata": {},
   "outputs": [],
   "source": [
    "influencer=[]\n",
    "follower=[]\n",
    "for line in data.iterrows():\n",
    "    influencer.append(line[1]['influencer_id'])\n",
    "    follower.append(line[1]['follower_id'])\n"
   ]
  },
  {
   "cell_type": "code",
   "execution_count": 6,
   "metadata": {},
   "outputs": [],
   "source": [
    "for i in range(len(influencer)):\n",
    "    G.add_edge(influencer[i],follower[i])#此处有向图的指向是1指向2"
   ]
  },
  {
   "cell_type": "code",
   "execution_count": 12,
   "metadata": {},
   "outputs": [],
   "source": [
    "nodes=G.node()"
   ]
  },
  {
   "source": [
    "# 异常值处理2\n",
    "+ id为[893383, 303506, 957340]的influencer出现了统计错误，分别把他们的一个follower作为id对应的influncer的名字和年份了\n",
    "\n",
    "我们将这类错误行全部删除"
   ],
   "cell_type": "markdown",
   "metadata": {}
  },
  {
   "cell_type": "code",
   "execution_count": 19,
   "metadata": {},
   "outputs": [
    {
     "output_type": "execute_result",
     "data": {
      "text/plain": [
       "[893383, 303506, 957340]"
      ]
     },
     "metadata": {},
     "execution_count": 19
    }
   ],
   "source": [
    "error_list\n",
    "#id=893383的全删除，因为两只乐队都不多且混杂严重\n",
    "#删除id=303506，姓名为Day26的一行（因为其它24行是usher）"
   ]
  },
  {
   "cell_type": "code",
   "execution_count": 27,
   "metadata": {},
   "outputs": [
    {
     "output_type": "execute_result",
     "data": {
      "text/plain": [
       "       influencer_id influencer_name influencer_main_genre  \\\n",
       "6450          893383       The Muffs              Pop/Rock   \n",
       "6644          893383       The Kills              Pop/Rock   \n",
       "18669         893383       The Muffs              Pop/Rock   \n",
       "20046         893383       The Muffs              Pop/Rock   \n",
       "26355         893383       The Muffs              Pop/Rock   \n",
       "33376         893383       The Muffs              Pop/Rock   \n",
       "41095         893383       The Muffs              Pop/Rock   \n",
       "\n",
       "       influencer_active_start  follower_id    follower_name  \\\n",
       "6450                      1990        97200          Bracket   \n",
       "6644                      1990        99508        The Kills   \n",
       "18669                     1990       329232  New Found Glory   \n",
       "20046                     1990       366681         Paramore   \n",
       "26355                     1990       585574           Sum 41   \n",
       "33376                     1990       784535       The Donnas   \n",
       "41095                     1990      1013109       Hey Monday   \n",
       "\n",
       "      follower_main_genre  follower_active_start  \n",
       "6450             Pop/Rock                   1990  \n",
       "6644             Pop/Rock                   2000  \n",
       "18669            Pop/Rock                   1990  \n",
       "20046            Pop/Rock                   2000  \n",
       "26355            Pop/Rock                   1990  \n",
       "33376            Pop/Rock                   1990  \n",
       "41095            Pop/Rock                   2000  "
      ],
      "text/html": "<div>\n<style scoped>\n    .dataframe tbody tr th:only-of-type {\n        vertical-align: middle;\n    }\n\n    .dataframe tbody tr th {\n        vertical-align: top;\n    }\n\n    .dataframe thead th {\n        text-align: right;\n    }\n</style>\n<table border=\"1\" class=\"dataframe\">\n  <thead>\n    <tr style=\"text-align: right;\">\n      <th></th>\n      <th>influencer_id</th>\n      <th>influencer_name</th>\n      <th>influencer_main_genre</th>\n      <th>influencer_active_start</th>\n      <th>follower_id</th>\n      <th>follower_name</th>\n      <th>follower_main_genre</th>\n      <th>follower_active_start</th>\n    </tr>\n  </thead>\n  <tbody>\n    <tr>\n      <th>6450</th>\n      <td>893383</td>\n      <td>The Muffs</td>\n      <td>Pop/Rock</td>\n      <td>1990</td>\n      <td>97200</td>\n      <td>Bracket</td>\n      <td>Pop/Rock</td>\n      <td>1990</td>\n    </tr>\n    <tr>\n      <th>6644</th>\n      <td>893383</td>\n      <td>The Kills</td>\n      <td>Pop/Rock</td>\n      <td>1990</td>\n      <td>99508</td>\n      <td>The Kills</td>\n      <td>Pop/Rock</td>\n      <td>2000</td>\n    </tr>\n    <tr>\n      <th>18669</th>\n      <td>893383</td>\n      <td>The Muffs</td>\n      <td>Pop/Rock</td>\n      <td>1990</td>\n      <td>329232</td>\n      <td>New Found Glory</td>\n      <td>Pop/Rock</td>\n      <td>1990</td>\n    </tr>\n    <tr>\n      <th>20046</th>\n      <td>893383</td>\n      <td>The Muffs</td>\n      <td>Pop/Rock</td>\n      <td>1990</td>\n      <td>366681</td>\n      <td>Paramore</td>\n      <td>Pop/Rock</td>\n      <td>2000</td>\n    </tr>\n    <tr>\n      <th>26355</th>\n      <td>893383</td>\n      <td>The Muffs</td>\n      <td>Pop/Rock</td>\n      <td>1990</td>\n      <td>585574</td>\n      <td>Sum 41</td>\n      <td>Pop/Rock</td>\n      <td>1990</td>\n    </tr>\n    <tr>\n      <th>33376</th>\n      <td>893383</td>\n      <td>The Muffs</td>\n      <td>Pop/Rock</td>\n      <td>1990</td>\n      <td>784535</td>\n      <td>The Donnas</td>\n      <td>Pop/Rock</td>\n      <td>1990</td>\n    </tr>\n    <tr>\n      <th>41095</th>\n      <td>893383</td>\n      <td>The Muffs</td>\n      <td>Pop/Rock</td>\n      <td>1990</td>\n      <td>1013109</td>\n      <td>Hey Monday</td>\n      <td>Pop/Rock</td>\n      <td>2000</td>\n    </tr>\n  </tbody>\n</table>\n</div>"
     },
     "metadata": {},
     "execution_count": 27
    }
   ],
   "source": [
    "data[data['influencer_id']==893383]"
   ]
  },
  {
   "cell_type": "code",
   "execution_count": 34,
   "metadata": {},
   "outputs": [],
   "source": [
    "data.drop([6644,29381,37697],inplace=True)"
   ]
  },
  {
   "source": [
    "# factor1 重要度计算"
   ],
   "cell_type": "markdown",
   "metadata": {}
  },
  {
   "cell_type": "code",
   "execution_count": 35,
   "metadata": {},
   "outputs": [],
   "source": [
    "deg=nx.out_degree_centrality(G)#出度中心性"
   ]
  },
  {
   "cell_type": "code",
   "execution_count": 36,
   "metadata": {},
   "outputs": [],
   "source": [
    "bet=nx.betweenness_centrality(G)#介数中心性"
   ]
  },
  {
   "cell_type": "code",
   "execution_count": 37,
   "metadata": {},
   "outputs": [],
   "source": [
    "clo=nx.closeness_centrality(G)#紧密度中心性"
   ]
  },
  {
   "cell_type": "code",
   "execution_count": 48,
   "metadata": {},
   "outputs": [],
   "source": [
    "maxclo_key=0\n",
    "maxclo_value=0\n",
    "for i in clo:\n",
    "    if clo[i]>maxclo_value:\n",
    "        maxclo_value=clo[i]\n",
    "        maxclo_key=i\n"
   ]
  },
  {
   "cell_type": "code",
   "execution_count": 49,
   "metadata": {},
   "outputs": [],
   "source": [
    "maxbet_key=0\n",
    "maxbet_value=0\n",
    "for i in bet:\n",
    "    if bet[i]>maxbet_value:\n",
    "        maxbet_value=bet[i]\n",
    "        maxbet_key=i\n"
   ]
  },
  {
   "cell_type": "code",
   "execution_count": 50,
   "metadata": {},
   "outputs": [],
   "source": [
    "maxdeg_key=0\n",
    "maxdeg_value=0\n",
    "for i in deg:\n",
    "    if deg[i]>maxdeg_value:\n",
    "        maxdeg_value=bet[i]\n",
    "        maxdeg_key=i\n"
   ]
  },
  {
   "cell_type": "code",
   "execution_count": 56,
   "metadata": {},
   "outputs": [],
   "source": [
    "#每个人的向量\n",
    "arrays={}\n",
    "for node in nodes:\n",
    "    array=[]\n",
    "    array.append(deg[node]/maxdeg_value)\n",
    "    array.append(bet[node]/maxbet_value)\n",
    "    array.append(clo[node]/maxclo_value)\n",
    "    arrays[node]=array"
   ]
  },
  {
   "cell_type": "code",
   "execution_count": 57,
   "metadata": {},
   "outputs": [],
   "source": [
    "idea_array=[1,1,0]"
   ]
  },
  {
   "cell_type": "code",
   "execution_count": 58,
   "metadata": {},
   "outputs": [],
   "source": [
    "#算距离\n",
    "distances={}\n",
    "for array in arrays:\n",
    "    distance=np.square(arrays[array][0]-idea_array[0])+np.square(arrays[array][1]-idea_array[1])+np.square(arrays[array][2]-idea_array[2])\n",
    "    distance=np.sqrt(distance)\n",
    "    distances[array]=distance"
   ]
  },
  {
   "cell_type": "code",
   "execution_count": null,
   "metadata": {},
   "outputs": [],
   "source": []
  }
 ]
}